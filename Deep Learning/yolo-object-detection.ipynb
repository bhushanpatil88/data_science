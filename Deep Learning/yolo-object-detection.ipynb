{
 "cells": [
  {
   "cell_type": "code",
   "execution_count": 1,
   "id": "2c9b0908",
   "metadata": {
    "_cell_guid": "b1076dfc-b9ad-4769-8c92-a6c4dae69d19",
    "_uuid": "8f2839f25d086af736a60e9eeb907d3b93b6e0e5",
    "execution": {
     "iopub.execute_input": "2023-04-13T15:19:04.257385Z",
     "iopub.status.busy": "2023-04-13T15:19:04.256625Z",
     "iopub.status.idle": "2023-04-13T15:19:07.291915Z",
     "shell.execute_reply": "2023-04-13T15:19:07.290835Z"
    },
    "papermill": {
     "duration": 3.048148,
     "end_time": "2023-04-13T15:19:07.294825",
     "exception": false,
     "start_time": "2023-04-13T15:19:04.246677",
     "status": "completed"
    },
    "tags": []
   },
   "outputs": [],
   "source": [
    "import torch\n",
    "import torch.nn as nn\n",
    "\n",
    "import numpy as np\n",
    "import matplotlib.pyplot as plt\n",
    "import matplotlib.patches as patches\n",
    "from collections import Counter\n",
    "\n",
    "import os\n",
    "import sys\n",
    "\n",
    "import pandas as pd\n",
    "from PIL import Image\n",
    "\n",
    "import torchvision.transforms as transforms\n",
    "import torch.optim as optim\n",
    "import torchvision.transforms.functional as FT\n",
    "from tqdm import tqdm\n",
    "from torch.utils.data import DataLoader\n",
    "#https://www.kaggle.com/code/dqhdqmcttdqx/yolov3-for-pascal-voc/notebook"
   ]
  },
  {
   "cell_type": "markdown",
   "id": "d20946d1",
   "metadata": {
    "papermill": {
     "duration": 0.007291,
     "end_time": "2023-04-13T15:19:07.309875",
     "exception": false,
     "start_time": "2023-04-13T15:19:07.302584",
     "status": "completed"
    },
    "tags": []
   },
   "source": [
    "# **Architecture**"
   ]
  },
  {
   "cell_type": "code",
   "execution_count": 2,
   "id": "bcc9683a",
   "metadata": {
    "execution": {
     "iopub.execute_input": "2023-04-13T15:19:07.326515Z",
     "iopub.status.busy": "2023-04-13T15:19:07.326039Z",
     "iopub.status.idle": "2023-04-13T15:19:07.333506Z",
     "shell.execute_reply": "2023-04-13T15:19:07.332465Z"
    },
    "papermill": {
     "duration": 0.018132,
     "end_time": "2023-04-13T15:19:07.335664",
     "exception": false,
     "start_time": "2023-04-13T15:19:07.317532",
     "status": "completed"
    },
    "tags": []
   },
   "outputs": [],
   "source": [
    "architecture_config = [\n",
    "    # (filter_size, num of filters, stride, padding)\n",
    "    (7, 64, 2, 3),\n",
    "    \"M\",                  # maxpooling\n",
    "    (3, 192, 1, 1),\n",
    "    \"M\",                  # maxpooling\n",
    "    (1, 128, 1, 0),\n",
    "    (3, 256, 1, 1),\n",
    "    (1, 256, 1, 0),\n",
    "    (3, 512, 1, 1),\n",
    "    \"M\",                  # maxpooling\n",
    "    [(1, 256, 1, 0), (3, 512, 1, 1), 4],       # tuples and number of repeats=4\n",
    "    (1, 512, 1, 0),\n",
    "    (3, 1024, 1, 1),\n",
    "    \"M\",                  # maxpooling\n",
    "    [(1, 512, 1, 0), (3, 1024, 1, 1), 2],       # tuples and number of repeats=2\n",
    "    (3, 1024, 1, 1),\n",
    "    (3, 1024, 2, 1),\n",
    "    (3, 1024, 1, 1),\n",
    "    (3, 1024, 1, 1),\n",
    "]"
   ]
  },
  {
   "cell_type": "markdown",
   "id": "609f51d4",
   "metadata": {
    "papermill": {
     "duration": 0.00739,
     "end_time": "2023-04-13T15:19:07.350575",
     "exception": false,
     "start_time": "2023-04-13T15:19:07.343185",
     "status": "completed"
    },
    "tags": []
   },
   "source": [
    "# **CNN BLOCK**"
   ]
  },
  {
   "cell_type": "code",
   "execution_count": 3,
   "id": "b3573aab",
   "metadata": {
    "execution": {
     "iopub.execute_input": "2023-04-13T15:19:07.367941Z",
     "iopub.status.busy": "2023-04-13T15:19:07.367042Z",
     "iopub.status.idle": "2023-04-13T15:19:07.373885Z",
     "shell.execute_reply": "2023-04-13T15:19:07.372950Z"
    },
    "papermill": {
     "duration": 0.017559,
     "end_time": "2023-04-13T15:19:07.376034",
     "exception": false,
     "start_time": "2023-04-13T15:19:07.358475",
     "status": "completed"
    },
    "tags": []
   },
   "outputs": [],
   "source": [
    "class CNNBlock(nn.Module):\n",
    "    def __init__(self, in_channels, out_channels, **kwargs):\n",
    "        super(CNNBlock, self).__init__()\n",
    "        self.conv = nn.Conv2d(in_channels, out_channels, bias=False, **kwargs)\n",
    "        self.batchnorm = nn.BatchNorm2d(out_channels)\n",
    "        self.leakyrelu = nn.LeakyReLU(0.1)\n",
    "\n",
    "    def forward(self, x):\n",
    "        return self.leakyrelu(self.batchnorm(self.conv(x)))"
   ]
  },
  {
   "cell_type": "markdown",
   "id": "2826c505",
   "metadata": {
    "papermill": {
     "duration": 0.007335,
     "end_time": "2023-04-13T15:19:07.390853",
     "exception": false,
     "start_time": "2023-04-13T15:19:07.383518",
     "status": "completed"
    },
    "tags": []
   },
   "source": [
    "# **Actual Model**"
   ]
  },
  {
   "cell_type": "code",
   "execution_count": 4,
   "id": "da5c1db7",
   "metadata": {
    "execution": {
     "iopub.execute_input": "2023-04-13T15:19:07.407644Z",
     "iopub.status.busy": "2023-04-13T15:19:07.406751Z",
     "iopub.status.idle": "2023-04-13T15:19:07.418991Z",
     "shell.execute_reply": "2023-04-13T15:19:07.418140Z"
    },
    "papermill": {
     "duration": 0.02276,
     "end_time": "2023-04-13T15:19:07.421067",
     "exception": false,
     "start_time": "2023-04-13T15:19:07.398307",
     "status": "completed"
    },
    "tags": []
   },
   "outputs": [],
   "source": [
    "class Yolo(nn.Module):\n",
    "    def __init__(self, in_channels=3, **kwargs):\n",
    "        super(Yolo, self).__init__()\n",
    "        self.architecture = architecture_config\n",
    "        self.in_channels = in_channels\n",
    "        self.darknet = self._create_conv_layers(self.architecture)\n",
    "        self.fcs = self._create_fcs(**kwargs)\n",
    "    \n",
    "    # Forward Propagation\n",
    "    def forward(self, x):\n",
    "        x = self.darknet(x)\n",
    "        return self.fcs(torch.flatten(x, start_dim=1))\n",
    "    # Form the Model\n",
    "    def _create_conv_layers(self, architecture):\n",
    "        layers = []\n",
    "        in_channels = self.in_channels\n",
    "\n",
    "        for x in architecture:\n",
    "            if type(x) == tuple:\n",
    "                layers += [ CNNBlock(in_channels, x[1], kernel_size=x[0], stride=x[2], padding=x[3]) ]\n",
    "                in_channels = x[1]\n",
    "\n",
    "            elif type(x) == str:\n",
    "                layers += [ nn.MaxPool2d(kernel_size=(2, 2), stride=(2, 2)) ]\n",
    "\n",
    "            elif type(x) == list:\n",
    "                conv1 = x[0]\n",
    "                conv2 = x[1]\n",
    "                num_repeats = x[2]\n",
    "\n",
    "                for _ in range(num_repeats):\n",
    "                    layers += [ CNNBlock(in_channels, conv1[1], kernel_size=conv1[0], stride=conv1[2], padding=conv1[3]) ]\n",
    "                    layers += [ CNNBlock(conv1[1], conv2[1], kernel_size=conv2[0], stride=conv2[2], padding=conv2[3]) ]\n",
    "                    in_channels = conv2[1]\n",
    "\n",
    "        return nn.Sequential(*layers)\n",
    "    \n",
    "    def _create_fcs(self, split_size, num_boxes, num_classes):\n",
    "        # S = 7 , B = 2 C = 20\n",
    "        S, B, C = split_size, num_boxes, num_classes\n",
    "\n",
    "        return nn.Sequential(\n",
    "            nn.Flatten(),\n",
    "            nn.Linear(1024 * S * S, 496),\n",
    "            nn.Dropout(0.0),\n",
    "            nn.LeakyReLU(0.1),\n",
    "            nn.Linear(496, S * S * (C + B * 5)), #(7,7,30)\n",
    "        )"
   ]
  },
  {
   "cell_type": "markdown",
   "id": "21046d63",
   "metadata": {
    "papermill": {
     "duration": 0.006978,
     "end_time": "2023-04-13T15:19:07.436115",
     "exception": false,
     "start_time": "2023-04-13T15:19:07.429137",
     "status": "completed"
    },
    "tags": []
   },
   "source": [
    "# **IOU**"
   ]
  },
  {
   "cell_type": "code",
   "execution_count": 5,
   "id": "2a32480f",
   "metadata": {
    "execution": {
     "iopub.execute_input": "2023-04-13T15:19:07.451964Z",
     "iopub.status.busy": "2023-04-13T15:19:07.451701Z",
     "iopub.status.idle": "2023-04-13T15:19:07.463145Z",
     "shell.execute_reply": "2023-04-13T15:19:07.462275Z"
    },
    "papermill": {
     "duration": 0.021867,
     "end_time": "2023-04-13T15:19:07.465272",
     "exception": false,
     "start_time": "2023-04-13T15:19:07.443405",
     "status": "completed"
    },
    "tags": []
   },
   "outputs": [],
   "source": [
    "def intersection_over_union(boxes_preds, boxes_labels, box_format=\"midpoint\"):\n",
    "    \"\"\"\n",
    "    Parameters:\n",
    "        boxes_preds (tensor): Predictions of Bounding Boxes (BATCH_SIZE, 4)\n",
    "        boxes_labels (tensor): Correct labels of Bounding Boxes (BATCH_SIZE, 4)\n",
    "        box_format (str): midpoint/corners, if boxes (x,y,w,h) or (x1,y1,x2,y2)\n",
    "    Returns:\n",
    "        tensor: Intersection over union for all examples\n",
    "    \"\"\"\n",
    "\n",
    "    if box_format == \"midpoint\":\n",
    "        box1_x1 = boxes_preds[..., 0:1] - boxes_preds[..., 2:3] / 2\n",
    "        box1_y1 = boxes_preds[..., 1:2] - boxes_preds[..., 3:4] / 2\n",
    "        box1_x2 = boxes_preds[..., 0:1] + boxes_preds[..., 2:3] / 2\n",
    "        box1_y2 = boxes_preds[..., 1:2] + boxes_preds[..., 3:4] / 2\n",
    "        box2_x1 = boxes_labels[..., 0:1] - boxes_labels[..., 2:3] / 2\n",
    "        box2_y1 = boxes_labels[..., 1:2] - boxes_labels[..., 3:4] / 2\n",
    "        box2_x2 = boxes_labels[..., 0:1] + boxes_labels[..., 2:3] / 2\n",
    "        box2_y2 = boxes_labels[..., 1:2] + boxes_labels[..., 3:4] / 2\n",
    "\n",
    "    if box_format == \"corners\":\n",
    "        box1_x1 = boxes_preds[..., 0:1]\n",
    "        box1_y1 = boxes_preds[..., 1:2]\n",
    "        box1_x2 = boxes_preds[..., 2:3]\n",
    "        box1_y2 = boxes_preds[..., 3:4]  # (N, 1)\n",
    "        box2_x1 = boxes_labels[..., 0:1]\n",
    "        box2_y1 = boxes_labels[..., 1:2]\n",
    "        box2_x2 = boxes_labels[..., 2:3]\n",
    "        box2_y2 = boxes_labels[..., 3:4]\n",
    "\n",
    "    x1 = torch.max(box1_x1, box2_x1)\n",
    "    y1 = torch.max(box1_y1, box2_y1)\n",
    "    x2 = torch.min(box1_x2, box2_x2)\n",
    "    y2 = torch.min(box1_y2, box2_y2)\n",
    "\n",
    "    intersection = (x2 - x1).clamp(0) * (y2 - y1).clamp(0)\n",
    "\n",
    "    box1_area = abs((box1_x2 - box1_x1) * (box1_y2 - box1_y1))\n",
    "    box2_area = abs((box2_x2 - box2_x1) * (box2_y2 - box2_y1))\n",
    "\n",
    "    return intersection / (box1_area + box2_area - intersection + 1e-6)"
   ]
  },
  {
   "cell_type": "markdown",
   "id": "59477165",
   "metadata": {
    "papermill": {
     "duration": 0.007253,
     "end_time": "2023-04-13T15:19:07.479705",
     "exception": false,
     "start_time": "2023-04-13T15:19:07.472452",
     "status": "completed"
    },
    "tags": []
   },
   "source": [
    "# **YOLO LOSS**"
   ]
  },
  {
   "cell_type": "code",
   "execution_count": 6,
   "id": "2159f003",
   "metadata": {
    "execution": {
     "iopub.execute_input": "2023-04-13T15:19:07.496094Z",
     "iopub.status.busy": "2023-04-13T15:19:07.495813Z",
     "iopub.status.idle": "2023-04-13T15:19:07.510720Z",
     "shell.execute_reply": "2023-04-13T15:19:07.509639Z"
    },
    "papermill": {
     "duration": 0.025725,
     "end_time": "2023-04-13T15:19:07.512832",
     "exception": false,
     "start_time": "2023-04-13T15:19:07.487107",
     "status": "completed"
    },
    "tags": []
   },
   "outputs": [],
   "source": [
    "class YoloLoss(nn.Module):\n",
    "    def __init__(self, S=7, B=2, C=20):\n",
    "        super(YoloLoss, self).__init__()\n",
    "        self.mse = nn.MSELoss(reduction=\"sum\")\n",
    "\n",
    "        \"\"\"\n",
    "        S - split size of image\n",
    "        B - number of boxes\n",
    "        C - number of classes\n",
    "        \"\"\"\n",
    "        self.S = S\n",
    "        self.B = B\n",
    "        self.C = C\n",
    "\n",
    "        # for calculating loss for no object (noobj) and the box coordinates (coord)\n",
    "        self.lambda_noobj = 0.5\n",
    "        self.lambda_coord = 5\n",
    "\n",
    "    def forward(self, predictions, target):\n",
    "        # input predictions are shaped (BATCH_SIZE, S * S * (C + B * 5)\n",
    "        predictions = predictions.reshape(-1, self.S, self.S, self.C + self.B * 5)\n",
    "\n",
    "        # Calculate IoU for the two predicted bounding boxes with target bbox\n",
    "        iou_b1 = intersection_over_union(predictions[..., 21:25], target[..., 21:25])\n",
    "        iou_b2 = intersection_over_union(predictions[..., 26:30], target[..., 21:25])\n",
    "        ious = torch.cat([iou_b1.unsqueeze(0), iou_b2.unsqueeze(0)], dim=0)\n",
    "\n",
    "        # Take the box with highest IoU out of the two prediction\n",
    "        iou_maxes, bestbox = torch.max(ious, dim=0)\n",
    "        exists_box = target[..., 20].unsqueeze(3)  # Object is present or not\n",
    "\n",
    "\n",
    "        #   FOR BOX COORDINATES    #\n",
    "    \n",
    "       # Set boxes with no object in them to 0. We only take out the prediction with highest Iou\n",
    "        box_predictions = exists_box * (\n",
    "            bestbox * predictions[..., 26:30]\n",
    "            + (1 - bestbox) * predictions[..., 21:25]\n",
    "        )\n",
    "\n",
    "        box_targets = exists_box * target[..., 21:25]\n",
    "\n",
    "        # Take sqrt of width, height\n",
    "        box_predictions[..., 2:4] = torch.sign(box_predictions[..., 2:4]) * torch.sqrt(torch.abs(box_predictions[..., 2:4] + 1e-6))\n",
    "        box_targets[..., 2:4] = torch.sqrt(box_targets[..., 2:4])\n",
    "        \n",
    "        #(N,S,S,4) -> (N*S*S,4)\n",
    "        box_loss = self.mse(\n",
    "            torch.flatten(box_predictions, end_dim=-2),\n",
    "            torch.flatten(box_targets, end_dim=-2),\n",
    "        )\n",
    "\n",
    "      \n",
    "        #   FOR OBJECT LOSS    #\n",
    "              # pred_box is the confidence score for the bbox with highest IoU\n",
    "        pred_box = bestbox * predictions[..., 25:26] + (1 - bestbox) * predictions[..., 20:21]\n",
    "        \n",
    "        # (N,S,S)\n",
    "        object_loss = self.mse(\n",
    "            torch.flatten(exists_box * pred_box),\n",
    "            torch.flatten(exists_box * target[..., 20:21]),\n",
    "        )\n",
    "\n",
    " \n",
    "        #   FOR NO OBJECT LOSS    #\n",
    "        # (N,S,S,1) -> (N,S*S)\n",
    "        no_object_loss = self.mse(\n",
    "            torch.flatten((1 - exists_box) * predictions[..., 20:21], start_dim=1),\n",
    "            torch.flatten((1 - exists_box) * target[..., 20:21], start_dim=1),\n",
    "        )\n",
    "\n",
    "        no_object_loss += self.mse(\n",
    "            torch.flatten((1 - exists_box) * predictions[..., 25:26], start_dim=1),\n",
    "            torch.flatten((1 - exists_box) * target[..., 20:21], start_dim=1)\n",
    "        )\n",
    "\n",
    "    \n",
    "        #   FOR CLASS LOSS   #\n",
    "         # (N,S,S,20) -> (N*S*S,20)\n",
    "        class_loss = self.mse(\n",
    "            torch.flatten(exists_box * predictions[..., :20], end_dim=-2,),\n",
    "            torch.flatten(exists_box * target[..., :20], end_dim=-2,),\n",
    "        )\n",
    "\n",
    "        loss = (\n",
    "            self.lambda_coord * box_loss\n",
    "            + object_loss\n",
    "            + self.lambda_noobj * no_object_loss\n",
    "            + class_loss\n",
    "        )\n",
    "\n",
    "        return loss"
   ]
  },
  {
   "cell_type": "markdown",
   "id": "95f54c32",
   "metadata": {
    "papermill": {
     "duration": 0.007321,
     "end_time": "2023-04-13T15:19:07.527468",
     "exception": false,
     "start_time": "2023-04-13T15:19:07.520147",
     "status": "completed"
    },
    "tags": []
   },
   "source": [
    "# **Dataset Creation**"
   ]
  },
  {
   "cell_type": "code",
   "execution_count": 7,
   "id": "b44f0de0",
   "metadata": {
    "execution": {
     "iopub.execute_input": "2023-04-13T15:19:07.543567Z",
     "iopub.status.busy": "2023-04-13T15:19:07.543305Z",
     "iopub.status.idle": "2023-04-13T15:19:07.562577Z",
     "shell.execute_reply": "2023-04-13T15:19:07.561217Z"
    },
    "papermill": {
     "duration": 0.02963,
     "end_time": "2023-04-13T15:19:07.564553",
     "exception": true,
     "start_time": "2023-04-13T15:19:07.534923",
     "status": "failed"
    },
    "tags": []
   },
   "outputs": [
    {
     "ename": "SyntaxError",
     "evalue": "invalid character in identifier (3035381535.py, line 45)",
     "output_type": "error",
     "traceback": [
      "\u001b[0;36m  File \u001b[0;32m\"/tmp/ipykernel_22/3035381535.py\"\u001b[0;36m, line \u001b[0;32m45\u001b[0m\n\u001b[0;31m    ​\u001b[0m\n\u001b[0m    ^\u001b[0m\n\u001b[0;31mSyntaxError\u001b[0m\u001b[0;31m:\u001b[0m invalid character in identifier\n"
     ]
    }
   ],
   "source": [
    "class VOCDataset(torch.utils.data.Dataset):\n",
    "    def __init__(self, csv_file, img_dir, label_dir, S=7, B=2, C=20, transform=None):\n",
    "        self.annotations = pd.read_csv(csv_file)\n",
    "        self.img_dir = img_dir\n",
    "        self.label_dir = label_dir\n",
    "        self.transform = transform\n",
    "        self.S = S\n",
    "        self.B = B\n",
    "        self.C = C\n",
    "\n",
    "    def __len__(self):\n",
    "        return len(self.annotations)\n",
    "\n",
    "    def __getitem__(self, index):\n",
    "        label_path = os.path.join(self.label_dir, self.annotations.iloc[index, 1])\n",
    "        boxes = []\n",
    "        with open(label_path) as f:\n",
    "            for label in f.readlines():\n",
    "                class_label, x, y, width, height = [\n",
    "                    float(x) if float(x) != int(float(x)) else int(x)\n",
    "                    for x in label.replace(\"\\n\", \"\").split()\n",
    "                ]\n",
    "\n",
    "                boxes.append([class_label, x, y, width, height])\n",
    "\n",
    "        img_path = os.path.join(self.img_dir, self.annotations.iloc[index, 0])\n",
    "        image = Image.open(img_path)\n",
    "        boxes = torch.tensor(boxes)\n",
    "\n",
    "        if self.transform:\n",
    "            image, boxes = self.transform(image, boxes)\n",
    "\n",
    "        # Convert To Cellsdef mean_average_precision(pred_boxes, true_boxes, iou_threshold=0.5, box_format=\"midpoint\", num_classes=20):\n",
    "    \"\"\"\n",
    "    Parameters:\n",
    "        pred_boxes (list): list of lists containing all bboxes with each bboxes\n",
    "        specified as [train_idx, class_prediction, prob_score, x1, y1, x2, y2]\n",
    "        true_boxes (list): Similar as pred_boxes except all the correct ones \n",
    "        iou_threshold (float): threshold where predicted bboxes is correct\n",
    "        box_format (str): \"midpoint\" or \"corners\" used to specify bboxes\n",
    "        num_classes (int): number of classes\n",
    "    Returns:\n",
    "        float: mAP value across all classes given a specific IoU threshold \n",
    "    \"\"\"\n",
    "​\n",
    "    average_precisions = []\n",
    "    epsilon = 1e-6\n",
    "​\n",
    "    for c in range(num_classes):\n",
    "        detections = []\n",
    "        ground_truths = []\n",
    "​\n",
    "        # Go through all predictions and targets, and only add the ones that belong to the current class c\n",
    "        for detection in pred_boxes:\n",
    "            if detection[1] == c:\n",
    "                detections.append(detection)\n",
    "​\n",
    "        for true_box in true_boxes:\n",
    "            if true_box[1] == c:\n",
    "                ground_truths.append(true_box)\n",
    "​\n",
    "        # find the amount of bboxes for each training example\n",
    "        amount_bboxes = Counter([gt[0] for gt in ground_truths])\n",
    "​\n",
    "        for key, val in amount_bboxes.items():\n",
    "            amount_bboxes[key] = torch.zeros(val)\n",
    "​\n",
    "        # sort by box probabilities which is index 2\n",
    "        detections.sort(key=lambda x: x[2], reverse=True)\n",
    "        TP = torch.zeros((len(detections)))\n",
    "        FP = torch.zeros((len(detections)))\n",
    "        total_true_bboxes = len(ground_truths)\n",
    "        \n",
    "        if total_true_bboxes == 0:\n",
    "            continue\n",
    "​\n",
    "        for detection_idx, detection in enumerate(detections):\n",
    "            ground_truth_img = [ bbox for bbox in ground_truths if bbox[0] == detection[0] ]\n",
    "​\n",
    "            num_gts = len(ground_truth_img)\n",
    "            best_iou = 0\n",
    "​\n",
    "            for idx, gt in enumerate(ground_truth_img):\n",
    "                iou = intersection_over_union(\n",
    "                    torch.tensor(detection[3:]),\n",
    "                    torch.tensor(gt[3:]),\n",
    "                    box_format=box_format,\n",
    "                )\n",
    "​\n",
    "                if iou > best_iou:\n",
    "                    best_iou = iou\n",
    "                    best_gt_idx = idx\n",
    "​\n",
    "            if best_iou > iou_threshold:\n",
    "                # only detect ground truth detection once\n",
    "                if amount_bboxes[detection[0]][best_gt_idx] == 0:\n",
    "                    # true positive and add this bounding box to seen\n",
    "                    TP[detection_idx] = 1\n",
    "                    amount_bboxes[detection[0]][best_gt_idx] = 1\n",
    "                else:\n",
    "                    FP[detection_idx] = 1\n",
    "​\n",
    "            # if IOU is lower then the detection is a false positive\n",
    "            else:\n",
    "                FP[detection_idx] = 1\n",
    "​\n",
    "        TP_cumsum = torch.cumsum(TP, dim=0)\n",
    "        FP_cumsum = torch.cumsum(FP, dim=0)\n",
    "        recalls = TP_cumsum / (total_true_bboxes + epsilon)\n",
    "        precisions = torch.divide(TP_cu\n",
    "        label_matrix = torch.zeros((self.S, self.S, self.C + 5 * self.B))\n",
    "        for box in boxes:\n",
    "            class_label, x, y, width, height = box.tolist()\n",
    "            class_label = int(class_label)\n",
    "\n",
    "            i, j = int(self.S * y), int(self.S * x)\n",
    "            x_cell, y_cell = self.S * x - j, self.S * y - i\n",
    "\n",
    "            \"\"\"\n",
    "            Calculating the width and height of cell of bounding box relative to the cell\n",
    "            \"\"\"\n",
    "            width_cell, height_cell = width * self.S, height * self.S\n",
    "\n",
    "            # If no object already found for specific cell i,j\n",
    "            # restrict to ONE object per cell\n",
    "            \n",
    "            if label_matrix[i, j, 20] == 0:\n",
    "                # Set that there exists an object\n",
    "                label_matrix[i, j, 20] = 1\n",
    "\n",
    "                box_coordinates = torch.tensor( [x_cell, y_cell, width_cell, height_cell] )\n",
    "\n",
    "                label_matrix[i, j, 21:25] = box_coordinates\n",
    "\n",
    "                # Set one hot encoding for class_label\n",
    "                label_matrix[i, j, class_label] = 1\n",
    "\n",
    "        return image, label_matrix"
   ]
  },
  {
   "cell_type": "markdown",
   "id": "01e4cd45",
   "metadata": {
    "papermill": {
     "duration": null,
     "end_time": null,
     "exception": null,
     "start_time": null,
     "status": "pending"
    },
    "tags": []
   },
   "source": [
    "# **MEAN Average Precision**"
   ]
  },
  {
   "cell_type": "code",
   "execution_count": null,
   "id": "8099f9bf",
   "metadata": {
    "execution": {
     "iopub.execute_input": "2023-04-10T17:37:08.900295Z",
     "iopub.status.busy": "2023-04-10T17:37:08.899915Z",
     "iopub.status.idle": "2023-04-10T17:37:08.914552Z",
     "shell.execute_reply": "2023-04-10T17:37:08.913436Z",
     "shell.execute_reply.started": "2023-04-10T17:37:08.900260Z"
    },
    "papermill": {
     "duration": null,
     "end_time": null,
     "exception": null,
     "start_time": null,
     "status": "pending"
    },
    "tags": []
   },
   "outputs": [],
   "source": [
    "def mean_average_precision(pred_boxes, true_boxes, iou_threshold=0.5, box_format=\"midpoint\", num_classes=20):\n",
    "    \"\"\"\n",
    "    Parameters:\n",
    "        pred_boxes (list): list of lists containing all bboxes with each bboxes\n",
    "        specified as [train_idx, class_prediction, prob_score, x1, y1, x2, y2]\n",
    "        true_boxes (list): Similar as pred_boxes except all the correct ones \n",
    "        iou_threshold (float): threshold where predicted bboxes is correct\n",
    "        box_format (str): \"midpoint\" or \"corners\" used to specify bboxes\n",
    "        num_classes (int): number of classes\n",
    "    Returns:\n",
    "        float: mAP value across all classes given a specific IoU threshold \n",
    "    \"\"\"\n",
    "\n",
    "    average_precisions = []\n",
    "    epsilon = 1e-6\n",
    "\n",
    "    for c in range(num_classes):\n",
    "        detections = []\n",
    "        ground_truths = []\n",
    "\n",
    "        # Go through all predictions and targets, and only add the ones that belong to the current class c\n",
    "        for detection in pred_boxes:\n",
    "            if detection[1] == c:\n",
    "                detections.append(detection)\n",
    "\n",
    "        for true_box in true_boxes:\n",
    "            if true_box[1] == c:\n",
    "                ground_truths.append(true_box)\n",
    "\n",
    "        # find the amount of bboxes for each training example\n",
    "        amount_bboxes = Counter([gt[0] for gt in ground_truths])\n",
    "\n",
    "        for key, val in amount_bboxes.items():\n",
    "            amount_bboxes[key] = torch.zeros(val)\n",
    "\n",
    "        # sort by box probabilities which is index 2\n",
    "        detections.sort(key=lambda x: x[2], reverse=True)\n",
    "        TP = torch.zeros((len(detections)))\n",
    "        FP = torch.zeros((len(detections)))\n",
    "        total_true_bboxes = len(ground_truths)\n",
    "        \n",
    "        if total_true_bboxes == 0:\n",
    "            continue\n",
    "\n",
    "        for detection_idx, detection in enumerate(detections):\n",
    "            ground_truth_img = [ bbox for bbox in ground_truths if bbox[0] == detection[0] ]\n",
    "\n",
    "            num_gts = len(ground_truth_img)\n",
    "            best_iou = 0\n",
    "\n",
    "            for idx, gt in enumerate(ground_truth_img):\n",
    "                iou = intersection_over_union(\n",
    "                    torch.tensor(detection[3:]),\n",
    "                    torch.tensor(gt[3:]),\n",
    "                    box_format=box_format,\n",
    "                )\n",
    "\n",
    "                if iou > best_iou:\n",
    "                    best_iou = iou\n",
    "                    best_gt_idx = idx\n",
    "\n",
    "            if best_iou > iou_threshold:\n",
    "                # only detect ground truth detection once\n",
    "                if amount_bboxes[detection[0]][best_gt_idx] == 0:\n",
    "                    # true positive and add this bounding box to seen\n",
    "                    TP[detection_idx] = 1\n",
    "                    amount_bboxes[detection[0]][best_gt_idx] = 1\n",
    "                else:\n",
    "                    FP[detection_idx] = 1\n",
    "\n",
    "            # if IOU is lower then the detection is a false positive\n",
    "            else:\n",
    "                FP[detection_idx] = 1\n",
    "\n",
    "        TP_cumsum = torch.cumsum(TP, dim=0)\n",
    "        FP_cumsum = torch.cumsum(FP, dim=0)\n",
    "        recalls = TP_cumsum / (total_true_bboxes + epsilon)\n",
    "        precisions = torch.divide(TP_cumsum, (TP_cumsum + FP_cumsum + epsilon))\n",
    "        precisions = torch.cat((torch.tensor([1]), precisions))\n",
    "        recalls = torch.cat((torch.tensor([0]), recalls))\n",
    "        # torch.trapz for numerical integration\n",
    "        average_precisions.append(torch.trapz(precisions, recalls))\n",
    "\n",
    "    return sum(average_precisions) / len(average_precisions)"
   ]
  },
  {
   "cell_type": "markdown",
   "id": "e6ae0514",
   "metadata": {
    "papermill": {
     "duration": null,
     "end_time": null,
     "exception": null,
     "start_time": null,
     "status": "pending"
    },
    "tags": []
   },
   "source": [
    "# **Non Max Supressoin**"
   ]
  },
  {
   "cell_type": "code",
   "execution_count": null,
   "id": "7c782338",
   "metadata": {
    "execution": {
     "iopub.execute_input": "2023-04-10T17:37:09.242157Z",
     "iopub.status.busy": "2023-04-10T17:37:09.241269Z",
     "iopub.status.idle": "2023-04-10T17:37:09.251423Z",
     "shell.execute_reply": "2023-04-10T17:37:09.250348Z",
     "shell.execute_reply.started": "2023-04-10T17:37:09.242091Z"
    },
    "papermill": {
     "duration": null,
     "end_time": null,
     "exception": null,
     "start_time": null,
     "status": "pending"
    },
    "tags": []
   },
   "outputs": [],
   "source": [
    "def non_max_suppression(bboxes, iou_threshold, threshold, box_format=\"corners\"):\n",
    "   \n",
    "\n",
    "    assert type(bboxes) == list\n",
    "\n",
    "    bboxes = [box for box in bboxes if box[1] > threshold]\n",
    "    bboxes = sorted(bboxes, key=lambda x: x[1], reverse=True)\n",
    "    bboxes_after_nms = []\n",
    "\n",
    "    while bboxes:\n",
    "        chosen_box = bboxes.pop(0)\n",
    "\n",
    "        bboxes = [\n",
    "            box\n",
    "            for box in bboxes\n",
    "            if box[0] != chosen_box[0]\n",
    "            or intersection_over_union(\n",
    "                torch.tensor(chosen_box[2:]),\n",
    "                torch.tensor(box[2:]),\n",
    "                box_format=box_format,\n",
    "            )\n",
    "            < iou_threshold\n",
    "        ]\n",
    "\n",
    "        bboxes_after_nms.append(chosen_box)\n",
    "\n",
    "    return bboxes_after_nms"
   ]
  },
  {
   "cell_type": "markdown",
   "id": "179f7f7d",
   "metadata": {
    "papermill": {
     "duration": null,
     "end_time": null,
     "exception": null,
     "start_time": null,
     "status": "pending"
    },
    "tags": []
   },
   "source": [
    "# **Get BBoxes**"
   ]
  },
  {
   "cell_type": "code",
   "execution_count": null,
   "id": "f14c9bcc",
   "metadata": {
    "execution": {
     "iopub.execute_input": "2023-04-10T17:37:10.038661Z",
     "iopub.status.busy": "2023-04-10T17:37:10.037974Z",
     "iopub.status.idle": "2023-04-10T17:37:10.047509Z",
     "shell.execute_reply": "2023-04-10T17:37:10.046247Z",
     "shell.execute_reply.started": "2023-04-10T17:37:10.038623Z"
    },
    "papermill": {
     "duration": null,
     "end_time": null,
     "exception": null,
     "start_time": null,
     "status": "pending"
    },
    "tags": []
   },
   "outputs": [],
   "source": [
    "def get_bboxes(loader, model, iou_threshold, threshold, pred_format=\"cells\", box_format=\"midpoint\", device=\"cuda\"):\n",
    "    all_pred_boxes = []\n",
    "    all_true_boxes = []\n",
    "\n",
    "    # make sure model is in eval before get bboxes\n",
    "    model.eval()\n",
    "    train_idx = 0\n",
    "\n",
    "    for batch_idx, (x, labels) in enumerate(loader):\n",
    "        x = x.to(device)\n",
    "        labels = labels.to(device)\n",
    "\n",
    "        with torch.no_grad():\n",
    "            predictions = model(x)\n",
    "\n",
    "        batch_size = x.shape[0]\n",
    "        true_bboxes = cellboxes_to_boxes(labels)\n",
    "        bboxes = cellboxes_to_boxes(predictions)\n",
    "\n",
    "        for idx in range(batch_size):\n",
    "            nms_boxes = non_max_suppression(\n",
    "                bboxes[idx],\n",
    "                iou_threshold=iou_threshold,\n",
    "                threshold=threshold,\n",
    "                box_format=box_format,\n",
    "            )\n",
    "\n",
    "            for nms_box in nms_boxes:\n",
    "                all_pred_boxes.append([train_idx] + nms_box)\n",
    "\n",
    "            for box in true_bboxes[idx]:\n",
    "                if box[1] > threshold:\n",
    "                    all_true_boxes.append([train_idx] + box)\n",
    "\n",
    "            train_idx += 1\n",
    "\n",
    "    model.train()\n",
    "    return all_pred_boxes, all_true_boxes"
   ]
  },
  {
   "cell_type": "markdown",
   "id": "d45ed504",
   "metadata": {
    "papermill": {
     "duration": null,
     "end_time": null,
     "exception": null,
     "start_time": null,
     "status": "pending"
    },
    "tags": []
   },
   "source": [
    "# **Set HyperParameters**"
   ]
  },
  {
   "cell_type": "code",
   "execution_count": null,
   "id": "4e545312",
   "metadata": {
    "execution": {
     "iopub.execute_input": "2023-04-10T17:37:11.159865Z",
     "iopub.status.busy": "2023-04-10T17:37:11.159179Z",
     "iopub.status.idle": "2023-04-10T17:37:11.175238Z",
     "shell.execute_reply": "2023-04-10T17:37:11.174104Z",
     "shell.execute_reply.started": "2023-04-10T17:37:11.159827Z"
    },
    "papermill": {
     "duration": null,
     "end_time": null,
     "exception": null,
     "start_time": null,
     "status": "pending"
    },
    "tags": []
   },
   "outputs": [],
   "source": [
    "seed = 123\n",
    "torch.manual_seed(seed)\n",
    "\n",
    "# Hyperparameters \n",
    "LEARNING_RATE = 1e-4\n",
    "DEVICE = \"cuda\" if torch.cuda.is_available else \"cpu\"\n",
    "BATCH_SIZE = 8\n",
    "WEIGHT_DECAY = 0\n",
    "EPOCHS = 75\n",
    "NUM_WORKERS = 2\n",
    "PIN_MEMORY = True\n",
    "IMG_DIR = \"../input/pascalvoc-yolo/images\"\n",
    "LABEL_DIR = \"../input/pascalvoc-yolo/labels\""
   ]
  },
  {
   "cell_type": "code",
   "execution_count": null,
   "id": "fad92406",
   "metadata": {
    "execution": {
     "iopub.execute_input": "2023-04-10T17:37:13.004585Z",
     "iopub.status.busy": "2023-04-10T17:37:13.003561Z",
     "iopub.status.idle": "2023-04-10T17:37:13.010744Z",
     "shell.execute_reply": "2023-04-10T17:37:13.009402Z",
     "shell.execute_reply.started": "2023-04-10T17:37:13.004538Z"
    },
    "papermill": {
     "duration": null,
     "end_time": null,
     "exception": null,
     "start_time": null,
     "status": "pending"
    },
    "tags": []
   },
   "outputs": [],
   "source": [
    "class Compose(object):\n",
    "    def __init__(self, transforms):\n",
    "        self.transforms = transforms\n",
    "\n",
    "    def __call__(self, img, bboxes):\n",
    "        for t in self.transforms:\n",
    "            img, bboxes = t(img), bboxes\n",
    "\n",
    "        return img, bboxes"
   ]
  },
  {
   "cell_type": "code",
   "execution_count": null,
   "id": "bc3ae08f",
   "metadata": {
    "execution": {
     "iopub.execute_input": "2023-04-10T17:37:14.274823Z",
     "iopub.status.busy": "2023-04-10T17:37:14.274448Z",
     "iopub.status.idle": "2023-04-10T17:37:14.280450Z",
     "shell.execute_reply": "2023-04-10T17:37:14.279197Z",
     "shell.execute_reply.started": "2023-04-10T17:37:14.274790Z"
    },
    "papermill": {
     "duration": null,
     "end_time": null,
     "exception": null,
     "start_time": null,
     "status": "pending"
    },
    "tags": []
   },
   "outputs": [],
   "source": [
    "transform = Compose([transforms.Resize((448, 448)), transforms.ToTensor(),])"
   ]
  },
  {
   "cell_type": "code",
   "execution_count": null,
   "id": "2370f1c1",
   "metadata": {
    "execution": {
     "iopub.execute_input": "2023-04-10T17:39:28.826828Z",
     "iopub.status.busy": "2023-04-10T17:39:28.826062Z",
     "iopub.status.idle": "2023-04-10T17:39:32.960364Z",
     "shell.execute_reply": "2023-04-10T17:39:32.959265Z",
     "shell.execute_reply.started": "2023-04-10T17:39:28.826791Z"
    },
    "papermill": {
     "duration": null,
     "end_time": null,
     "exception": null,
     "start_time": null,
     "status": "pending"
    },
    "tags": []
   },
   "outputs": [],
   "source": [
    "model = Yolo(split_size=7, num_boxes=2, num_classes=20).to(DEVICE)\n",
    "optimizer = optim.Adam(model.parameters(), lr=LEARNING_RATE, weight_decay=WEIGHT_DECAY)\n",
    "loss_fn = YoloLoss()"
   ]
  },
  {
   "cell_type": "markdown",
   "id": "c153c921",
   "metadata": {
    "papermill": {
     "duration": null,
     "end_time": null,
     "exception": null,
     "start_time": null,
     "status": "pending"
    },
    "tags": []
   },
   "source": [
    "# **Create Train and Test**"
   ]
  },
  {
   "cell_type": "code",
   "execution_count": null,
   "id": "2bbfa644",
   "metadata": {
    "execution": {
     "iopub.execute_input": "2023-04-10T13:55:24.127473Z",
     "iopub.status.busy": "2023-04-10T13:55:24.126902Z",
     "iopub.status.idle": "2023-04-10T13:55:24.184837Z",
     "shell.execute_reply": "2023-04-10T13:55:24.183788Z",
     "shell.execute_reply.started": "2023-04-10T13:55:24.127423Z"
    },
    "papermill": {
     "duration": null,
     "end_time": null,
     "exception": null,
     "start_time": null,
     "status": "pending"
    },
    "tags": []
   },
   "outputs": [],
   "source": [
    "train_dataset = VOCDataset(\"../input/pascalvoc-yolo/100examples.csv\", transform=transform, img_dir=IMG_DIR, label_dir=LABEL_DIR)\n",
    "test_dataset = VOCDataset(\"../input/pascalvoc-yolo/test.csv\", transform=transform, img_dir=IMG_DIR, label_dir=LABEL_DIR)"
   ]
  },
  {
   "cell_type": "code",
   "execution_count": null,
   "id": "7b9a3ac3",
   "metadata": {
    "execution": {
     "iopub.execute_input": "2023-04-10T13:55:38.526696Z",
     "iopub.status.busy": "2023-04-10T13:55:38.525976Z",
     "iopub.status.idle": "2023-04-10T13:55:38.533021Z",
     "shell.execute_reply": "2023-04-10T13:55:38.531618Z",
     "shell.execute_reply.started": "2023-04-10T13:55:38.526659Z"
    },
    "papermill": {
     "duration": null,
     "end_time": null,
     "exception": null,
     "start_time": null,
     "status": "pending"
    },
    "tags": []
   },
   "outputs": [],
   "source": [
    "train_loader = DataLoader(\n",
    "    dataset=train_dataset,\n",
    "    batch_size=BATCH_SIZE,\n",
    "    num_workers=NUM_WORKERS,\n",
    "    pin_memory=PIN_MEMORY,\n",
    "    shuffle=True,\n",
    "    drop_last=True,\n",
    ")\n",
    "\n",
    "test_loader = DataLoader(\n",
    "    dataset=test_dataset,\n",
    "    batch_size=BATCH_SIZE,\n",
    "    num_workers=NUM_WORKERS,\n",
    "    pin_memory=PIN_MEMORY,\n",
    "    shuffle=True,\n",
    "    drop_last=True,\n",
    ")"
   ]
  },
  {
   "cell_type": "markdown",
   "id": "a07c4b1a",
   "metadata": {
    "papermill": {
     "duration": null,
     "end_time": null,
     "exception": null,
     "start_time": null,
     "status": "pending"
    },
    "tags": []
   },
   "source": [
    "# **Convert CellBoxes**"
   ]
  },
  {
   "cell_type": "code",
   "execution_count": null,
   "id": "6eb73819",
   "metadata": {
    "execution": {
     "iopub.execute_input": "2023-04-10T13:55:59.001458Z",
     "iopub.status.busy": "2023-04-10T13:55:59.001083Z",
     "iopub.status.idle": "2023-04-10T13:55:59.013174Z",
     "shell.execute_reply": "2023-04-10T13:55:59.012079Z",
     "shell.execute_reply.started": "2023-04-10T13:55:59.001424Z"
    },
    "papermill": {
     "duration": null,
     "end_time": null,
     "exception": null,
     "start_time": null,
     "status": "pending"
    },
    "tags": []
   },
   "outputs": [],
   "source": [
    "def convert_cellboxes(predictions, S=7):\n",
    "    \"\"\"\n",
    "    Converts bounding boxes output from Yolo with\n",
    "    an image split size of S into entire image ratios\n",
    "    rather than relative to cell ratios. Tried to do this\n",
    "    vectorized, but this resulted in quite difficult to read\n",
    "    code... Use as a black box? Or implement a more intuitive,\n",
    "    using 2 for loops iterating range(S) and convert them one\n",
    "    by one, resulting in a slower but more readable implementation.\n",
    "    \"\"\"\n",
    "\n",
    "    predictions = predictions.to(\"cpu\")\n",
    "    batch_size = predictions.shape[0]\n",
    "    predictions = predictions.reshape(batch_size, 7, 7, 30)\n",
    "    bboxes1 = predictions[..., 21:25]\n",
    "    bboxes2 = predictions[..., 26:30]\n",
    "    scores = torch.cat(\n",
    "        (predictions[..., 20].unsqueeze(0), predictions[..., 25].unsqueeze(0)), dim=0\n",
    "    )\n",
    "    best_box = scores.argmax(0).unsqueeze(-1)\n",
    "    best_boxes = bboxes1 * (1 - best_box) + best_box * bboxes2\n",
    "    cell_indices = torch.arange(7).repeat(batch_size, 7, 1).unsqueeze(-1)\n",
    "    x = 1 / S * (best_boxes[..., :1] + cell_indices)\n",
    "    y = 1 / S * (best_boxes[..., 1:2] + cell_indices.permute(0, 2, 1, 3))\n",
    "    w_y = 1 / S * best_boxes[..., 2:4]\n",
    "    converted_bboxes = torch.cat((x, y, w_y), dim=-1)\n",
    "    predicted_class = predictions[..., :20].argmax(-1).unsqueeze(-1)\n",
    "    best_confidence = torch.max(predictions[..., 20], predictions[..., 25]).unsqueeze(\n",
    "        -1\n",
    "    )\n",
    "    converted_preds = torch.cat(\n",
    "        (predicted_class, best_confidence, converted_bboxes), dim=-1\n",
    "    )\n",
    "\n",
    "    return converted_preds"
   ]
  },
  {
   "cell_type": "code",
   "execution_count": null,
   "id": "6aeee158",
   "metadata": {
    "execution": {
     "iopub.execute_input": "2023-04-10T13:56:07.266927Z",
     "iopub.status.busy": "2023-04-10T13:56:07.265834Z",
     "iopub.status.idle": "2023-04-10T13:56:07.277023Z",
     "shell.execute_reply": "2023-04-10T13:56:07.275870Z",
     "shell.execute_reply.started": "2023-04-10T13:56:07.266875Z"
    },
    "papermill": {
     "duration": null,
     "end_time": null,
     "exception": null,
     "start_time": null,
     "status": "pending"
    },
    "tags": []
   },
   "outputs": [],
   "source": [
    "def cellboxes_to_boxes(out, S=7):\n",
    "    converted_pred = convert_cellboxes(out).reshape(out.shape[0], S * S, -1)\n",
    "    converted_pred[..., 0] = converted_pred[..., 0].long()\n",
    "    all_bboxes = []\n",
    "\n",
    "    for ex_idx in range(out.shape[0]):\n",
    "        bboxes = []\n",
    "\n",
    "        for bbox_idx in range(S * S):\n",
    "            bboxes.append([x.item() for x in converted_pred[ex_idx, bbox_idx, :]])\n",
    "        all_bboxes.append(bboxes)\n",
    "\n",
    "    return all_bboxes"
   ]
  },
  {
   "cell_type": "code",
   "execution_count": null,
   "id": "d08908ea",
   "metadata": {
    "execution": {
     "iopub.execute_input": "2023-04-10T13:56:18.533437Z",
     "iopub.status.busy": "2023-04-10T13:56:18.532886Z",
     "iopub.status.idle": "2023-04-10T13:56:18.547593Z",
     "shell.execute_reply": "2023-04-10T13:56:18.545955Z",
     "shell.execute_reply.started": "2023-04-10T13:56:18.533386Z"
    },
    "papermill": {
     "duration": null,
     "end_time": null,
     "exception": null,
     "start_time": null,
     "status": "pending"
    },
    "tags": []
   },
   "outputs": [],
   "source": [
    "def plot_image(image, boxes):\n",
    "    \"\"\"Plots predicted bounding boxes on the image\"\"\"\n",
    "    im = np.array(image)\n",
    "    height, width, _ = im.shape\n",
    "\n",
    "    # Create figure and axes\n",
    "    fig, ax = plt.subplots(1)\n",
    "    # Display the image\n",
    "    ax.imshow(im)\n",
    "\n",
    "    # box[0] is x midpoint, box[2] is width\n",
    "    # box[1] is y midpoint, box[3] is height\n",
    "\n",
    "    # Create a Rectangle potch\n",
    "    for box in boxes:\n",
    "        box = box[2:]\n",
    "        assert len(box) == 4, \"Got more values than in x, y, w, h, in a box!\"\n",
    "        upper_left_x = box[0] - box[2] / 2\n",
    "        upper_left_y = box[1] - box[3] / 2\n",
    "        rect = patches.Rectangle(\n",
    "            (upper_left_x * width, upper_left_y * height),\n",
    "            box[2] * width,\n",
    "            box[3] * height,\n",
    "            linewidth=1,\n",
    "            edgecolor=\"r\",\n",
    "            facecolor=\"none\",\n",
    "        )\n",
    "        # Add the patch to the Axes\n",
    "        ax.add_patch(rect)\n",
    "\n",
    "    plt.show()"
   ]
  },
  {
   "cell_type": "markdown",
   "id": "eec903f6",
   "metadata": {
    "papermill": {
     "duration": null,
     "end_time": null,
     "exception": null,
     "start_time": null,
     "status": "pending"
    },
    "tags": []
   },
   "source": [
    "# **Train Function**"
   ]
  },
  {
   "cell_type": "code",
   "execution_count": null,
   "id": "ca2ffa3b",
   "metadata": {
    "execution": {
     "iopub.execute_input": "2023-04-10T13:56:29.555165Z",
     "iopub.status.busy": "2023-04-10T13:56:29.554770Z",
     "iopub.status.idle": "2023-04-10T13:56:29.562011Z",
     "shell.execute_reply": "2023-04-10T13:56:29.560852Z",
     "shell.execute_reply.started": "2023-04-10T13:56:29.555131Z"
    },
    "papermill": {
     "duration": null,
     "end_time": null,
     "exception": null,
     "start_time": null,
     "status": "pending"
    },
    "tags": []
   },
   "outputs": [],
   "source": [
    "def train_fn(train_loader, model, optimizer, loss_fn):\n",
    "    loop = tqdm(train_loader, leave=True)\n",
    "    mean_loss = []\n",
    "\n",
    "    for batch_idx, (x, y) in enumerate(loop):\n",
    "        x, y = x.to(DEVICE), y.to(DEVICE)\n",
    "        out = model(x)\n",
    "        loss = loss_fn(out, y)\n",
    "        mean_loss.append(loss.item())\n",
    "        optimizer.zero_grad()\n",
    "        loss.backward()\n",
    "        optimizer.step()\n",
    "\n",
    "        # update progress bar\n",
    "        loop.set_postfix(loss=loss.item())\n",
    "\n",
    "    print(f\"Mean loss was {sum(mean_loss)/len(mean_loss)}\")"
   ]
  },
  {
   "cell_type": "code",
   "execution_count": null,
   "id": "a0658c69",
   "metadata": {
    "execution": {
     "iopub.execute_input": "2023-04-10T13:56:38.693809Z",
     "iopub.status.busy": "2023-04-10T13:56:38.693197Z",
     "iopub.status.idle": "2023-04-10T14:03:37.938802Z",
     "shell.execute_reply": "2023-04-10T14:03:37.937490Z",
     "shell.execute_reply.started": "2023-04-10T13:56:38.693769Z"
    },
    "papermill": {
     "duration": null,
     "end_time": null,
     "exception": null,
     "start_time": null,
     "status": "pending"
    },
    "tags": []
   },
   "outputs": [],
   "source": [
    "for epoch in range(EPOCHS):\n",
    "    pred_boxes, target_boxes = get_bboxes(train_loader, model, iou_threshold=0.5, threshold=0.4)\n",
    "\n",
    "    mean_avg_prec = mean_average_precision(pred_boxes, target_boxes, iou_threshold=0.5, box_format=\"midpoint\")\n",
    "    print(f\"Train mAP: {mean_avg_prec}\")\n",
    "\n",
    "    train_fn(train_loader, model, optimizer, loss_fn)"
   ]
  },
  {
   "cell_type": "code",
   "execution_count": null,
   "id": "c8837693",
   "metadata": {
    "execution": {
     "iopub.execute_input": "2023-04-10T14:03:37.942346Z",
     "iopub.status.busy": "2023-04-10T14:03:37.941960Z",
     "iopub.status.idle": "2023-04-10T14:03:41.806187Z",
     "shell.execute_reply": "2023-04-10T14:03:41.805118Z",
     "shell.execute_reply.started": "2023-04-10T14:03:37.942311Z"
    },
    "papermill": {
     "duration": null,
     "end_time": null,
     "exception": null,
     "start_time": null,
     "status": "pending"
    },
    "tags": []
   },
   "outputs": [],
   "source": [
    "for x, y in train_loader:\n",
    "    x = x.to(DEVICE)\n",
    "    for idx in range(8):\n",
    "        bboxes = cellboxes_to_boxes(model(x))\n",
    "        bboxes = non_max_suppression(bboxes[idx], iou_threshold=0.5, threshold=0.4, box_format=\"midpoint\")\n",
    "        plot_image(x[idx].permute(1,2,0).to(\"cpu\"), bboxes)\n",
    "\n",
    "    break"
   ]
  },
  {
   "cell_type": "code",
   "execution_count": null,
   "id": "45c54517",
   "metadata": {
    "execution": {
     "iopub.execute_input": "2023-04-10T14:03:41.810496Z",
     "iopub.status.busy": "2023-04-10T14:03:41.810179Z",
     "iopub.status.idle": "2023-04-10T14:03:44.944712Z",
     "shell.execute_reply": "2023-04-10T14:03:44.943580Z",
     "shell.execute_reply.started": "2023-04-10T14:03:41.810465Z"
    },
    "papermill": {
     "duration": null,
     "end_time": null,
     "exception": null,
     "start_time": null,
     "status": "pending"
    },
    "tags": []
   },
   "outputs": [],
   "source": [
    "for x, y in test_loader:\n",
    "    x = x.to(DEVICE)\n",
    "    for idx in range(5):\n",
    "        bboxes = cellboxes_to_boxes(model(x))\n",
    "        bboxes = non_max_suppression(bboxes[idx], iou_threshold=0.5, threshold=0.4, box_format=\"midpoint\")\n",
    "        plot_image(x[idx].permute(1,2,0).to(\"cpu\"), bboxes)\n",
    "\n",
    "    break"
   ]
  },
  {
   "cell_type": "code",
   "execution_count": null,
   "id": "25992b94",
   "metadata": {
    "execution": {
     "iopub.execute_input": "2023-04-10T14:03:44.948223Z",
     "iopub.status.busy": "2023-04-10T14:03:44.947509Z",
     "iopub.status.idle": "2023-04-10T14:05:14.375491Z",
     "shell.execute_reply": "2023-04-10T14:05:14.373285Z",
     "shell.execute_reply.started": "2023-04-10T14:03:44.948178Z"
    },
    "papermill": {
     "duration": null,
     "end_time": null,
     "exception": null,
     "start_time": null,
     "status": "pending"
    },
    "tags": []
   },
   "outputs": [],
   "source": [
    "pred_boxes, target_boxes = get_bboxes(test_loader, model, iou_threshold=0.5, threshold=0.4)\n",
    "\n",
    "mean_avg_prec = mean_average_precision(pred_boxes, target_boxes, iou_threshold=0.5, box_format=\"midpoint\")\n",
    "print(f\"Test mAP: {mean_avg_prec}\")"
   ]
  },
  {
   "cell_type": "code",
   "execution_count": null,
   "id": "244314e4",
   "metadata": {
    "execution": {
     "iopub.execute_input": "2023-04-10T14:05:14.377607Z",
     "iopub.status.busy": "2023-04-10T14:05:14.377248Z",
     "iopub.status.idle": "2023-04-10T14:05:16.206309Z",
     "shell.execute_reply": "2023-04-10T14:05:16.204262Z",
     "shell.execute_reply.started": "2023-04-10T14:05:14.377571Z"
    },
    "papermill": {
     "duration": null,
     "end_time": null,
     "exception": null,
     "start_time": null,
     "status": "pending"
    },
    "tags": []
   },
   "outputs": [],
   "source": [
    "pred_boxes, target_boxes = get_bboxes(train_loader, model, iou_threshold=0.5, threshold=0.4)\n",
    "\n",
    "mean_avg_prec = mean_average_precision(pred_boxes, target_boxes, iou_threshold=0.5, box_format=\"midpoint\")\n",
    "print(f\"Train mAP: {mean_avg_prec}\")"
   ]
  },
  {
   "cell_type": "code",
   "execution_count": null,
   "id": "7a599d48",
   "metadata": {
    "papermill": {
     "duration": null,
     "end_time": null,
     "exception": null,
     "start_time": null,
     "status": "pending"
    },
    "tags": []
   },
   "outputs": [],
   "source": []
  }
 ],
 "metadata": {
  "kernelspec": {
   "display_name": "Python 3",
   "language": "python",
   "name": "python3"
  },
  "language_info": {
   "codemirror_mode": {
    "name": "ipython",
    "version": 3
   },
   "file_extension": ".py",
   "mimetype": "text/x-python",
   "name": "python",
   "nbconvert_exporter": "python",
   "pygments_lexer": "ipython3",
   "version": "3.7.12"
  },
  "papermill": {
   "default_parameters": {},
   "duration": 14.478792,
   "end_time": "2023-04-13T15:19:08.694180",
   "environment_variables": {},
   "exception": true,
   "input_path": "__notebook__.ipynb",
   "output_path": "__notebook__.ipynb",
   "parameters": {},
   "start_time": "2023-04-13T15:18:54.215388",
   "version": "2.4.0"
  }
 },
 "nbformat": 4,
 "nbformat_minor": 5
}
