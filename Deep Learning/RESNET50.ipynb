{
  "nbformat": 4,
  "nbformat_minor": 0,
  "metadata": {
    "colab": {
      "provenance": []
    },
    "kernelspec": {
      "name": "python3",
      "display_name": "Python 3"
    },
    "language_info": {
      "name": "python"
    },
    "gpuClass": "standard",
    "accelerator": "GPU"
  },
  "cells": [
    {
      "cell_type": "code",
      "execution_count": 1,
      "metadata": {
        "id": "f-jDuxAg6qzl"
      },
      "outputs": [],
      "source": [
        "import cv2\n",
        "import numpy as np\n",
        "import os\n",
        "import keras\n",
        "from keras.models import Sequential, Model,load_model\n",
        "from keras.layers import Input, Add, Dense, Activation, ZeroPadding2D, BatchNormalization, Flatten, Conv2D, AveragePooling2D, MaxPooling2D, GlobalMaxPooling2D,MaxPool2D\n",
        "from keras.initializers import glorot_uniform"
      ]
    },
    {
      "cell_type": "code",
      "source": [
        "def identity_block(X, f, filters, stage, block):\n",
        "   \n",
        "    conv_name_base = 'res' + str(stage) + block + '_branch'\n",
        "    bn_name_base = 'bn' + str(stage) + block + '_branch'\n",
        "    F1, F2, F3 = filters\n",
        "\n",
        "    X_shortcut = X\n",
        "   \n",
        "    X = Conv2D(filters=F1, kernel_size=(1, 1), strides=(1, 1), padding='valid', name=conv_name_base + '2a', kernel_initializer=glorot_uniform(seed=0))(X)\n",
        "    X = BatchNormalization(axis=3, name=bn_name_base + '2a')(X)\n",
        "    X = Activation('relu')(X)\n",
        "\n",
        "    X = Conv2D(filters=F2, kernel_size=(f, f), strides=(1, 1), padding='same', name=conv_name_base + '2b', kernel_initializer=glorot_uniform(seed=0))(X)\n",
        "    X = BatchNormalization(axis=3, name=bn_name_base + '2b')(X)\n",
        "    X = Activation('relu')(X)\n",
        "\n",
        "    X = Conv2D(filters=F3, kernel_size=(1, 1), strides=(1, 1), padding='valid', name=conv_name_base + '2c', kernel_initializer=glorot_uniform(seed=0))(X)\n",
        "    X = BatchNormalization(axis=3, name=bn_name_base + '2c')(X)\n",
        "\n",
        "    X = Add()([X, X_shortcut])# SKIP Connection\n",
        "    X = Activation('relu')(X)\n",
        "\n",
        "    return X"
      ],
      "metadata": {
        "id": "Lw40xb1TrYY8"
      },
      "execution_count": 61,
      "outputs": []
    },
    {
      "cell_type": "code",
      "source": [
        "def convolutional_block(X, f, filters, stage, block, s=2):\n",
        "   \n",
        "    conv_name_base = 'res' + str(stage) + block + '_branch'\n",
        "    bn_name_base = 'bn' + str(stage) + block + '_branch'\n",
        "\n",
        "    F1, F2, F3 = filters\n",
        "\n",
        "    X_shortcut = X\n",
        "\n",
        "    X = Conv2D(filters=F1, kernel_size=(1, 1), strides=(s, s), padding='valid', name=conv_name_base + '2a', kernel_initializer=glorot_uniform(seed=0))(X)\n",
        "    X = BatchNormalization(axis=3, name=bn_name_base + '2a')(X)\n",
        "    X = Activation('relu')(X)\n",
        "\n",
        "    X = Conv2D(filters=F2, kernel_size=(f, f), strides=(1, 1), padding='same', name=conv_name_base + '2b', kernel_initializer=glorot_uniform(seed=0))(X)\n",
        "    X = BatchNormalization(axis=3, name=bn_name_base + '2b')(X)\n",
        "    X = Activation('relu')(X)\n",
        "\n",
        "    X = Conv2D(filters=F3, kernel_size=(1, 1), strides=(1, 1), padding='valid', name=conv_name_base + '2c', kernel_initializer=glorot_uniform(seed=0))(X)\n",
        "    X = BatchNormalization(axis=3, name=bn_name_base + '2c')(X)\n",
        "\n",
        "    X_shortcut = Conv2D(filters=F3, kernel_size=(1, 1), strides=(s, s), padding='valid', name=conv_name_base + '1', kernel_initializer=glorot_uniform(seed=0))(X_shortcut)\n",
        "    X_shortcut = BatchNormalization(axis=3, name=bn_name_base + '1')(X_shortcut)\n",
        "\n",
        "    X = Add()([X, X_shortcut])\n",
        "    X = Activation('relu')(X)\n",
        "\n",
        "    return X"
      ],
      "metadata": {
        "id": "fxH9zQczrhyC"
      },
      "execution_count": 62,
      "outputs": []
    },
    {
      "cell_type": "code",
      "source": [
        "def ResNet50(input_shape=(28, 28, 3)):\n",
        "\n",
        "    X_input = Input(input_shape)\n",
        "\n",
        "    X = ZeroPadding2D((3, 3))(X_input)\n",
        "\n",
        "    X = Conv2D(64, (7, 7), strides=(2, 2), name='conv1')(X)\n",
        "    X = BatchNormalization(axis=3, name='bn_conv1')(X)\n",
        "    X = Activation('relu')(X)\n",
        "    X = MaxPooling2D((3, 3), strides=(2, 2))(X)\n",
        "\n",
        "    X = convolutional_block(X, f=3, filters=[64, 64, 256], stage=2, block='a', s=1)\n",
        "    X = identity_block(X, 3, [64, 64, 256], stage=2, block='b')\n",
        "    X = identity_block(X, 3, [64, 64, 256], stage=2, block='c')\n",
        "\n",
        "\n",
        "    X = convolutional_block(X, f=3, filters=[128, 128, 512], stage=3, block='a', s=2)\n",
        "    X = identity_block(X, 3, [128, 128, 512], stage=3, block='b')\n",
        "    X = identity_block(X, 3, [128, 128, 512], stage=3, block='c')\n",
        "    X = identity_block(X, 3, [128, 128, 512], stage=3, block='d')\n",
        "\n",
        "    X = convolutional_block(X, f=3, filters=[256, 256, 1024], stage=4, block='a', s=2)\n",
        "    X = identity_block(X, 3, [256, 256, 1024], stage=4, block='b')\n",
        "    X = identity_block(X, 3, [256, 256, 1024], stage=4, block='c')\n",
        "    X = identity_block(X, 3, [256, 256, 1024], stage=4, block='d')\n",
        "    X = identity_block(X, 3, [256, 256, 1024], stage=4, block='e')\n",
        "    X = identity_block(X, 3, [256, 256, 1024], stage=4, block='f')\n",
        "\n",
        "    X = X = convolutional_block(X, f=3, filters=[512, 512, 2048], stage=5, block='a', s=2)\n",
        "    X = identity_block(X, 3, [512, 512, 2048], stage=5, block='b')\n",
        "    X = identity_block(X, 3, [512, 512, 2048], stage=5, block='c')\n",
        "\n",
        "    X = AveragePooling2D(pool_size=(2, 2), padding='same')(X)\n",
        "    \n",
        "    model = Model(inputs=X_input, outputs=X, name='ResNet50')\n",
        "\n",
        "    return model"
      ],
      "metadata": {
        "id": "Ep2mqZpbrkWZ"
      },
      "execution_count": 107,
      "outputs": []
    },
    {
      "cell_type": "code",
      "source": [
        "base_model = ResNet50(input_shape=(28, 28, 3))"
      ],
      "metadata": {
        "id": "Psu0kGIZrmX6"
      },
      "execution_count": 108,
      "outputs": []
    },
    {
      "cell_type": "code",
      "source": [
        "headModel = base_model.output\n",
        "headModel = Flatten()(headModel)\n",
        "headModel=Dense(256, activation='relu', name='fc1',kernel_initializer=glorot_uniform(seed=0))(headModel)\n",
        "headModel=Dense(128, activation='relu', name='fc2',kernel_initializer=glorot_uniform(seed=0))(headModel)\n",
        "headModel = Dense( 1,activation='sigmoid', name='fc3',kernel_initializer=glorot_uniform(seed=0))(headModel)"
      ],
      "metadata": {
        "id": "eUuCiA3jroHw"
      },
      "execution_count": 109,
      "outputs": []
    },
    {
      "cell_type": "code",
      "source": [
        "model = Model(inputs=base_model.input, outputs=headModel)"
      ],
      "metadata": {
        "id": "nF0QCNE6rvNK"
      },
      "execution_count": 110,
      "outputs": []
    },
    {
      "cell_type": "code",
      "source": [
        "model.summary()\n"
      ],
      "metadata": {
        "colab": {
          "base_uri": "https://localhost:8080/"
        },
        "id": "owkm4BkP2rbS",
        "outputId": "fe74d941-c6d5-4d10-e136-89f68fce3eb7"
      },
      "execution_count": 111,
      "outputs": [
        {
          "output_type": "stream",
          "name": "stdout",
          "text": [
            "Model: \"model_3\"\n",
            "__________________________________________________________________________________________________\n",
            " Layer (type)                   Output Shape         Param #     Connected to                     \n",
            "==================================================================================================\n",
            " input_10 (InputLayer)          [(None, 28, 28, 3)]  0           []                               \n",
            "                                                                                                  \n",
            " zero_padding2d_4 (ZeroPadding2  (None, 34, 34, 3)   0           ['input_10[0][0]']               \n",
            " D)                                                                                               \n",
            "                                                                                                  \n",
            " conv1 (Conv2D)                 (None, 14, 14, 64)   9472        ['zero_padding2d_4[0][0]']       \n",
            "                                                                                                  \n",
            " bn_conv1 (BatchNormalization)  (None, 14, 14, 64)   256         ['conv1[0][0]']                  \n",
            "                                                                                                  \n",
            " activation_196 (Activation)    (None, 14, 14, 64)   0           ['bn_conv1[0][0]']               \n",
            "                                                                                                  \n",
            " max_pooling2d_4 (MaxPooling2D)  (None, 6, 6, 64)    0           ['activation_196[0][0]']         \n",
            "                                                                                                  \n",
            " res2a_branch2a (Conv2D)        (None, 6, 6, 64)     4160        ['max_pooling2d_4[0][0]']        \n",
            "                                                                                                  \n",
            " bn2a_branch2a (BatchNormalizat  (None, 6, 6, 64)    256         ['res2a_branch2a[0][0]']         \n",
            " ion)                                                                                             \n",
            "                                                                                                  \n",
            " activation_197 (Activation)    (None, 6, 6, 64)     0           ['bn2a_branch2a[0][0]']          \n",
            "                                                                                                  \n",
            " res2a_branch2b (Conv2D)        (None, 6, 6, 64)     36928       ['activation_197[0][0]']         \n",
            "                                                                                                  \n",
            " bn2a_branch2b (BatchNormalizat  (None, 6, 6, 64)    256         ['res2a_branch2b[0][0]']         \n",
            " ion)                                                                                             \n",
            "                                                                                                  \n",
            " activation_198 (Activation)    (None, 6, 6, 64)     0           ['bn2a_branch2b[0][0]']          \n",
            "                                                                                                  \n",
            " res2a_branch2c (Conv2D)        (None, 6, 6, 256)    16640       ['activation_198[0][0]']         \n",
            "                                                                                                  \n",
            " res2a_branch1 (Conv2D)         (None, 6, 6, 256)    16640       ['max_pooling2d_4[0][0]']        \n",
            "                                                                                                  \n",
            " bn2a_branch2c (BatchNormalizat  (None, 6, 6, 256)   1024        ['res2a_branch2c[0][0]']         \n",
            " ion)                                                                                             \n",
            "                                                                                                  \n",
            " bn2a_branch1 (BatchNormalizati  (None, 6, 6, 256)   1024        ['res2a_branch1[0][0]']          \n",
            " on)                                                                                              \n",
            "                                                                                                  \n",
            " add_64 (Add)                   (None, 6, 6, 256)    0           ['bn2a_branch2c[0][0]',          \n",
            "                                                                  'bn2a_branch1[0][0]']           \n",
            "                                                                                                  \n",
            " activation_199 (Activation)    (None, 6, 6, 256)    0           ['add_64[0][0]']                 \n",
            "                                                                                                  \n",
            " res2b_branch2a (Conv2D)        (None, 6, 6, 64)     16448       ['activation_199[0][0]']         \n",
            "                                                                                                  \n",
            " bn2b_branch2a (BatchNormalizat  (None, 6, 6, 64)    256         ['res2b_branch2a[0][0]']         \n",
            " ion)                                                                                             \n",
            "                                                                                                  \n",
            " activation_200 (Activation)    (None, 6, 6, 64)     0           ['bn2b_branch2a[0][0]']          \n",
            "                                                                                                  \n",
            " res2b_branch2b (Conv2D)        (None, 6, 6, 64)     36928       ['activation_200[0][0]']         \n",
            "                                                                                                  \n",
            " bn2b_branch2b (BatchNormalizat  (None, 6, 6, 64)    256         ['res2b_branch2b[0][0]']         \n",
            " ion)                                                                                             \n",
            "                                                                                                  \n",
            " activation_201 (Activation)    (None, 6, 6, 64)     0           ['bn2b_branch2b[0][0]']          \n",
            "                                                                                                  \n",
            " res2b_branch2c (Conv2D)        (None, 6, 6, 256)    16640       ['activation_201[0][0]']         \n",
            "                                                                                                  \n",
            " bn2b_branch2c (BatchNormalizat  (None, 6, 6, 256)   1024        ['res2b_branch2c[0][0]']         \n",
            " ion)                                                                                             \n",
            "                                                                                                  \n",
            " add_65 (Add)                   (None, 6, 6, 256)    0           ['bn2b_branch2c[0][0]',          \n",
            "                                                                  'activation_199[0][0]']         \n",
            "                                                                                                  \n",
            " activation_202 (Activation)    (None, 6, 6, 256)    0           ['add_65[0][0]']                 \n",
            "                                                                                                  \n",
            " res2c_branch2a (Conv2D)        (None, 6, 6, 64)     16448       ['activation_202[0][0]']         \n",
            "                                                                                                  \n",
            " bn2c_branch2a (BatchNormalizat  (None, 6, 6, 64)    256         ['res2c_branch2a[0][0]']         \n",
            " ion)                                                                                             \n",
            "                                                                                                  \n",
            " activation_203 (Activation)    (None, 6, 6, 64)     0           ['bn2c_branch2a[0][0]']          \n",
            "                                                                                                  \n",
            " res2c_branch2b (Conv2D)        (None, 6, 6, 64)     36928       ['activation_203[0][0]']         \n",
            "                                                                                                  \n",
            " bn2c_branch2b (BatchNormalizat  (None, 6, 6, 64)    256         ['res2c_branch2b[0][0]']         \n",
            " ion)                                                                                             \n",
            "                                                                                                  \n",
            " activation_204 (Activation)    (None, 6, 6, 64)     0           ['bn2c_branch2b[0][0]']          \n",
            "                                                                                                  \n",
            " res2c_branch2c (Conv2D)        (None, 6, 6, 256)    16640       ['activation_204[0][0]']         \n",
            "                                                                                                  \n",
            " bn2c_branch2c (BatchNormalizat  (None, 6, 6, 256)   1024        ['res2c_branch2c[0][0]']         \n",
            " ion)                                                                                             \n",
            "                                                                                                  \n",
            " add_66 (Add)                   (None, 6, 6, 256)    0           ['bn2c_branch2c[0][0]',          \n",
            "                                                                  'activation_202[0][0]']         \n",
            "                                                                                                  \n",
            " activation_205 (Activation)    (None, 6, 6, 256)    0           ['add_66[0][0]']                 \n",
            "                                                                                                  \n",
            " res3a_branch2a (Conv2D)        (None, 3, 3, 128)    32896       ['activation_205[0][0]']         \n",
            "                                                                                                  \n",
            " bn3a_branch2a (BatchNormalizat  (None, 3, 3, 128)   512         ['res3a_branch2a[0][0]']         \n",
            " ion)                                                                                             \n",
            "                                                                                                  \n",
            " activation_206 (Activation)    (None, 3, 3, 128)    0           ['bn3a_branch2a[0][0]']          \n",
            "                                                                                                  \n",
            " res3a_branch2b (Conv2D)        (None, 3, 3, 128)    147584      ['activation_206[0][0]']         \n",
            "                                                                                                  \n",
            " bn3a_branch2b (BatchNormalizat  (None, 3, 3, 128)   512         ['res3a_branch2b[0][0]']         \n",
            " ion)                                                                                             \n",
            "                                                                                                  \n",
            " activation_207 (Activation)    (None, 3, 3, 128)    0           ['bn3a_branch2b[0][0]']          \n",
            "                                                                                                  \n",
            " res3a_branch2c (Conv2D)        (None, 3, 3, 512)    66048       ['activation_207[0][0]']         \n",
            "                                                                                                  \n",
            " res3a_branch1 (Conv2D)         (None, 3, 3, 512)    131584      ['activation_205[0][0]']         \n",
            "                                                                                                  \n",
            " bn3a_branch2c (BatchNormalizat  (None, 3, 3, 512)   2048        ['res3a_branch2c[0][0]']         \n",
            " ion)                                                                                             \n",
            "                                                                                                  \n",
            " bn3a_branch1 (BatchNormalizati  (None, 3, 3, 512)   2048        ['res3a_branch1[0][0]']          \n",
            " on)                                                                                              \n",
            "                                                                                                  \n",
            " add_67 (Add)                   (None, 3, 3, 512)    0           ['bn3a_branch2c[0][0]',          \n",
            "                                                                  'bn3a_branch1[0][0]']           \n",
            "                                                                                                  \n",
            " activation_208 (Activation)    (None, 3, 3, 512)    0           ['add_67[0][0]']                 \n",
            "                                                                                                  \n",
            " res3b_branch2a (Conv2D)        (None, 3, 3, 128)    65664       ['activation_208[0][0]']         \n",
            "                                                                                                  \n",
            " bn3b_branch2a (BatchNormalizat  (None, 3, 3, 128)   512         ['res3b_branch2a[0][0]']         \n",
            " ion)                                                                                             \n",
            "                                                                                                  \n",
            " activation_209 (Activation)    (None, 3, 3, 128)    0           ['bn3b_branch2a[0][0]']          \n",
            "                                                                                                  \n",
            " res3b_branch2b (Conv2D)        (None, 3, 3, 128)    147584      ['activation_209[0][0]']         \n",
            "                                                                                                  \n",
            " bn3b_branch2b (BatchNormalizat  (None, 3, 3, 128)   512         ['res3b_branch2b[0][0]']         \n",
            " ion)                                                                                             \n",
            "                                                                                                  \n",
            " activation_210 (Activation)    (None, 3, 3, 128)    0           ['bn3b_branch2b[0][0]']          \n",
            "                                                                                                  \n",
            " res3b_branch2c (Conv2D)        (None, 3, 3, 512)    66048       ['activation_210[0][0]']         \n",
            "                                                                                                  \n",
            " bn3b_branch2c (BatchNormalizat  (None, 3, 3, 512)   2048        ['res3b_branch2c[0][0]']         \n",
            " ion)                                                                                             \n",
            "                                                                                                  \n",
            " add_68 (Add)                   (None, 3, 3, 512)    0           ['bn3b_branch2c[0][0]',          \n",
            "                                                                  'activation_208[0][0]']         \n",
            "                                                                                                  \n",
            " activation_211 (Activation)    (None, 3, 3, 512)    0           ['add_68[0][0]']                 \n",
            "                                                                                                  \n",
            " res3c_branch2a (Conv2D)        (None, 3, 3, 128)    65664       ['activation_211[0][0]']         \n",
            "                                                                                                  \n",
            " bn3c_branch2a (BatchNormalizat  (None, 3, 3, 128)   512         ['res3c_branch2a[0][0]']         \n",
            " ion)                                                                                             \n",
            "                                                                                                  \n",
            " activation_212 (Activation)    (None, 3, 3, 128)    0           ['bn3c_branch2a[0][0]']          \n",
            "                                                                                                  \n",
            " res3c_branch2b (Conv2D)        (None, 3, 3, 128)    147584      ['activation_212[0][0]']         \n",
            "                                                                                                  \n",
            " bn3c_branch2b (BatchNormalizat  (None, 3, 3, 128)   512         ['res3c_branch2b[0][0]']         \n",
            " ion)                                                                                             \n",
            "                                                                                                  \n",
            " activation_213 (Activation)    (None, 3, 3, 128)    0           ['bn3c_branch2b[0][0]']          \n",
            "                                                                                                  \n",
            " res3c_branch2c (Conv2D)        (None, 3, 3, 512)    66048       ['activation_213[0][0]']         \n",
            "                                                                                                  \n",
            " bn3c_branch2c (BatchNormalizat  (None, 3, 3, 512)   2048        ['res3c_branch2c[0][0]']         \n",
            " ion)                                                                                             \n",
            "                                                                                                  \n",
            " add_69 (Add)                   (None, 3, 3, 512)    0           ['bn3c_branch2c[0][0]',          \n",
            "                                                                  'activation_211[0][0]']         \n",
            "                                                                                                  \n",
            " activation_214 (Activation)    (None, 3, 3, 512)    0           ['add_69[0][0]']                 \n",
            "                                                                                                  \n",
            " res3d_branch2a (Conv2D)        (None, 3, 3, 128)    65664       ['activation_214[0][0]']         \n",
            "                                                                                                  \n",
            " bn3d_branch2a (BatchNormalizat  (None, 3, 3, 128)   512         ['res3d_branch2a[0][0]']         \n",
            " ion)                                                                                             \n",
            "                                                                                                  \n",
            " activation_215 (Activation)    (None, 3, 3, 128)    0           ['bn3d_branch2a[0][0]']          \n",
            "                                                                                                  \n",
            " res3d_branch2b (Conv2D)        (None, 3, 3, 128)    147584      ['activation_215[0][0]']         \n",
            "                                                                                                  \n",
            " bn3d_branch2b (BatchNormalizat  (None, 3, 3, 128)   512         ['res3d_branch2b[0][0]']         \n",
            " ion)                                                                                             \n",
            "                                                                                                  \n",
            " activation_216 (Activation)    (None, 3, 3, 128)    0           ['bn3d_branch2b[0][0]']          \n",
            "                                                                                                  \n",
            " res3d_branch2c (Conv2D)        (None, 3, 3, 512)    66048       ['activation_216[0][0]']         \n",
            "                                                                                                  \n",
            " bn3d_branch2c (BatchNormalizat  (None, 3, 3, 512)   2048        ['res3d_branch2c[0][0]']         \n",
            " ion)                                                                                             \n",
            "                                                                                                  \n",
            " add_70 (Add)                   (None, 3, 3, 512)    0           ['bn3d_branch2c[0][0]',          \n",
            "                                                                  'activation_214[0][0]']         \n",
            "                                                                                                  \n",
            " activation_217 (Activation)    (None, 3, 3, 512)    0           ['add_70[0][0]']                 \n",
            "                                                                                                  \n",
            " res4a_branch2a (Conv2D)        (None, 2, 2, 256)    131328      ['activation_217[0][0]']         \n",
            "                                                                                                  \n",
            " bn4a_branch2a (BatchNormalizat  (None, 2, 2, 256)   1024        ['res4a_branch2a[0][0]']         \n",
            " ion)                                                                                             \n",
            "                                                                                                  \n",
            " activation_218 (Activation)    (None, 2, 2, 256)    0           ['bn4a_branch2a[0][0]']          \n",
            "                                                                                                  \n",
            " res4a_branch2b (Conv2D)        (None, 2, 2, 256)    590080      ['activation_218[0][0]']         \n",
            "                                                                                                  \n",
            " bn4a_branch2b (BatchNormalizat  (None, 2, 2, 256)   1024        ['res4a_branch2b[0][0]']         \n",
            " ion)                                                                                             \n",
            "                                                                                                  \n",
            " activation_219 (Activation)    (None, 2, 2, 256)    0           ['bn4a_branch2b[0][0]']          \n",
            "                                                                                                  \n",
            " res4a_branch2c (Conv2D)        (None, 2, 2, 1024)   263168      ['activation_219[0][0]']         \n",
            "                                                                                                  \n",
            " res4a_branch1 (Conv2D)         (None, 2, 2, 1024)   525312      ['activation_217[0][0]']         \n",
            "                                                                                                  \n",
            " bn4a_branch2c (BatchNormalizat  (None, 2, 2, 1024)  4096        ['res4a_branch2c[0][0]']         \n",
            " ion)                                                                                             \n",
            "                                                                                                  \n",
            " bn4a_branch1 (BatchNormalizati  (None, 2, 2, 1024)  4096        ['res4a_branch1[0][0]']          \n",
            " on)                                                                                              \n",
            "                                                                                                  \n",
            " add_71 (Add)                   (None, 2, 2, 1024)   0           ['bn4a_branch2c[0][0]',          \n",
            "                                                                  'bn4a_branch1[0][0]']           \n",
            "                                                                                                  \n",
            " activation_220 (Activation)    (None, 2, 2, 1024)   0           ['add_71[0][0]']                 \n",
            "                                                                                                  \n",
            " res4b_branch2a (Conv2D)        (None, 2, 2, 256)    262400      ['activation_220[0][0]']         \n",
            "                                                                                                  \n",
            " bn4b_branch2a (BatchNormalizat  (None, 2, 2, 256)   1024        ['res4b_branch2a[0][0]']         \n",
            " ion)                                                                                             \n",
            "                                                                                                  \n",
            " activation_221 (Activation)    (None, 2, 2, 256)    0           ['bn4b_branch2a[0][0]']          \n",
            "                                                                                                  \n",
            " res4b_branch2b (Conv2D)        (None, 2, 2, 256)    590080      ['activation_221[0][0]']         \n",
            "                                                                                                  \n",
            " bn4b_branch2b (BatchNormalizat  (None, 2, 2, 256)   1024        ['res4b_branch2b[0][0]']         \n",
            " ion)                                                                                             \n",
            "                                                                                                  \n",
            " activation_222 (Activation)    (None, 2, 2, 256)    0           ['bn4b_branch2b[0][0]']          \n",
            "                                                                                                  \n",
            " res4b_branch2c (Conv2D)        (None, 2, 2, 1024)   263168      ['activation_222[0][0]']         \n",
            "                                                                                                  \n",
            " bn4b_branch2c (BatchNormalizat  (None, 2, 2, 1024)  4096        ['res4b_branch2c[0][0]']         \n",
            " ion)                                                                                             \n",
            "                                                                                                  \n",
            " add_72 (Add)                   (None, 2, 2, 1024)   0           ['bn4b_branch2c[0][0]',          \n",
            "                                                                  'activation_220[0][0]']         \n",
            "                                                                                                  \n",
            " activation_223 (Activation)    (None, 2, 2, 1024)   0           ['add_72[0][0]']                 \n",
            "                                                                                                  \n",
            " res4c_branch2a (Conv2D)        (None, 2, 2, 256)    262400      ['activation_223[0][0]']         \n",
            "                                                                                                  \n",
            " bn4c_branch2a (BatchNormalizat  (None, 2, 2, 256)   1024        ['res4c_branch2a[0][0]']         \n",
            " ion)                                                                                             \n",
            "                                                                                                  \n",
            " activation_224 (Activation)    (None, 2, 2, 256)    0           ['bn4c_branch2a[0][0]']          \n",
            "                                                                                                  \n",
            " res4c_branch2b (Conv2D)        (None, 2, 2, 256)    590080      ['activation_224[0][0]']         \n",
            "                                                                                                  \n",
            " bn4c_branch2b (BatchNormalizat  (None, 2, 2, 256)   1024        ['res4c_branch2b[0][0]']         \n",
            " ion)                                                                                             \n",
            "                                                                                                  \n",
            " activation_225 (Activation)    (None, 2, 2, 256)    0           ['bn4c_branch2b[0][0]']          \n",
            "                                                                                                  \n",
            " res4c_branch2c (Conv2D)        (None, 2, 2, 1024)   263168      ['activation_225[0][0]']         \n",
            "                                                                                                  \n",
            " bn4c_branch2c (BatchNormalizat  (None, 2, 2, 1024)  4096        ['res4c_branch2c[0][0]']         \n",
            " ion)                                                                                             \n",
            "                                                                                                  \n",
            " add_73 (Add)                   (None, 2, 2, 1024)   0           ['bn4c_branch2c[0][0]',          \n",
            "                                                                  'activation_223[0][0]']         \n",
            "                                                                                                  \n",
            " activation_226 (Activation)    (None, 2, 2, 1024)   0           ['add_73[0][0]']                 \n",
            "                                                                                                  \n",
            " res4d_branch2a (Conv2D)        (None, 2, 2, 256)    262400      ['activation_226[0][0]']         \n",
            "                                                                                                  \n",
            " bn4d_branch2a (BatchNormalizat  (None, 2, 2, 256)   1024        ['res4d_branch2a[0][0]']         \n",
            " ion)                                                                                             \n",
            "                                                                                                  \n",
            " activation_227 (Activation)    (None, 2, 2, 256)    0           ['bn4d_branch2a[0][0]']          \n",
            "                                                                                                  \n",
            " res4d_branch2b (Conv2D)        (None, 2, 2, 256)    590080      ['activation_227[0][0]']         \n",
            "                                                                                                  \n",
            " bn4d_branch2b (BatchNormalizat  (None, 2, 2, 256)   1024        ['res4d_branch2b[0][0]']         \n",
            " ion)                                                                                             \n",
            "                                                                                                  \n",
            " activation_228 (Activation)    (None, 2, 2, 256)    0           ['bn4d_branch2b[0][0]']          \n",
            "                                                                                                  \n",
            " res4d_branch2c (Conv2D)        (None, 2, 2, 1024)   263168      ['activation_228[0][0]']         \n",
            "                                                                                                  \n",
            " bn4d_branch2c (BatchNormalizat  (None, 2, 2, 1024)  4096        ['res4d_branch2c[0][0]']         \n",
            " ion)                                                                                             \n",
            "                                                                                                  \n",
            " add_74 (Add)                   (None, 2, 2, 1024)   0           ['bn4d_branch2c[0][0]',          \n",
            "                                                                  'activation_226[0][0]']         \n",
            "                                                                                                  \n",
            " activation_229 (Activation)    (None, 2, 2, 1024)   0           ['add_74[0][0]']                 \n",
            "                                                                                                  \n",
            " res4e_branch2a (Conv2D)        (None, 2, 2, 256)    262400      ['activation_229[0][0]']         \n",
            "                                                                                                  \n",
            " bn4e_branch2a (BatchNormalizat  (None, 2, 2, 256)   1024        ['res4e_branch2a[0][0]']         \n",
            " ion)                                                                                             \n",
            "                                                                                                  \n",
            " activation_230 (Activation)    (None, 2, 2, 256)    0           ['bn4e_branch2a[0][0]']          \n",
            "                                                                                                  \n",
            " res4e_branch2b (Conv2D)        (None, 2, 2, 256)    590080      ['activation_230[0][0]']         \n",
            "                                                                                                  \n",
            " bn4e_branch2b (BatchNormalizat  (None, 2, 2, 256)   1024        ['res4e_branch2b[0][0]']         \n",
            " ion)                                                                                             \n",
            "                                                                                                  \n",
            " activation_231 (Activation)    (None, 2, 2, 256)    0           ['bn4e_branch2b[0][0]']          \n",
            "                                                                                                  \n",
            " res4e_branch2c (Conv2D)        (None, 2, 2, 1024)   263168      ['activation_231[0][0]']         \n",
            "                                                                                                  \n",
            " bn4e_branch2c (BatchNormalizat  (None, 2, 2, 1024)  4096        ['res4e_branch2c[0][0]']         \n",
            " ion)                                                                                             \n",
            "                                                                                                  \n",
            " add_75 (Add)                   (None, 2, 2, 1024)   0           ['bn4e_branch2c[0][0]',          \n",
            "                                                                  'activation_229[0][0]']         \n",
            "                                                                                                  \n",
            " activation_232 (Activation)    (None, 2, 2, 1024)   0           ['add_75[0][0]']                 \n",
            "                                                                                                  \n",
            " res4f_branch2a (Conv2D)        (None, 2, 2, 256)    262400      ['activation_232[0][0]']         \n",
            "                                                                                                  \n",
            " bn4f_branch2a (BatchNormalizat  (None, 2, 2, 256)   1024        ['res4f_branch2a[0][0]']         \n",
            " ion)                                                                                             \n",
            "                                                                                                  \n",
            " activation_233 (Activation)    (None, 2, 2, 256)    0           ['bn4f_branch2a[0][0]']          \n",
            "                                                                                                  \n",
            " res4f_branch2b (Conv2D)        (None, 2, 2, 256)    590080      ['activation_233[0][0]']         \n",
            "                                                                                                  \n",
            " bn4f_branch2b (BatchNormalizat  (None, 2, 2, 256)   1024        ['res4f_branch2b[0][0]']         \n",
            " ion)                                                                                             \n",
            "                                                                                                  \n",
            " activation_234 (Activation)    (None, 2, 2, 256)    0           ['bn4f_branch2b[0][0]']          \n",
            "                                                                                                  \n",
            " res4f_branch2c (Conv2D)        (None, 2, 2, 1024)   263168      ['activation_234[0][0]']         \n",
            "                                                                                                  \n",
            " bn4f_branch2c (BatchNormalizat  (None, 2, 2, 1024)  4096        ['res4f_branch2c[0][0]']         \n",
            " ion)                                                                                             \n",
            "                                                                                                  \n",
            " add_76 (Add)                   (None, 2, 2, 1024)   0           ['bn4f_branch2c[0][0]',          \n",
            "                                                                  'activation_232[0][0]']         \n",
            "                                                                                                  \n",
            " activation_235 (Activation)    (None, 2, 2, 1024)   0           ['add_76[0][0]']                 \n",
            "                                                                                                  \n",
            " res5a_branch2a (Conv2D)        (None, 1, 1, 512)    524800      ['activation_235[0][0]']         \n",
            "                                                                                                  \n",
            " bn5a_branch2a (BatchNormalizat  (None, 1, 1, 512)   2048        ['res5a_branch2a[0][0]']         \n",
            " ion)                                                                                             \n",
            "                                                                                                  \n",
            " activation_236 (Activation)    (None, 1, 1, 512)    0           ['bn5a_branch2a[0][0]']          \n",
            "                                                                                                  \n",
            " res5a_branch2b (Conv2D)        (None, 1, 1, 512)    2359808     ['activation_236[0][0]']         \n",
            "                                                                                                  \n",
            " bn5a_branch2b (BatchNormalizat  (None, 1, 1, 512)   2048        ['res5a_branch2b[0][0]']         \n",
            " ion)                                                                                             \n",
            "                                                                                                  \n",
            " activation_237 (Activation)    (None, 1, 1, 512)    0           ['bn5a_branch2b[0][0]']          \n",
            "                                                                                                  \n",
            " res5a_branch2c (Conv2D)        (None, 1, 1, 2048)   1050624     ['activation_237[0][0]']         \n",
            "                                                                                                  \n",
            " res5a_branch1 (Conv2D)         (None, 1, 1, 2048)   2099200     ['activation_235[0][0]']         \n",
            "                                                                                                  \n",
            " bn5a_branch2c (BatchNormalizat  (None, 1, 1, 2048)  8192        ['res5a_branch2c[0][0]']         \n",
            " ion)                                                                                             \n",
            "                                                                                                  \n",
            " bn5a_branch1 (BatchNormalizati  (None, 1, 1, 2048)  8192        ['res5a_branch1[0][0]']          \n",
            " on)                                                                                              \n",
            "                                                                                                  \n",
            " add_77 (Add)                   (None, 1, 1, 2048)   0           ['bn5a_branch2c[0][0]',          \n",
            "                                                                  'bn5a_branch1[0][0]']           \n",
            "                                                                                                  \n",
            " activation_238 (Activation)    (None, 1, 1, 2048)   0           ['add_77[0][0]']                 \n",
            "                                                                                                  \n",
            " res5b_branch2a (Conv2D)        (None, 1, 1, 512)    1049088     ['activation_238[0][0]']         \n",
            "                                                                                                  \n",
            " bn5b_branch2a (BatchNormalizat  (None, 1, 1, 512)   2048        ['res5b_branch2a[0][0]']         \n",
            " ion)                                                                                             \n",
            "                                                                                                  \n",
            " activation_239 (Activation)    (None, 1, 1, 512)    0           ['bn5b_branch2a[0][0]']          \n",
            "                                                                                                  \n",
            " res5b_branch2b (Conv2D)        (None, 1, 1, 512)    2359808     ['activation_239[0][0]']         \n",
            "                                                                                                  \n",
            " bn5b_branch2b (BatchNormalizat  (None, 1, 1, 512)   2048        ['res5b_branch2b[0][0]']         \n",
            " ion)                                                                                             \n",
            "                                                                                                  \n",
            " activation_240 (Activation)    (None, 1, 1, 512)    0           ['bn5b_branch2b[0][0]']          \n",
            "                                                                                                  \n",
            " res5b_branch2c (Conv2D)        (None, 1, 1, 2048)   1050624     ['activation_240[0][0]']         \n",
            "                                                                                                  \n",
            " bn5b_branch2c (BatchNormalizat  (None, 1, 1, 2048)  8192        ['res5b_branch2c[0][0]']         \n",
            " ion)                                                                                             \n",
            "                                                                                                  \n",
            " add_78 (Add)                   (None, 1, 1, 2048)   0           ['bn5b_branch2c[0][0]',          \n",
            "                                                                  'activation_238[0][0]']         \n",
            "                                                                                                  \n",
            " activation_241 (Activation)    (None, 1, 1, 2048)   0           ['add_78[0][0]']                 \n",
            "                                                                                                  \n",
            " res5c_branch2a (Conv2D)        (None, 1, 1, 512)    1049088     ['activation_241[0][0]']         \n",
            "                                                                                                  \n",
            " bn5c_branch2a (BatchNormalizat  (None, 1, 1, 512)   2048        ['res5c_branch2a[0][0]']         \n",
            " ion)                                                                                             \n",
            "                                                                                                  \n",
            " activation_242 (Activation)    (None, 1, 1, 512)    0           ['bn5c_branch2a[0][0]']          \n",
            "                                                                                                  \n",
            " res5c_branch2b (Conv2D)        (None, 1, 1, 512)    2359808     ['activation_242[0][0]']         \n",
            "                                                                                                  \n",
            " bn5c_branch2b (BatchNormalizat  (None, 1, 1, 512)   2048        ['res5c_branch2b[0][0]']         \n",
            " ion)                                                                                             \n",
            "                                                                                                  \n",
            " activation_243 (Activation)    (None, 1, 1, 512)    0           ['bn5c_branch2b[0][0]']          \n",
            "                                                                                                  \n",
            " res5c_branch2c (Conv2D)        (None, 1, 1, 2048)   1050624     ['activation_243[0][0]']         \n",
            "                                                                                                  \n",
            " bn5c_branch2c (BatchNormalizat  (None, 1, 1, 2048)  8192        ['res5c_branch2c[0][0]']         \n",
            " ion)                                                                                             \n",
            "                                                                                                  \n",
            " add_79 (Add)                   (None, 1, 1, 2048)   0           ['bn5c_branch2c[0][0]',          \n",
            "                                                                  'activation_241[0][0]']         \n",
            "                                                                                                  \n",
            " activation_244 (Activation)    (None, 1, 1, 2048)   0           ['add_79[0][0]']                 \n",
            "                                                                                                  \n",
            " average_pooling2d_4 (AveragePo  (None, 1, 1, 2048)  0           ['activation_244[0][0]']         \n",
            " oling2D)                                                                                         \n",
            "                                                                                                  \n",
            " flatten_4 (Flatten)            (None, 2048)         0           ['average_pooling2d_4[0][0]']    \n",
            "                                                                                                  \n",
            " fc1 (Dense)                    (None, 256)          524544      ['flatten_4[0][0]']              \n",
            "                                                                                                  \n",
            " fc2 (Dense)                    (None, 128)          32896       ['fc1[0][0]']                    \n",
            "                                                                                                  \n",
            " fc3 (Dense)                    (None, 1)            129         ['fc2[0][0]']                    \n",
            "                                                                                                  \n",
            "==================================================================================================\n",
            "Total params: 24,145,281\n",
            "Trainable params: 24,092,161\n",
            "Non-trainable params: 53,120\n",
            "__________________________________________________________________________________________________\n"
          ]
        }
      ]
    },
    {
      "cell_type": "markdown",
      "source": [
        "# **Download RESNET50 default weights**"
      ],
      "metadata": {
        "id": "bXbdbf6L2_tq"
      }
    },
    {
      "cell_type": "code",
      "source": [],
      "metadata": {
        "id": "dHS9adMM3Cma"
      },
      "execution_count": null,
      "outputs": []
    },
    {
      "cell_type": "code",
      "source": [
        "# for layer in base_model.layers:\n",
        "#     layer.trainable = False"
      ],
      "metadata": {
        "id": "Y_XvhGm-3HSi"
      },
      "execution_count": null,
      "outputs": []
    },
    {
      "cell_type": "code",
      "source": [
        "model.compile(optimizer='adam', loss='sparse_categorical_crossentropy', metrics=['accuracy'])"
      ],
      "metadata": {
        "id": "Adws_Hdg3YxJ"
      },
      "execution_count": 112,
      "outputs": []
    },
    {
      "cell_type": "code",
      "source": [
        "from keras.datasets import mnist\n",
        "(X_train,y_train),(X_test,y_test) = mnist.load_data()\n",
        "X_train.shape,X_test.shape,y_train.shape,y_test.shape"
      ],
      "metadata": {
        "colab": {
          "base_uri": "https://localhost:8080/"
        },
        "id": "1dm-lksl3HbB",
        "outputId": "902a6227-a531-40a5-815e-3828457cbefe"
      },
      "execution_count": 113,
      "outputs": [
        {
          "output_type": "execute_result",
          "data": {
            "text/plain": [
              "((60000, 28, 28), (10000, 28, 28), (60000,), (10000,))"
            ]
          },
          "metadata": {},
          "execution_count": 113
        }
      ]
    },
    {
      "cell_type": "code",
      "source": [
        "\n",
        "X_train = X_train[59000::]\n",
        "X_test = X_test[9000::]\n",
        "y_train = y_train[59000::]\n",
        "y_test = y_test[9000::]\n",
        "X_train.shape,X_test.shape,y_train.shape,y_test.shape\n"
      ],
      "metadata": {
        "colab": {
          "base_uri": "https://localhost:8080/"
        },
        "id": "AjWVMYOs3c4B",
        "outputId": "2bb9c611-8520-41c2-c4e9-4a868574177f"
      },
      "execution_count": 114,
      "outputs": [
        {
          "output_type": "execute_result",
          "data": {
            "text/plain": [
              "((1000, 28, 28), (1000, 28, 28), (1000,), (1000,))"
            ]
          },
          "metadata": {},
          "execution_count": 114
        }
      ]
    },
    {
      "cell_type": "code",
      "source": [
        "X_train = np.stack((X_train,)*3, axis=-1)\n",
        "X_test = np.stack((X_test,)*3, axis=-1)\n",
        "# X_train = X_train.repeat(8, axis=1).repeat(8, axis=2)\n",
        "# X_test = X_test.repeat(8, axis=1).repeat(8, axis=2)\n",
        "X_train.shape,X_test.shape,y_train.shape,y_test.shape"
      ],
      "metadata": {
        "colab": {
          "base_uri": "https://localhost:8080/"
        },
        "id": "REpBwpft3f5B",
        "outputId": "bfaa741d-e4aa-4021-d2fb-13b70a069810"
      },
      "execution_count": 115,
      "outputs": [
        {
          "output_type": "execute_result",
          "data": {
            "text/plain": [
              "((1000, 28, 28, 3), (1000, 28, 28, 3), (1000,), (1000,))"
            ]
          },
          "metadata": {},
          "execution_count": 115
        }
      ]
    },
    {
      "cell_type": "code",
      "source": [
        "\n",
        "X_train = X_train/255\n",
        "X_test = X_test/255"
      ],
      "metadata": {
        "id": "5Th7-VQ43lXg"
      },
      "execution_count": 116,
      "outputs": []
    },
    {
      "cell_type": "code",
      "source": [
        "model.fit(X_train, y_train, epochs = 10, batch_size = 32)  "
      ],
      "metadata": {
        "colab": {
          "base_uri": "https://localhost:8080/"
        },
        "id": "qhVHJM5Y3njh",
        "outputId": "8ade1ca0-51fc-4f73-d67c-15ec4bf83253"
      },
      "execution_count": 123,
      "outputs": [
        {
          "output_type": "stream",
          "name": "stdout",
          "text": [
            "Epoch 1/10\n",
            "32/32 [==============================] - 3s 75ms/step - loss: nan - accuracy: 0.0980\n",
            "Epoch 2/10\n",
            "32/32 [==============================] - 1s 42ms/step - loss: nan - accuracy: 0.0980\n",
            "Epoch 3/10\n",
            "32/32 [==============================] - 1s 41ms/step - loss: nan - accuracy: 0.0980\n",
            "Epoch 4/10\n",
            "32/32 [==============================] - 1s 42ms/step - loss: nan - accuracy: 0.0980\n",
            "Epoch 5/10\n",
            "32/32 [==============================] - 1s 41ms/step - loss: nan - accuracy: 0.0980\n",
            "Epoch 6/10\n",
            "32/32 [==============================] - 1s 41ms/step - loss: nan - accuracy: 0.0980\n",
            "Epoch 7/10\n",
            "32/32 [==============================] - 1s 41ms/step - loss: nan - accuracy: 0.0980\n",
            "Epoch 8/10\n",
            "32/32 [==============================] - 1s 42ms/step - loss: nan - accuracy: 0.0980\n",
            "Epoch 9/10\n",
            "32/32 [==============================] - 2s 48ms/step - loss: nan - accuracy: 0.0980\n",
            "Epoch 10/10\n",
            "32/32 [==============================] - 2s 53ms/step - loss: nan - accuracy: 0.0980\n"
          ]
        },
        {
          "output_type": "execute_result",
          "data": {
            "text/plain": [
              "<keras.callbacks.History at 0x7f89adab18e0>"
            ]
          },
          "metadata": {},
          "execution_count": 123
        }
      ]
    },
    {
      "cell_type": "code",
      "source": [
        "import tensorflow\n",
        "from tensorflow.keras.applications.resnet50 import ResNet50\n",
        "model1 = Sequential()\n",
        "\n",
        "model1.add(ResNet50(include_top = False, pooling = 'avg', weights = 'imagenet'))\n",
        "model1.add(Flatten())\n",
        "model1.add(Dense(256,activation='relu'))\n",
        "model1.add(Dense(10,activation='softmax'))\n",
        "model1.layers[0].trainable = False"
      ],
      "metadata": {
        "id": "MKmDKiSY_0ZK"
      },
      "execution_count": 118,
      "outputs": []
    },
    {
      "cell_type": "code",
      "source": [
        "model1.compile(optimizer='Adam', loss='sparse_categorical_crossentropy', metrics=['accuracy'])"
      ],
      "metadata": {
        "id": "RZcgiiJrABSe"
      },
      "execution_count": 119,
      "outputs": []
    },
    {
      "cell_type": "code",
      "source": [
        "model1.fit(X_train, y_train, epochs = 10, batch_size = 32)  "
      ],
      "metadata": {
        "colab": {
          "base_uri": "https://localhost:8080/"
        },
        "id": "dmylsDibALnN",
        "outputId": "83ff9302-4798-419b-cb29-112a750bf9dd"
      },
      "execution_count": 122,
      "outputs": [
        {
          "output_type": "stream",
          "name": "stdout",
          "text": [
            "Epoch 1/10\n",
            "32/32 [==============================] - 1s 26ms/step - loss: 0.4495 - accuracy: 0.8770\n",
            "Epoch 2/10\n",
            "32/32 [==============================] - 1s 18ms/step - loss: 0.3974 - accuracy: 0.8830\n",
            "Epoch 3/10\n",
            "32/32 [==============================] - 1s 17ms/step - loss: 0.3786 - accuracy: 0.8900\n",
            "Epoch 4/10\n",
            "32/32 [==============================] - 1s 16ms/step - loss: 0.3671 - accuracy: 0.8940\n",
            "Epoch 5/10\n",
            "32/32 [==============================] - 1s 17ms/step - loss: 0.3394 - accuracy: 0.8990\n",
            "Epoch 6/10\n",
            "32/32 [==============================] - 0s 13ms/step - loss: 0.3315 - accuracy: 0.9050\n",
            "Epoch 7/10\n",
            "32/32 [==============================] - 0s 13ms/step - loss: 0.2907 - accuracy: 0.9230\n",
            "Epoch 8/10\n",
            "32/32 [==============================] - 0s 13ms/step - loss: 0.2867 - accuracy: 0.9110\n",
            "Epoch 9/10\n",
            "32/32 [==============================] - 0s 12ms/step - loss: 0.2572 - accuracy: 0.9310\n",
            "Epoch 10/10\n",
            "32/32 [==============================] - 0s 13ms/step - loss: 0.2488 - accuracy: 0.9330\n"
          ]
        },
        {
          "output_type": "execute_result",
          "data": {
            "text/plain": [
              "<keras.callbacks.History at 0x7f89adce7a00>"
            ]
          },
          "metadata": {},
          "execution_count": 122
        }
      ]
    },
    {
      "cell_type": "code",
      "source": [],
      "metadata": {
        "id": "ofLafjovAP7b"
      },
      "execution_count": null,
      "outputs": []
    }
  ]
}