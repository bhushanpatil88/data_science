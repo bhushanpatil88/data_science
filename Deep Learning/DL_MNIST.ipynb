{
  "nbformat": 4,
  "nbformat_minor": 0,
  "metadata": {
    "colab": {
      "provenance": []
    },
    "kernelspec": {
      "name": "python3",
      "display_name": "Python 3"
    },
    "language_info": {
      "name": "python"
    }
  },
  "cells": [
    {
      "cell_type": "code",
      "execution_count": null,
      "metadata": {
        "id": "ijALFow-MtgK"
      },
      "outputs": [],
      "source": [
        "import tensorflow\n",
        "from tensorflow import keras\n",
        "from tensorflow.keras import Sequential\n",
        "from tensorflow.keras.layers import Dense,Flatten,Dropout,BatchNormalization"
      ]
    },
    {
      "cell_type": "code",
      "source": [
        "(X_train,y_train),(X_test,y_test) = keras.datasets.mnist.load_data()"
      ],
      "metadata": {
        "colab": {
          "base_uri": "https://localhost:8080/"
        },
        "id": "nawYG8LTM3bU",
        "outputId": "12242062-ae6b-480d-bce9-797b4b99593f"
      },
      "execution_count": null,
      "outputs": [
        {
          "output_type": "stream",
          "name": "stdout",
          "text": [
            "Downloading data from https://storage.googleapis.com/tensorflow/tf-keras-datasets/mnist.npz\n",
            "11490434/11490434 [==============================] - 0s 0us/step\n"
          ]
        }
      ]
    },
    {
      "cell_type": "code",
      "source": [
        "X_train = X_train/255\n",
        "X_test = X_test/255"
      ],
      "metadata": {
        "id": "OgEvjxfxM-5i"
      },
      "execution_count": null,
      "outputs": []
    },
    {
      "cell_type": "code",
      "source": [
        "model = Sequential()\n",
        "\n",
        "model.add(Flatten(input_shape=(28,28)))\n",
        "model.add(Dense(128,activation='relu'))\n",
        "model.add(Dense(32,activation='relu'))\n",
        "model.add(Dense(10,activation='softmax'))"
      ],
      "metadata": {
        "id": "T1N3uMk_NALJ"
      },
      "execution_count": null,
      "outputs": []
    },
    {
      "cell_type": "code",
      "source": [
        "model.summary()"
      ],
      "metadata": {
        "colab": {
          "base_uri": "https://localhost:8080/"
        },
        "id": "lU1dP2QTNKJL",
        "outputId": "41828d5e-3859-4ba1-96a9-1640b2bdad8a"
      },
      "execution_count": null,
      "outputs": [
        {
          "output_type": "stream",
          "name": "stdout",
          "text": [
            "Model: \"sequential_2\"\n",
            "_________________________________________________________________\n",
            " Layer (type)                Output Shape              Param #   \n",
            "=================================================================\n",
            " flatten_2 (Flatten)         (None, 784)               0         \n",
            "                                                                 \n",
            " dense_8 (Dense)             (None, 128)               100480    \n",
            "                                                                 \n",
            " dense_9 (Dense)             (None, 32)                4128      \n",
            "                                                                 \n",
            " dense_10 (Dense)            (None, 10)                330       \n",
            "                                                                 \n",
            "=================================================================\n",
            "Total params: 104,938\n",
            "Trainable params: 104,938\n",
            "Non-trainable params: 0\n",
            "_________________________________________________________________\n"
          ]
        }
      ]
    },
    {
      "cell_type": "code",
      "source": [
        "model.compile(optimizer='Adam',loss='sparse_categorical_crossentropy',metrics=['accuracy'])"
      ],
      "metadata": {
        "id": "QB3sNQe_NMpS"
      },
      "execution_count": null,
      "outputs": []
    },
    {
      "cell_type": "code",
      "source": [
        "history = model.fit(X_train,y_train,batch_size=100,epochs=25,verbose=1,validation_split=0.2)"
      ],
      "metadata": {
        "colab": {
          "base_uri": "https://localhost:8080/"
        },
        "id": "MdYcI5q5NOrp",
        "outputId": "336ffaaf-c47a-4c3b-b9dd-b63afceed273"
      },
      "execution_count": null,
      "outputs": [
        {
          "output_type": "stream",
          "name": "stdout",
          "text": [
            "Epoch 1/25\n",
            "480/480 [==============================] - 3s 5ms/step - loss: 0.0275 - accuracy: 0.9923 - val_loss: 0.0772 - val_accuracy: 0.9772\n",
            "Epoch 2/25\n",
            "480/480 [==============================] - 2s 5ms/step - loss: 0.0204 - accuracy: 0.9946 - val_loss: 0.0772 - val_accuracy: 0.9779\n",
            "Epoch 3/25\n",
            "480/480 [==============================] - 2s 5ms/step - loss: 0.0165 - accuracy: 0.9955 - val_loss: 0.0778 - val_accuracy: 0.9795\n",
            "Epoch 4/25\n",
            "480/480 [==============================] - 2s 5ms/step - loss: 0.0139 - accuracy: 0.9967 - val_loss: 0.0861 - val_accuracy: 0.9764\n",
            "Epoch 5/25\n",
            "480/480 [==============================] - 3s 5ms/step - loss: 0.0127 - accuracy: 0.9968 - val_loss: 0.0949 - val_accuracy: 0.9743\n",
            "Epoch 6/25\n",
            "480/480 [==============================] - 2s 5ms/step - loss: 0.0110 - accuracy: 0.9972 - val_loss: 0.0913 - val_accuracy: 0.9758\n",
            "Epoch 7/25\n",
            "480/480 [==============================] - 2s 5ms/step - loss: 0.0110 - accuracy: 0.9970 - val_loss: 0.0842 - val_accuracy: 0.9787\n",
            "Epoch 8/25\n",
            "480/480 [==============================] - 2s 5ms/step - loss: 0.0081 - accuracy: 0.9978 - val_loss: 0.0957 - val_accuracy: 0.9768\n",
            "Epoch 9/25\n",
            "480/480 [==============================] - 2s 5ms/step - loss: 0.0070 - accuracy: 0.9983 - val_loss: 0.1036 - val_accuracy: 0.9765\n",
            "Epoch 10/25\n",
            "480/480 [==============================] - 2s 5ms/step - loss: 0.0099 - accuracy: 0.9968 - val_loss: 0.1052 - val_accuracy: 0.9770\n",
            "Epoch 11/25\n",
            "480/480 [==============================] - 2s 5ms/step - loss: 0.0087 - accuracy: 0.9973 - val_loss: 0.1057 - val_accuracy: 0.9778\n",
            "Epoch 12/25\n",
            "480/480 [==============================] - 2s 5ms/step - loss: 0.0040 - accuracy: 0.9990 - val_loss: 0.1059 - val_accuracy: 0.9775\n",
            "Epoch 13/25\n",
            "480/480 [==============================] - 2s 5ms/step - loss: 0.0050 - accuracy: 0.9987 - val_loss: 0.1100 - val_accuracy: 0.9765\n",
            "Epoch 14/25\n",
            "480/480 [==============================] - 2s 5ms/step - loss: 0.0076 - accuracy: 0.9975 - val_loss: 0.1160 - val_accuracy: 0.9760\n",
            "Epoch 15/25\n",
            "480/480 [==============================] - 2s 5ms/step - loss: 0.0058 - accuracy: 0.9983 - val_loss: 0.1144 - val_accuracy: 0.9779\n",
            "Epoch 16/25\n",
            "480/480 [==============================] - 2s 5ms/step - loss: 0.0020 - accuracy: 0.9996 - val_loss: 0.1084 - val_accuracy: 0.9789\n",
            "Epoch 17/25\n",
            "480/480 [==============================] - 5s 10ms/step - loss: 7.4866e-04 - accuracy: 1.0000 - val_loss: 0.1136 - val_accuracy: 0.9783\n",
            "Epoch 18/25\n",
            "480/480 [==============================] - 5s 11ms/step - loss: 3.5358e-04 - accuracy: 1.0000 - val_loss: 0.1119 - val_accuracy: 0.9788\n",
            "Epoch 19/25\n",
            "480/480 [==============================] - 7s 14ms/step - loss: 2.3585e-04 - accuracy: 1.0000 - val_loss: 0.1129 - val_accuracy: 0.9798\n",
            "Epoch 20/25\n",
            "480/480 [==============================] - 6s 13ms/step - loss: 1.9455e-04 - accuracy: 1.0000 - val_loss: 0.1148 - val_accuracy: 0.9793\n",
            "Epoch 21/25\n",
            "480/480 [==============================] - 5s 10ms/step - loss: 1.6674e-04 - accuracy: 1.0000 - val_loss: 0.1154 - val_accuracy: 0.9793\n",
            "Epoch 22/25\n",
            "480/480 [==============================] - 3s 7ms/step - loss: 1.3694e-04 - accuracy: 1.0000 - val_loss: 0.1172 - val_accuracy: 0.9801\n",
            "Epoch 23/25\n",
            "480/480 [==============================] - 2s 5ms/step - loss: 0.0120 - accuracy: 0.9969 - val_loss: 0.1861 - val_accuracy: 0.9641\n",
            "Epoch 24/25\n",
            "480/480 [==============================] - 2s 5ms/step - loss: 0.0163 - accuracy: 0.9944 - val_loss: 0.1251 - val_accuracy: 0.9753\n",
            "Epoch 25/25\n",
            "480/480 [==============================] - 2s 5ms/step - loss: 0.0035 - accuracy: 0.9989 - val_loss: 0.1251 - val_accuracy: 0.9778\n"
          ]
        }
      ]
    },
    {
      "cell_type": "code",
      "source": [
        "y_pred = model.predict(X_test)\n",
        "y_pred = y_pred.argmax(axis=-1)"
      ],
      "metadata": {
        "colab": {
          "base_uri": "https://localhost:8080/"
        },
        "id": "zP98gPSVNRYi",
        "outputId": "0de0a44a-b96b-4d1f-82b6-7cbe8ed3766b"
      },
      "execution_count": null,
      "outputs": [
        {
          "output_type": "stream",
          "name": "stdout",
          "text": [
            "313/313 [==============================] - 1s 2ms/step\n"
          ]
        }
      ]
    },
    {
      "cell_type": "code",
      "source": [
        "from sklearn.metrics import accuracy_score\n",
        "accuracy_score(y_test,y_pred)"
      ],
      "metadata": {
        "colab": {
          "base_uri": "https://localhost:8080/"
        },
        "id": "72jUPkErN1I8",
        "outputId": "d41331b2-9897-4665-b139-d000c8829639"
      },
      "execution_count": null,
      "outputs": [
        {
          "output_type": "execute_result",
          "data": {
            "text/plain": [
              "0.9798"
            ]
          },
          "metadata": {},
          "execution_count": 23
        }
      ]
    },
    {
      "cell_type": "code",
      "source": [
        "import matplotlib.pyplot as plt\n",
        "\n",
        "plt.plot(history.history['loss'])\n",
        "plt.plot(history.history['val_loss'])"
      ],
      "metadata": {
        "colab": {
          "base_uri": "https://localhost:8080/",
          "height": 282
        },
        "id": "5ycjIYbLN32h",
        "outputId": "ccf41f5c-1239-4889-a091-38a2d730cde6"
      },
      "execution_count": null,
      "outputs": [
        {
          "output_type": "execute_result",
          "data": {
            "text/plain": [
              "[<matplotlib.lines.Line2D at 0x7f04c38338b0>]"
            ]
          },
          "metadata": {},
          "execution_count": 24
        },
        {
          "output_type": "display_data",
          "data": {
            "text/plain": [
              "<Figure size 432x288 with 1 Axes>"
            ],
            "image/png": "[encoded data removed]"
          },
          "metadata": {
            "needs_background": "light"
          }
        }
      ]
    },
    {
      "cell_type": "code",
      "source": [
        "plt.plot(history.history['accuracy'])\n",
        "plt.plot(history.history['val_accuracy'])\n"
      ],
      "metadata": {
        "colab": {
          "base_uri": "https://localhost:8080/",
          "height": 282
        },
        "id": "5yqVRu4nPFrL",
        "outputId": "b4bd76ad-a8d4-411f-a8ff-865f9cb94293"
      },
      "execution_count": null,
      "outputs": [
        {
          "output_type": "execute_result",
          "data": {
            "text/plain": [
              "[<matplotlib.lines.Line2D at 0x7f04c5c0a190>]"
            ]
          },
          "metadata": {},
          "execution_count": 25
        },
        {
          "output_type": "display_data",
          "data": {
            "text/plain": [
              "<Figure size 432x288 with 1 Axes>"
            ],
            "image/png": "[encoded data removed]"
          },
          "metadata": {
            "needs_background": "light"
          }
        }
      ]
    },
    {
      "cell_type": "code",
      "source": [],
      "metadata": {
        "id": "TDIqTxFWPPbK"
      },
      "execution_count": null,
      "outputs": []
    }
  ]
}