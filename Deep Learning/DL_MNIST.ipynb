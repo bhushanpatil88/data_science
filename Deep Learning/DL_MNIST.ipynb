{
  "cells": [
    {
      "cell_type": "code",
      "execution_count": null,
      "metadata": {
        "id": "ijALFow-MtgK"
      },
      "outputs": [],
      "source": [
        "import tensorflow as tf\n",
        "from tensorflow import keras\n",
        "from tensorflow.keras import Sequential\n",
        "from tensorflow.keras.layers import Dense,Flatten,Dropout,BatchNormalization,Conv2D\n",
        "\n",
        "\n",
        "import numpy as np\n",
        "import pandas as pd\n",
        "import matplotlib.pyplot as plt\n",
        "import seaborn as sns\n",
        "from sklearn.ensemble import RandomForestClassifier \n",
        "from sklearn.metrics import classification_report, confusion_matrix,accuracy_score\n",
        "\n",
        "%matplotlib inline "
      ]
    },
    {
      "cell_type": "code",
      "execution_count": null,
      "metadata": {
        "colab": {
          "base_uri": "https://localhost:8080/"
        },
        "id": "nawYG8LTM3bU",
        "outputId": "a378e7ee-3470-4c3a-c134-a2fc8ef0de0b"
      },
      "outputs": [
        {
          "output_type": "stream",
          "name": "stdout",
          "text": [
            "Downloading data from https://storage.googleapis.com/tensorflow/tf-keras-datasets/mnist.npz\n",
            "11490434/11490434 [==============================] - 2s 0us/step\n"
          ]
        }
      ],
      "source": [
        "(X_train,y_train),(X_test,y_test) = keras.datasets.mnist.load_data()"
      ]
    },
    {
      "cell_type": "code",
      "execution_count": null,
      "metadata": {
        "colab": {
          "base_uri": "https://localhost:8080/"
        },
        "id": "q-J8iQXJdjuq",
        "outputId": "c232a74b-762b-4b93-8ae0-22e01a993a2e"
      },
      "outputs": [
        {
          "data": {
            "text/plain": [
              "((60000, 28, 28), (10000, 28, 28), (60000,), (10000,))"
            ]
          },
          "execution_count": 3,
          "metadata": {},
          "output_type": "execute_result"
        }
      ],
      "source": [
        "X_train.shape,X_test.shape, y_train.shape, y_test.shape"
      ]
    },
    {
      "cell_type": "markdown",
      "metadata": {
        "id": "9LXfWiYkgPd7"
      },
      "source": [
        "### **Display the Pixels**"
      ]
    },
    {
      "cell_type": "code",
      "execution_count": null,
      "metadata": {
        "colab": {
          "base_uri": "https://localhost:8080/",
          "height": 433
        },
        "id": "nheT9z63gNwa",
        "outputId": "f0775123-f0b7-41a5-980d-178289da33cf"
      },
      "outputs": [
        {
          "data": {
            "image/png": "[encoded data removed]",
            "text/plain": [
              "<Figure size 640x480 with 9 Axes>"
            ]
          },
          "metadata": {},
          "output_type": "display_data"
        }
      ],
      "source": [
        "fig, axs = plt.subplots(3, 3)\n",
        "cnt = 0\n",
        "for i in range(3):\n",
        "     for j in range(3):\n",
        "         axs[i, j].imshow(X_train[cnt])\n",
        "         cnt += 1"
      ]
    },
    {
      "cell_type": "markdown",
      "metadata": {
        "id": "uSv0kv5UfzOU"
      },
      "source": [
        "**Flatten and Normalize the pixels**"
      ]
    },
    {
      "cell_type": "code",
      "execution_count": null,
      "metadata": {
        "id": "OgEvjxfxM-5i"
      },
      "outputs": [],
      "source": [
        "X_train = X_train.reshape(X_train.shape[0],28*28);\n",
        "X_test = X_test.reshape(X_test.shape[0],28*28);\n",
        "\n",
        "X_train = X_train/255\n",
        "X_test = X_test/255"
      ]
    },
    {
      "cell_type": "markdown",
      "metadata": {
        "id": "r7mWLiPN9cIs"
      },
      "source": [
        "**Training using KNN algorithm**"
      ]
    },
    {
      "cell_type": "code",
      "execution_count": null,
      "metadata": {
        "id": "YtJwW-_W88ug"
      },
      "outputs": [],
      "source": [
        "from sklearn.neighbors import KNeighborsClassifier\n",
        "classifier = KNeighborsClassifier(n_neighbors = 10)\n",
        "classifier.fit(X_train, y_train)\n",
        "y_pred = classifier.predict(X_test)"
      ]
    },
    {
      "cell_type": "code",
      "execution_count": null,
      "metadata": {
        "colab": {
          "base_uri": "https://localhost:8080/"
        },
        "id": "FW5PzGvo886G",
        "outputId": "82b7ac8f-5875-4f2d-bcce-e21b1b24330e"
      },
      "outputs": [
        {
          "name": "stdout",
          "output_type": "stream",
          "text": [
            "              precision    recall  f1-score   support\n",
            "\n",
            "           0       0.96      0.99      0.98       980\n",
            "           1       0.94      1.00      0.97      1135\n",
            "           2       0.98      0.95      0.97      1032\n",
            "           3       0.97      0.97      0.97      1010\n",
            "           4       0.97      0.96      0.97       982\n",
            "           5       0.97      0.97      0.97       892\n",
            "           6       0.98      0.98      0.98       958\n",
            "           7       0.96      0.96      0.96      1028\n",
            "           8       0.99      0.94      0.96       974\n",
            "           9       0.95      0.95      0.95      1009\n",
            "\n",
            "    accuracy                           0.97     10000\n",
            "   macro avg       0.97      0.97      0.97     10000\n",
            "weighted avg       0.97      0.97      0.97     10000\n",
            "\n",
            "[[ 972    1    1    0    0    2    3    1    0    0]\n",
            " [   0 1132    2    0    0    0    1    0    0    0]\n",
            " [  13   12  982    2    1    0    2   17    3    0]\n",
            " [   0    3    3  976    1   10    1    7    6    3]\n",
            " [   2   11    0    0  940    0    4    1    1   23]\n",
            " [   4    0    0   12    1  863    6    1    1    4]\n",
            " [   6    4    0    0    3    2  943    0    0    0]\n",
            " [   0   27    4    0    2    0    0  983    0   12]\n",
            " [   6    4    5   11    7    9    4    7  914    7]\n",
            " [   7    6    3    7   10    3    1   10    2  960]]\n",
            "\n",
            "\n",
            "Accuracy of KNNClassifier: 96.65 \n",
            "\n"
          ]
        }
      ],
      "source": [
        "print(classification_report(y_test, y_pred))\n",
        "print(confusion_matrix(y_test, y_pred))\n",
        "dt_acc_score = accuracy_score(y_test, y_pred)\n",
        "print('\\n')\n",
        "print(\"Accuracy of KNNClassifier:\",dt_acc_score*100,'\\n')"
      ]
    },
    {
      "cell_type": "markdown",
      "metadata": {
        "id": "pIIqtlu6bZYc"
      },
      "source": [
        "**MNIST using Random Forest Classifier**"
      ]
    },
    {
      "cell_type": "code",
      "execution_count": null,
      "metadata": {
        "id": "5Ize0mAqbYSw"
      },
      "outputs": [],
      "source": [
        "from sklearn.ensemble import RandomForestClassifier\n",
        "rf_classifier = RandomForestClassifier(n_estimators = 50, criterion = 'entropy', random_state = 0)\n",
        "rf_classifier.fit(X_train, y_train)\n",
        "y_pred = rf_classifier.predict(X_test)"
      ]
    },
    {
      "cell_type": "code",
      "execution_count": null,
      "metadata": {
        "colab": {
          "base_uri": "https://localhost:8080/"
        },
        "id": "KTHFiCtxhQcd",
        "outputId": "fb31e228-90eb-4c31-d194-61696d61f410"
      },
      "outputs": [
        {
          "name": "stdout",
          "output_type": "stream",
          "text": [
            "              precision    recall  f1-score   support\n",
            "\n",
            "           0       0.97      0.99      0.98       980\n",
            "           1       0.99      0.99      0.99      1135\n",
            "           2       0.96      0.97      0.96      1032\n",
            "           3       0.96      0.96      0.96      1010\n",
            "           4       0.98      0.97      0.97       982\n",
            "           5       0.97      0.96      0.97       892\n",
            "           6       0.97      0.97      0.97       958\n",
            "           7       0.97      0.96      0.96      1028\n",
            "           8       0.96      0.95      0.95       974\n",
            "           9       0.96      0.95      0.95      1009\n",
            "\n",
            "    accuracy                           0.97     10000\n",
            "   macro avg       0.97      0.97      0.97     10000\n",
            "weighted avg       0.97      0.97      0.97     10000\n",
            "\n",
            "[[ 968    1    0    0    0    4    4    1    2    0]\n",
            " [   0 1122    4    2    0    3    2    1    1    0]\n",
            " [   6    0  999    5    2    1    4   10    5    0]\n",
            " [   1    0   10  965    0    9    1   11   10    3]\n",
            " [   1    0    1    0  952    0    5    2    4   17]\n",
            " [   4    0    0   13    1  858    7    1    6    2]\n",
            " [   8    3    1    0    4    3  934    0    5    0]\n",
            " [   1    6   22    1    1    0    0  984    4    9]\n",
            " [   5    0    6    6    4    6    5    3  927   12]\n",
            " [   6    5    1   14   12    2    1    3    6  959]]\n",
            "\n",
            "\n",
            "Accuracy of RandomForestClassifier: 96.67999999999999 \n",
            "\n"
          ]
        }
      ],
      "source": [
        "print(classification_report(y_test, y_pred))\n",
        "print(confusion_matrix(y_test, y_pred))\n",
        "dt_acc_score = accuracy_score(y_test, y_pred)\n",
        "print('\\n')\n",
        "print(\"Accuracy of RandomForestClassifier:\",dt_acc_score*100,'\\n')"
      ]
    },
    {
      "cell_type": "markdown",
      "metadata": {
        "id": "Xj2xhdpqh3a8"
      },
      "source": [
        "**Classification using ANN**"
      ]
    },
    {
      "cell_type": "code",
      "execution_count": null,
      "metadata": {
        "id": "T1N3uMk_NALJ"
      },
      "outputs": [],
      "source": [
        "model = Sequential()\n",
        "\n",
        "model.add(Flatten(input_shape=(28,28)))\n",
        "model.add(Dense(128,activation='relu'))\n",
        "model.add(Dense(32,activation='relu'))\n",
        "model.add(Dense(10,activation='softmax'))"
      ]
    },
    {
      "cell_type": "code",
      "execution_count": null,
      "metadata": {
        "colab": {
          "base_uri": "https://localhost:8080/"
        },
        "id": "lU1dP2QTNKJL",
        "outputId": "f1ab38ca-ee41-45b0-9094-1e8ce5d7c5f3"
      },
      "outputs": [
        {
          "name": "stdout",
          "output_type": "stream",
          "text": [
            "Model: \"sequential\"\n",
            "_________________________________________________________________\n",
            " Layer (type)                Output Shape              Param #   \n",
            "=================================================================\n",
            " flatten (Flatten)           (None, 784)               0         \n",
            "                                                                 \n",
            " dense (Dense)               (None, 128)               100480    \n",
            "                                                                 \n",
            " dense_1 (Dense)             (None, 32)                4128      \n",
            "                                                                 \n",
            " dense_2 (Dense)             (None, 10)                330       \n",
            "                                                                 \n",
            "=================================================================\n",
            "Total params: 104,938\n",
            "Trainable params: 104,938\n",
            "Non-trainable params: 0\n",
            "_________________________________________________________________\n"
          ]
        }
      ],
      "source": [
        "model.summary()"
      ]
    },
    {
      "cell_type": "code",
      "execution_count": null,
      "metadata": {
        "id": "QB3sNQe_NMpS"
      },
      "outputs": [],
      "source": [
        "model.compile(optimizer='Adam',loss='sparse_categorical_crossentropy',metrics=['accuracy'])"
      ]
    },
    {
      "cell_type": "code",
      "execution_count": null,
      "metadata": {
        "colab": {
          "base_uri": "https://localhost:8080/"
        },
        "id": "OIAU1V6fiF14",
        "outputId": "5522878d-e564-4a9a-daa8-6ef5406133b3"
      },
      "outputs": [
        {
          "data": {
            "text/plain": [
              "((60000, 28, 28), (10000, 28, 28), (60000,), (10000,))"
            ]
          },
          "execution_count": 11,
          "metadata": {},
          "output_type": "execute_result"
        }
      ],
      "source": [
        "X_train = X_train.reshape([X_train.shape[0],28,28])\n",
        "X_test = X_test.reshape([X_test.shape[0],28,28])\n",
        "X_train.shape,X_test.shape, y_train.shape, y_test.shape\n"
      ]
    },
    {
      "cell_type": "code",
      "execution_count": null,
      "metadata": {
        "colab": {
          "base_uri": "https://localhost:8080/"
        },
        "id": "MdYcI5q5NOrp",
        "outputId": "c2069eb7-5e27-4c84-f893-0bcaf2df8640"
      },
      "outputs": [
        {
          "name": "stdout",
          "output_type": "stream",
          "text": [
            "Epoch 1/25\n",
            "480/480 [==============================] - 10s 7ms/step - loss: 0.3829 - accuracy: 0.8902 - val_loss: 0.1832 - val_accuracy: 0.9486\n",
            "Epoch 2/25\n",
            "480/480 [==============================] - 3s 6ms/step - loss: 0.1607 - accuracy: 0.9531 - val_loss: 0.1444 - val_accuracy: 0.9567\n",
            "Epoch 3/25\n",
            "480/480 [==============================] - 4s 8ms/step - loss: 0.1154 - accuracy: 0.9656 - val_loss: 0.1247 - val_accuracy: 0.9625\n",
            "Epoch 4/25\n",
            "480/480 [==============================] - 3s 6ms/step - loss: 0.0868 - accuracy: 0.9743 - val_loss: 0.1163 - val_accuracy: 0.9642\n",
            "Epoch 5/25\n",
            "480/480 [==============================] - 3s 6ms/step - loss: 0.0713 - accuracy: 0.9788 - val_loss: 0.1076 - val_accuracy: 0.9679\n",
            "Epoch 6/25\n",
            "480/480 [==============================] - 2s 5ms/step - loss: 0.0584 - accuracy: 0.9827 - val_loss: 0.1004 - val_accuracy: 0.9713\n",
            "Epoch 7/25\n",
            "480/480 [==============================] - 2s 4ms/step - loss: 0.0459 - accuracy: 0.9865 - val_loss: 0.0993 - val_accuracy: 0.9707\n",
            "Epoch 8/25\n",
            "480/480 [==============================] - 2s 4ms/step - loss: 0.0386 - accuracy: 0.9882 - val_loss: 0.0958 - val_accuracy: 0.9717\n",
            "Epoch 9/25\n",
            "480/480 [==============================] - 2s 3ms/step - loss: 0.0324 - accuracy: 0.9899 - val_loss: 0.0954 - val_accuracy: 0.9731\n",
            "Epoch 10/25\n",
            "480/480 [==============================] - 2s 3ms/step - loss: 0.0277 - accuracy: 0.9913 - val_loss: 0.0932 - val_accuracy: 0.9742\n",
            "Epoch 11/25\n",
            "480/480 [==============================] - 2s 3ms/step - loss: 0.0222 - accuracy: 0.9933 - val_loss: 0.1034 - val_accuracy: 0.9732\n",
            "Epoch 12/25\n",
            "480/480 [==============================] - 2s 3ms/step - loss: 0.0200 - accuracy: 0.9939 - val_loss: 0.1022 - val_accuracy: 0.9743\n",
            "Epoch 13/25\n",
            "480/480 [==============================] - 2s 3ms/step - loss: 0.0158 - accuracy: 0.9956 - val_loss: 0.1012 - val_accuracy: 0.9729\n",
            "Epoch 14/25\n",
            "480/480 [==============================] - 2s 3ms/step - loss: 0.0144 - accuracy: 0.9958 - val_loss: 0.1052 - val_accuracy: 0.9732\n",
            "Epoch 15/25\n",
            "480/480 [==============================] - 2s 5ms/step - loss: 0.0105 - accuracy: 0.9974 - val_loss: 0.1047 - val_accuracy: 0.9749\n",
            "Epoch 16/25\n",
            "480/480 [==============================] - 2s 3ms/step - loss: 0.0109 - accuracy: 0.9968 - val_loss: 0.1191 - val_accuracy: 0.9705\n",
            "Epoch 17/25\n",
            "480/480 [==============================] - 2s 4ms/step - loss: 0.0105 - accuracy: 0.9969 - val_loss: 0.1204 - val_accuracy: 0.9746\n",
            "Epoch 18/25\n",
            "480/480 [==============================] - 2s 3ms/step - loss: 0.0068 - accuracy: 0.9982 - val_loss: 0.1123 - val_accuracy: 0.9754\n",
            "Epoch 19/25\n",
            "480/480 [==============================] - 2s 3ms/step - loss: 0.0068 - accuracy: 0.9984 - val_loss: 0.1508 - val_accuracy: 0.9678\n",
            "Epoch 20/25\n",
            "480/480 [==============================] - 2s 4ms/step - loss: 0.0137 - accuracy: 0.9953 - val_loss: 0.1166 - val_accuracy: 0.9739\n",
            "Epoch 21/25\n",
            "480/480 [==============================] - 2s 3ms/step - loss: 0.0059 - accuracy: 0.9983 - val_loss: 0.1104 - val_accuracy: 0.9768\n",
            "Epoch 22/25\n",
            "480/480 [==============================] - 2s 4ms/step - loss: 0.0021 - accuracy: 0.9997 - val_loss: 0.1155 - val_accuracy: 0.9764\n",
            "Epoch 23/25\n",
            "480/480 [==============================] - 2s 4ms/step - loss: 0.0016 - accuracy: 0.9999 - val_loss: 0.1184 - val_accuracy: 0.9758\n",
            "Epoch 24/25\n",
            "480/480 [==============================] - 2s 3ms/step - loss: 0.0019 - accuracy: 0.9996 - val_loss: 0.1466 - val_accuracy: 0.9707\n",
            "Epoch 25/25\n",
            "480/480 [==============================] - 2s 3ms/step - loss: 0.0214 - accuracy: 0.9927 - val_loss: 0.1259 - val_accuracy: 0.9749\n"
          ]
        }
      ],
      "source": [
        "history = model.fit(X_train,y_train,batch_size=100,epochs=25,verbose=1,validation_split=0.2)"
      ]
    },
    {
      "cell_type": "code",
      "execution_count": null,
      "metadata": {
        "colab": {
          "base_uri": "https://localhost:8080/"
        },
        "id": "zP98gPSVNRYi",
        "outputId": "d059c451-cbde-4e7f-9154-47075f086309"
      },
      "outputs": [
        {
          "name": "stdout",
          "output_type": "stream",
          "text": [
            "313/313 [==============================] - 1s 2ms/step\n"
          ]
        }
      ],
      "source": [
        "y_pred = model.predict(X_test)\n",
        "y_pred = y_pred.argmax(axis=-1)"
      ]
    },
    {
      "cell_type": "code",
      "execution_count": null,
      "metadata": {
        "colab": {
          "base_uri": "https://localhost:8080/"
        },
        "id": "72jUPkErN1I8",
        "outputId": "bd37cb67-45bd-4506-9261-5a23b578fcff"
      },
      "outputs": [
        {
          "name": "stdout",
          "output_type": "stream",
          "text": [
            "              precision    recall  f1-score   support\n",
            "\n",
            "           0       0.98      0.99      0.99       980\n",
            "           1       0.98      0.99      0.99      1135\n",
            "           2       0.98      0.96      0.97      1032\n",
            "           3       0.97      0.98      0.98      1010\n",
            "           4       0.98      0.98      0.98       982\n",
            "           5       0.97      0.98      0.97       892\n",
            "           6       0.98      0.97      0.98       958\n",
            "           7       0.98      0.98      0.98      1028\n",
            "           8       0.96      0.97      0.96       974\n",
            "           9       0.98      0.95      0.97      1009\n",
            "\n",
            "    accuracy                           0.98     10000\n",
            "   macro avg       0.98      0.98      0.98     10000\n",
            "weighted avg       0.98      0.98      0.98     10000\n",
            "\n",
            "[[ 970    1    1    1    0    3    1    2    1    0]\n",
            " [   0 1125    1    0    0    2    3    1    3    0]\n",
            " [   3    5  995    6    2    0    2    5   14    0]\n",
            " [   0    1    1  991    0    5    0    3    6    3]\n",
            " [   1    1    8    1  960    0    2    1    1    7]\n",
            " [   1    0    1    6    1  873    4    0    2    4]\n",
            " [   5    5    0    1    5    6  933    0    2    1]\n",
            " [   0    7    6    2    2    0    0 1004    3    4]\n",
            " [   5    0    4    4    1    8    5    4  940    3]\n",
            " [   3    4    0    9   11    2    2    9    6  963]]\n",
            "\n",
            "\n",
            "Accuracy of ANN: 97.54 \n",
            "\n"
          ]
        }
      ],
      "source": [
        "print(classification_report(y_test, y_pred))\n",
        "print(confusion_matrix(y_test, y_pred))\n",
        "dt_acc_score = accuracy_score(y_test, y_pred)\n",
        "print('\\n')\n",
        "print(\"Accuracy of ANN:\",dt_acc_score*100,'\\n')"
      ]
    },
    {
      "cell_type": "code",
      "execution_count": null,
      "metadata": {
        "colab": {
          "base_uri": "https://localhost:8080/",
          "height": 451
        },
        "id": "5ycjIYbLN32h",
        "outputId": "feed587f-a9c3-4af1-ebe3-1d002d700e5c"
      },
      "outputs": [
        {
          "data": {
            "text/plain": [
              "[<matplotlib.lines.Line2D at 0x7f59e023a6a0>]"
            ]
          },
          "execution_count": 15,
          "metadata": {},
          "output_type": "execute_result"
        },
        {
          "data": {
            "image/png": "[encoded data removed]",
            "text/plain": [
              "<Figure size 640x480 with 1 Axes>"
            ]
          },
          "metadata": {},
          "output_type": "display_data"
        }
      ],
      "source": [
        "import matplotlib.pyplot as plt\n",
        "\n",
        "plt.plot(history.history['loss'])\n",
        "plt.plot(history.history['val_loss'])"
      ]
    },
    {
      "cell_type": "code",
      "execution_count": null,
      "metadata": {
        "colab": {
          "base_uri": "https://localhost:8080/",
          "height": 447
        },
        "id": "5yqVRu4nPFrL",
        "outputId": "2af83c73-1029-4954-a01f-7a881ca3662d"
      },
      "outputs": [
        {
          "data": {
            "text/plain": [
              "[<matplotlib.lines.Line2D at 0x7f59e018bd30>]"
            ]
          },
          "execution_count": 16,
          "metadata": {},
          "output_type": "execute_result"
        },
        {
          "data": {
            "image/png": "[encoded data removed]",
            "text/plain": [
              "<Figure size 640x480 with 1 Axes>"
            ]
          },
          "metadata": {},
          "output_type": "display_data"
        }
      ],
      "source": [
        "plt.plot(history.history['accuracy'])\n",
        "plt.plot(history.history['val_accuracy'])\n"
      ]
    },
    {
      "cell_type": "markdown",
      "metadata": {
        "id": "VIdZfJfW9mqN"
      },
      "source": [
        "## **Proposed CNN Model**"
      ]
    },
    {
      "cell_type": "code",
      "execution_count": null,
      "metadata": {
        "id": "TDIqTxFWPPbK"
      },
      "outputs": [],
      "source": [
        "model=Sequential()\n",
        "\n",
        "   \n",
        "model.add(Conv2D(filters=64, kernel_size = (3,3), activation='relu', input_shape=(28,28,1)))\n",
        "model.add(BatchNormalization())\n",
        "model.add(Conv2D(filters=64, kernel_size = (3,3), activation='relu'))\n",
        "model.add(BatchNormalization())\n",
        "model.add(Dropout(0.4))\n",
        "\n",
        "model.add(Conv2D(filters=128, kernel_size = (3,3), activation='relu'))\n",
        "model.add(BatchNormalization())\n",
        "model.add(Conv2D(filters=128, kernel_size = (3,3), activation='relu'))\n",
        "model.add(BatchNormalization())   \n",
        "model.add(Dropout(0.4)) \n",
        "\n",
        "model.add(Conv2D(filters=256, kernel_size = (3,3), activation='relu'))\n",
        "model.add(BatchNormalization())\n",
        "model.add(Conv2D(filters=256, kernel_size = (3,3), activation='relu'))\n",
        "model.add(BatchNormalization())\n",
        "model.add(Dropout(0.4))\n",
        "    \n",
        "model.add(Flatten())\n",
        "model.add(Dense(128,activation='relu'))\n",
        "model.add(Dropout(0.2))\n",
        "model.add(Dense(64,activation='relu'))\n",
        "model.add(Dropout(0.3))\n",
        "model.add(Dense(10,activation='softmax'))\n",
        "    \n",
        "model.compile(optimizer='Adam',loss='sparse_categorical_crossentropy',metrics=['accuracy'])"
      ]
    },
    {
      "cell_type": "code",
      "execution_count": null,
      "metadata": {
        "colab": {
          "base_uri": "https://localhost:8080/"
        },
        "id": "VHFf5CFIPDt8",
        "outputId": "c7a88dad-a723-46de-d218-c87f04eb84f7"
      },
      "outputs": [
        {
          "output_type": "stream",
          "name": "stdout",
          "text": [
            "Model: \"sequential\"\n",
            "_________________________________________________________________\n",
            " Layer (type)                Output Shape              Param #   \n",
            "=================================================================\n",
            " conv2d (Conv2D)             (None, 26, 26, 64)        640       \n",
            "                                                                 \n",
            " batch_normalization (BatchN  (None, 26, 26, 64)       256       \n",
            " ormalization)                                                   \n",
            "                                                                 \n",
            " conv2d_1 (Conv2D)           (None, 24, 24, 64)        36928     \n",
            "                                                                 \n",
            " batch_normalization_1 (Batc  (None, 24, 24, 64)       256       \n",
            " hNormalization)                                                 \n",
            "                                                                 \n",
            " dropout (Dropout)           (None, 24, 24, 64)        0         \n",
            "                                                                 \n",
            " conv2d_2 (Conv2D)           (None, 22, 22, 128)       73856     \n",
            "                                                                 \n",
            " batch_normalization_2 (Batc  (None, 22, 22, 128)      512       \n",
            " hNormalization)                                                 \n",
            "                                                                 \n",
            " conv2d_3 (Conv2D)           (None, 20, 20, 128)       147584    \n",
            "                                                                 \n",
            " batch_normalization_3 (Batc  (None, 20, 20, 128)      512       \n",
            " hNormalization)                                                 \n",
            "                                                                 \n",
            " dropout_1 (Dropout)         (None, 20, 20, 128)       0         \n",
            "                                                                 \n",
            " conv2d_4 (Conv2D)           (None, 18, 18, 256)       295168    \n",
            "                                                                 \n",
            " batch_normalization_4 (Batc  (None, 18, 18, 256)      1024      \n",
            " hNormalization)                                                 \n",
            "                                                                 \n",
            " conv2d_5 (Conv2D)           (None, 16, 16, 256)       590080    \n",
            "                                                                 \n",
            " batch_normalization_5 (Batc  (None, 16, 16, 256)      1024      \n",
            " hNormalization)                                                 \n",
            "                                                                 \n",
            " dropout_2 (Dropout)         (None, 16, 16, 256)       0         \n",
            "                                                                 \n",
            " flatten (Flatten)           (None, 65536)             0         \n",
            "                                                                 \n",
            " dense (Dense)               (None, 128)               8388736   \n",
            "                                                                 \n",
            " dropout_3 (Dropout)         (None, 128)               0         \n",
            "                                                                 \n",
            " dense_1 (Dense)             (None, 64)                8256      \n",
            "                                                                 \n",
            " dropout_4 (Dropout)         (None, 64)                0         \n",
            "                                                                 \n",
            " dense_2 (Dense)             (None, 10)                650       \n",
            "                                                                 \n",
            "=================================================================\n",
            "Total params: 9,545,482\n",
            "Trainable params: 9,543,690\n",
            "Non-trainable params: 1,792\n",
            "_________________________________________________________________\n"
          ]
        }
      ],
      "source": [
        "model.summary()"
      ]
    },
    {
      "cell_type": "code",
      "execution_count": null,
      "metadata": {
        "colab": {
          "base_uri": "https://localhost:8080/"
        },
        "id": "iG0Dlvr2PLxY",
        "outputId": "7ee992db-6b81-4f28-d150-f365d276d482"
      },
      "outputs": [
        {
          "output_type": "stream",
          "name": "stdout",
          "text": [
            "Epoch 1/100\n",
            "375/375 [==============================] - 51s 82ms/step - loss: 0.4355 - accuracy: 0.9011 - val_loss: 0.1536 - val_accuracy: 0.9740\n",
            "Epoch 2/100\n",
            "375/375 [==============================] - 30s 80ms/step - loss: 0.1528 - accuracy: 0.9650 - val_loss: 0.0971 - val_accuracy: 0.9814\n",
            "Epoch 3/100\n",
            "375/375 [==============================] - 31s 82ms/step - loss: 0.1113 - accuracy: 0.9734 - val_loss: 0.0526 - val_accuracy: 0.9865\n",
            "Epoch 4/100\n",
            "375/375 [==============================] - 31s 82ms/step - loss: 0.0783 - accuracy: 0.9801 - val_loss: 0.0483 - val_accuracy: 0.9887\n",
            "Epoch 5/100\n",
            "375/375 [==============================] - 31s 82ms/step - loss: 0.0699 - accuracy: 0.9822 - val_loss: 0.0629 - val_accuracy: 0.9862\n",
            "Epoch 6/100\n",
            "375/375 [==============================] - 30s 79ms/step - loss: 0.0624 - accuracy: 0.9838 - val_loss: 0.0611 - val_accuracy: 0.9852\n",
            "Epoch 7/100\n",
            "375/375 [==============================] - 30s 79ms/step - loss: 0.0558 - accuracy: 0.9861 - val_loss: 0.0570 - val_accuracy: 0.9857\n",
            "Epoch 8/100\n",
            "375/375 [==============================] - 32s 85ms/step - loss: 0.0490 - accuracy: 0.9866 - val_loss: 0.0467 - val_accuracy: 0.9899\n",
            "Epoch 9/100\n",
            "375/375 [==============================] - 30s 79ms/step - loss: 0.0463 - accuracy: 0.9878 - val_loss: 0.0446 - val_accuracy: 0.9892\n",
            "Epoch 10/100\n",
            "375/375 [==============================] - 30s 80ms/step - loss: 0.0351 - accuracy: 0.9907 - val_loss: 0.0477 - val_accuracy: 0.9898\n",
            "Epoch 11/100\n",
            "375/375 [==============================] - 30s 79ms/step - loss: 0.0447 - accuracy: 0.9885 - val_loss: 0.0453 - val_accuracy: 0.9888\n",
            "Epoch 12/100\n",
            "375/375 [==============================] - 31s 82ms/step - loss: 0.0360 - accuracy: 0.9902 - val_loss: 0.0466 - val_accuracy: 0.9898\n",
            "Epoch 13/100\n",
            "375/375 [==============================] - 30s 79ms/step - loss: 0.0413 - accuracy: 0.9893 - val_loss: 0.0437 - val_accuracy: 0.9900\n",
            "Epoch 14/100\n",
            "375/375 [==============================] - 31s 82ms/step - loss: 0.0376 - accuracy: 0.9899 - val_loss: 0.0497 - val_accuracy: 0.9901\n",
            "Epoch 15/100\n",
            "375/375 [==============================] - 31s 82ms/step - loss: 0.0309 - accuracy: 0.9913 - val_loss: 0.0526 - val_accuracy: 0.9887\n",
            "Epoch 16/100\n",
            "375/375 [==============================] - 30s 79ms/step - loss: 0.0304 - accuracy: 0.9915 - val_loss: 0.0442 - val_accuracy: 0.9908\n",
            "Epoch 17/100\n",
            "375/375 [==============================] - 30s 79ms/step - loss: 0.0237 - accuracy: 0.9935 - val_loss: 0.0756 - val_accuracy: 0.9873\n",
            "Epoch 18/100\n",
            "375/375 [==============================] - 31s 82ms/step - loss: 0.0331 - accuracy: 0.9912 - val_loss: 0.0456 - val_accuracy: 0.9913\n",
            "Epoch 19/100\n",
            "375/375 [==============================] - 29s 79ms/step - loss: 0.0275 - accuracy: 0.9926 - val_loss: 0.0548 - val_accuracy: 0.9884\n",
            "Epoch 20/100\n",
            "375/375 [==============================] - 29s 78ms/step - loss: 0.0256 - accuracy: 0.9930 - val_loss: 0.0671 - val_accuracy: 0.9860\n",
            "Epoch 21/100\n",
            "375/375 [==============================] - 31s 82ms/step - loss: 0.0232 - accuracy: 0.9940 - val_loss: 0.0506 - val_accuracy: 0.9894\n",
            "Epoch 22/100\n",
            "375/375 [==============================] - 29s 78ms/step - loss: 0.0161 - accuracy: 0.9950 - val_loss: 0.0471 - val_accuracy: 0.9915\n",
            "Epoch 23/100\n",
            "375/375 [==============================] - 29s 78ms/step - loss: 0.0192 - accuracy: 0.9948 - val_loss: 0.0574 - val_accuracy: 0.9904\n",
            "Epoch 24/100\n",
            "375/375 [==============================] - 29s 78ms/step - loss: 0.0211 - accuracy: 0.9939 - val_loss: 0.0775 - val_accuracy: 0.9865\n",
            "Epoch 25/100\n",
            "375/375 [==============================] - 30s 79ms/step - loss: 0.0193 - accuracy: 0.9951 - val_loss: 0.0765 - val_accuracy: 0.9902\n",
            "Epoch 26/100\n",
            "375/375 [==============================] - 29s 78ms/step - loss: 0.0186 - accuracy: 0.9946 - val_loss: 0.0536 - val_accuracy: 0.9912\n",
            "Epoch 27/100\n",
            "375/375 [==============================] - 29s 78ms/step - loss: 0.0165 - accuracy: 0.9954 - val_loss: 0.0742 - val_accuracy: 0.9882\n",
            "Epoch 28/100\n",
            "375/375 [==============================] - 29s 78ms/step - loss: 0.0155 - accuracy: 0.9963 - val_loss: 0.0495 - val_accuracy: 0.9916\n",
            "Epoch 29/100\n",
            "375/375 [==============================] - 30s 81ms/step - loss: 0.0165 - accuracy: 0.9959 - val_loss: 0.0579 - val_accuracy: 0.9918\n",
            "Epoch 30/100\n",
            "375/375 [==============================] - 30s 81ms/step - loss: 0.0182 - accuracy: 0.9956 - val_loss: 0.0541 - val_accuracy: 0.9913\n",
            "Epoch 31/100\n",
            "375/375 [==============================] - 29s 79ms/step - loss: 0.0131 - accuracy: 0.9964 - val_loss: 0.0751 - val_accuracy: 0.9910\n",
            "Epoch 32/100\n",
            "375/375 [==============================] - 30s 81ms/step - loss: 0.0167 - accuracy: 0.9960 - val_loss: 0.0470 - val_accuracy: 0.9930\n",
            "Epoch 33/100\n",
            "375/375 [==============================] - 29s 78ms/step - loss: 0.0089 - accuracy: 0.9974 - val_loss: 0.0572 - val_accuracy: 0.9926\n",
            "Epoch 34/100\n",
            "375/375 [==============================] - 29s 78ms/step - loss: 0.0084 - accuracy: 0.9977 - val_loss: 0.0654 - val_accuracy: 0.9921\n",
            "Epoch 35/100\n",
            "375/375 [==============================] - 30s 81ms/step - loss: 0.0130 - accuracy: 0.9968 - val_loss: 0.0647 - val_accuracy: 0.9908\n",
            "Epoch 36/100\n",
            "375/375 [==============================] - 31s 81ms/step - loss: 0.0122 - accuracy: 0.9969 - val_loss: 0.0584 - val_accuracy: 0.9917\n",
            "Epoch 37/100\n",
            "375/375 [==============================] - 29s 79ms/step - loss: 0.0159 - accuracy: 0.9961 - val_loss: 0.0649 - val_accuracy: 0.9912\n",
            "Epoch 38/100\n",
            "375/375 [==============================] - 31s 81ms/step - loss: 0.0067 - accuracy: 0.9980 - val_loss: 0.0684 - val_accuracy: 0.9926\n",
            "Epoch 39/100\n",
            "375/375 [==============================] - 31s 81ms/step - loss: 0.0088 - accuracy: 0.9977 - val_loss: 0.0705 - val_accuracy: 0.9937\n",
            "Epoch 40/100\n",
            "375/375 [==============================] - 29s 79ms/step - loss: 0.0103 - accuracy: 0.9975 - val_loss: 0.0665 - val_accuracy: 0.9933\n",
            "Epoch 41/100\n",
            "375/375 [==============================] - 30s 81ms/step - loss: 0.0117 - accuracy: 0.9974 - val_loss: 0.0624 - val_accuracy: 0.9930\n",
            "Epoch 42/100\n",
            "375/375 [==============================] - 29s 78ms/step - loss: 0.0102 - accuracy: 0.9975 - val_loss: 0.0566 - val_accuracy: 0.9934\n",
            "Epoch 43/100\n",
            "375/375 [==============================] - 29s 78ms/step - loss: 0.0099 - accuracy: 0.9977 - val_loss: 0.0631 - val_accuracy: 0.9921\n",
            "Epoch 44/100\n",
            "375/375 [==============================] - 29s 78ms/step - loss: 0.0091 - accuracy: 0.9979 - val_loss: 0.0618 - val_accuracy: 0.9928\n",
            "Epoch 45/100\n",
            "375/375 [==============================] - 31s 81ms/step - loss: 0.0061 - accuracy: 0.9985 - val_loss: 0.0742 - val_accuracy: 0.9931\n",
            "Epoch 46/100\n",
            "375/375 [==============================] - 29s 78ms/step - loss: 0.0099 - accuracy: 0.9974 - val_loss: 0.0770 - val_accuracy: 0.9924\n",
            "Epoch 47/100\n",
            "375/375 [==============================] - 29s 78ms/step - loss: 0.0128 - accuracy: 0.9974 - val_loss: 0.0671 - val_accuracy: 0.9920\n",
            "Epoch 48/100\n",
            "375/375 [==============================] - 29s 78ms/step - loss: 0.0108 - accuracy: 0.9976 - val_loss: 0.0677 - val_accuracy: 0.9932\n",
            "Epoch 49/100\n",
            "375/375 [==============================] - 29s 78ms/step - loss: 0.0099 - accuracy: 0.9978 - val_loss: 0.0688 - val_accuracy: 0.9915\n",
            "Epoch 50/100\n",
            "375/375 [==============================] - 31s 81ms/step - loss: 0.0069 - accuracy: 0.9983 - val_loss: 0.0763 - val_accuracy: 0.9927\n",
            "Epoch 51/100\n",
            "375/375 [==============================] - 31s 81ms/step - loss: 0.0127 - accuracy: 0.9974 - val_loss: 0.0952 - val_accuracy: 0.9923\n",
            "Epoch 52/100\n",
            "375/375 [==============================] - 31s 81ms/step - loss: 0.0086 - accuracy: 0.9980 - val_loss: 0.0803 - val_accuracy: 0.9932\n",
            "Epoch 53/100\n",
            "375/375 [==============================] - 31s 81ms/step - loss: 0.0075 - accuracy: 0.9985 - val_loss: 0.0819 - val_accuracy: 0.9923\n",
            "Epoch 54/100\n",
            "375/375 [==============================] - 30s 81ms/step - loss: 0.0055 - accuracy: 0.9984 - val_loss: 0.0878 - val_accuracy: 0.9919\n",
            "Epoch 55/100\n",
            "375/375 [==============================] - 30s 81ms/step - loss: 0.0082 - accuracy: 0.9980 - val_loss: 0.0757 - val_accuracy: 0.9918\n",
            "Epoch 56/100\n",
            "375/375 [==============================] - 29s 79ms/step - loss: 0.0113 - accuracy: 0.9977 - val_loss: 0.0803 - val_accuracy: 0.9921\n",
            "Epoch 57/100\n",
            "375/375 [==============================] - 30s 81ms/step - loss: 0.0081 - accuracy: 0.9980 - val_loss: 0.0919 - val_accuracy: 0.9918\n",
            "Epoch 58/100\n",
            "375/375 [==============================] - 30s 81ms/step - loss: 0.0078 - accuracy: 0.9982 - val_loss: 0.0744 - val_accuracy: 0.9929\n",
            "Epoch 59/100\n",
            "375/375 [==============================] - 29s 79ms/step - loss: 0.0093 - accuracy: 0.9984 - val_loss: 0.0966 - val_accuracy: 0.9903\n",
            "Epoch 60/100\n",
            "375/375 [==============================] - 30s 81ms/step - loss: 0.0078 - accuracy: 0.9980 - val_loss: 0.0796 - val_accuracy: 0.9927\n",
            "Epoch 61/100\n",
            "375/375 [==============================] - 29s 78ms/step - loss: 0.0053 - accuracy: 0.9986 - val_loss: 0.0821 - val_accuracy: 0.9933\n",
            "Epoch 62/100\n",
            "375/375 [==============================] - 30s 81ms/step - loss: 0.0063 - accuracy: 0.9984 - val_loss: 0.0792 - val_accuracy: 0.9924\n",
            "Epoch 63/100\n",
            "375/375 [==============================] - 30s 81ms/step - loss: 0.0052 - accuracy: 0.9988 - val_loss: 0.0885 - val_accuracy: 0.9927\n",
            "Epoch 64/100\n",
            "375/375 [==============================] - 29s 78ms/step - loss: 0.0085 - accuracy: 0.9983 - val_loss: 0.0885 - val_accuracy: 0.9917\n",
            "Epoch 65/100\n",
            "375/375 [==============================] - 29s 79ms/step - loss: 0.0070 - accuracy: 0.9984 - val_loss: 0.0903 - val_accuracy: 0.9919\n",
            "Epoch 66/100\n",
            "375/375 [==============================] - 29s 78ms/step - loss: 0.0104 - accuracy: 0.9981 - val_loss: 0.0862 - val_accuracy: 0.9923\n",
            "Epoch 67/100\n",
            "375/375 [==============================] - 31s 81ms/step - loss: 0.0068 - accuracy: 0.9983 - val_loss: 0.0828 - val_accuracy: 0.9925\n",
            "Epoch 68/100\n",
            "375/375 [==============================] - 31s 81ms/step - loss: 0.0048 - accuracy: 0.9987 - val_loss: 0.0844 - val_accuracy: 0.9921\n",
            "Epoch 69/100\n",
            "375/375 [==============================] - 29s 78ms/step - loss: 0.0080 - accuracy: 0.9984 - val_loss: 0.0783 - val_accuracy: 0.9923\n",
            "Epoch 70/100\n",
            "375/375 [==============================] - 29s 78ms/step - loss: 0.0058 - accuracy: 0.9985 - val_loss: 0.0713 - val_accuracy: 0.9934\n",
            "Epoch 71/100\n",
            "375/375 [==============================] - 30s 81ms/step - loss: 0.0049 - accuracy: 0.9988 - val_loss: 0.0964 - val_accuracy: 0.9934\n",
            "Epoch 72/100\n",
            "375/375 [==============================] - 29s 78ms/step - loss: 0.0077 - accuracy: 0.9986 - val_loss: 0.0831 - val_accuracy: 0.9927\n",
            "Epoch 73/100\n",
            "375/375 [==============================] - 29s 79ms/step - loss: 0.0054 - accuracy: 0.9989 - val_loss: 0.1052 - val_accuracy: 0.9925\n",
            "Epoch 74/100\n",
            "375/375 [==============================] - 29s 79ms/step - loss: 0.0058 - accuracy: 0.9987 - val_loss: 0.0823 - val_accuracy: 0.9932\n",
            "Epoch 75/100\n",
            "375/375 [==============================] - 31s 81ms/step - loss: 0.0083 - accuracy: 0.9985 - val_loss: 0.0910 - val_accuracy: 0.9916\n",
            "Epoch 76/100\n",
            "375/375 [==============================] - 31s 81ms/step - loss: 0.0073 - accuracy: 0.9985 - val_loss: 0.0822 - val_accuracy: 0.9926\n",
            "Epoch 77/100\n",
            "375/375 [==============================] - 31s 81ms/step - loss: 0.0079 - accuracy: 0.9984 - val_loss: 0.0830 - val_accuracy: 0.9911\n",
            "Epoch 78/100\n",
            "375/375 [==============================] - 30s 81ms/step - loss: 0.0071 - accuracy: 0.9985 - val_loss: 0.0857 - val_accuracy: 0.9935\n",
            "Epoch 79/100\n",
            "375/375 [==============================] - 29s 78ms/step - loss: 0.0025 - accuracy: 0.9994 - val_loss: 0.1034 - val_accuracy: 0.9923\n",
            "Epoch 80/100\n",
            "375/375 [==============================] - 31s 81ms/step - loss: 0.0041 - accuracy: 0.9989 - val_loss: 0.0939 - val_accuracy: 0.9931\n",
            "Epoch 81/100\n",
            "375/375 [==============================] - 30s 81ms/step - loss: 0.0073 - accuracy: 0.9983 - val_loss: 0.0960 - val_accuracy: 0.9908\n",
            "Epoch 82/100\n",
            "375/375 [==============================] - 31s 81ms/step - loss: 0.0110 - accuracy: 0.9981 - val_loss: 0.1004 - val_accuracy: 0.9918\n",
            "Epoch 83/100\n",
            "375/375 [==============================] - 29s 79ms/step - loss: 0.0066 - accuracy: 0.9987 - val_loss: 0.0942 - val_accuracy: 0.9926\n",
            "Epoch 84/100\n",
            "375/375 [==============================] - 31s 81ms/step - loss: 0.0039 - accuracy: 0.9992 - val_loss: 0.0931 - val_accuracy: 0.9931\n",
            "Epoch 85/100\n",
            "375/375 [==============================] - 29s 78ms/step - loss: 0.0041 - accuracy: 0.9991 - val_loss: 0.0896 - val_accuracy: 0.9929\n",
            "Epoch 86/100\n",
            "375/375 [==============================] - 29s 78ms/step - loss: 0.0033 - accuracy: 0.9994 - val_loss: 0.0915 - val_accuracy: 0.9933\n",
            "Epoch 87/100\n",
            "375/375 [==============================] - 29s 78ms/step - loss: 0.0059 - accuracy: 0.9990 - val_loss: 0.0798 - val_accuracy: 0.9929\n",
            "Epoch 88/100\n",
            "375/375 [==============================] - 30s 81ms/step - loss: 0.0078 - accuracy: 0.9985 - val_loss: 0.1025 - val_accuracy: 0.9918\n",
            "Epoch 89/100\n",
            "375/375 [==============================] - 29s 78ms/step - loss: 0.0092 - accuracy: 0.9985 - val_loss: 0.0840 - val_accuracy: 0.9931\n",
            "Epoch 90/100\n",
            "375/375 [==============================] - 29s 78ms/step - loss: 0.0043 - accuracy: 0.9990 - val_loss: 0.1055 - val_accuracy: 0.9921\n",
            "Epoch 91/100\n",
            "375/375 [==============================] - 30s 81ms/step - loss: 0.0047 - accuracy: 0.9990 - val_loss: 0.0876 - val_accuracy: 0.9923\n",
            "Epoch 92/100\n",
            "375/375 [==============================] - 30s 81ms/step - loss: 0.0058 - accuracy: 0.9987 - val_loss: 0.1083 - val_accuracy: 0.9908\n",
            "Epoch 93/100\n",
            "375/375 [==============================] - 29s 78ms/step - loss: 0.0080 - accuracy: 0.9987 - val_loss: 0.0725 - val_accuracy: 0.9937\n",
            "Epoch 94/100\n",
            "375/375 [==============================] - 30s 81ms/step - loss: 0.0041 - accuracy: 0.9992 - val_loss: 0.0871 - val_accuracy: 0.9933\n",
            "Epoch 95/100\n",
            "375/375 [==============================] - 30s 81ms/step - loss: 0.0043 - accuracy: 0.9990 - val_loss: 0.0745 - val_accuracy: 0.9934\n",
            "Epoch 96/100\n",
            "375/375 [==============================] - 30s 81ms/step - loss: 0.0046 - accuracy: 0.9990 - val_loss: 0.0773 - val_accuracy: 0.9935\n",
            "Epoch 97/100\n",
            "375/375 [==============================] - 30s 81ms/step - loss: 0.0050 - accuracy: 0.9990 - val_loss: 0.0802 - val_accuracy: 0.9919\n",
            "Epoch 98/100\n",
            "375/375 [==============================] - 30s 81ms/step - loss: 0.0060 - accuracy: 0.9987 - val_loss: 0.1601 - val_accuracy: 0.9921\n",
            "Epoch 99/100\n",
            "375/375 [==============================] - 30s 79ms/step - loss: 0.0067 - accuracy: 0.9986 - val_loss: 0.0978 - val_accuracy: 0.9927\n",
            "Epoch 100/100\n",
            "375/375 [==============================] - 29s 78ms/step - loss: 0.0055 - accuracy: 0.9990 - val_loss: 0.1034 - val_accuracy: 0.9936\n"
          ]
        }
      ],
      "source": [
        "history = model.fit(X_train,y_train,batch_size=128,epochs=100,verbose=1,validation_split=0.2)"
      ]
    },
    {
      "cell_type": "code",
      "execution_count": null,
      "metadata": {
        "colab": {
          "base_uri": "https://localhost:8080/"
        },
        "id": "WEGf282APbV0",
        "outputId": "8fe4d2c8-973c-4bfe-b858-4fb3d9332300"
      },
      "outputs": [
        {
          "output_type": "stream",
          "name": "stdout",
          "text": [
            "313/313 [==============================] - 2s 5ms/step\n"
          ]
        }
      ],
      "source": [
        "y_pred = model.predict(X_test)\n",
        "y_pred = y_pred.argmax(axis=-1)"
      ]
    },
    {
      "cell_type": "code",
      "execution_count": null,
      "metadata": {
        "colab": {
          "base_uri": "https://localhost:8080/"
        },
        "id": "_duKL_CSQLZM",
        "outputId": "56b89853-f46c-4745-e7db-282239822ffc"
      },
      "outputs": [
        {
          "output_type": "stream",
          "name": "stdout",
          "text": [
            "              precision    recall  f1-score   support\n",
            "\n",
            "           0       1.00      1.00      1.00       980\n",
            "           1       1.00      1.00      1.00      1135\n",
            "           2       0.99      1.00      0.99      1032\n",
            "           3       1.00      0.99      0.99      1010\n",
            "           4       1.00      1.00      1.00       982\n",
            "           5       0.99      1.00      0.99       892\n",
            "           6       1.00      0.99      0.99       958\n",
            "           7       0.99      0.99      0.99      1028\n",
            "           8       1.00      1.00      1.00       974\n",
            "           9       0.99      0.99      0.99      1009\n",
            "\n",
            "    accuracy                           0.99     10000\n",
            "   macro avg       0.99      0.99      0.99     10000\n",
            "weighted avg       0.99      0.99      0.99     10000\n",
            "\n",
            "[[ 976    0    0    0    0    0    1    2    1    0]\n",
            " [   0 1131    0    0    0    0    2    2    0    0]\n",
            " [   0    0 1028    0    0    0    0    4    0    0]\n",
            " [   0    1    1 1001    0    6    0    1    0    0]\n",
            " [   0    0    0    0  978    0    0    0    0    4]\n",
            " [   0    0    0    2    0  888    1    1    0    0]\n",
            " [   2    1    1    0    0    3  951    0    0    0]\n",
            " [   0    2    3    0    0    0    0 1022    0    1]\n",
            " [   1    0    1    0    0    1    0    0  970    1]\n",
            " [   0    0    2    0    4    3    0    1    3  996]]\n",
            "\n",
            "\n",
            "Accuracy of CNN: 99.41 \n",
            "\n"
          ]
        }
      ],
      "source": [
        "print(classification_report(y_test, y_pred))\n",
        "print(confusion_matrix(y_test, y_pred))\n",
        "dt_acc_score = accuracy_score(y_test, y_pred)\n",
        "print('\\n')\n",
        "print(\"Accuracy of CNN:\",dt_acc_score*100,'\\n')"
      ]
    },
    {
      "cell_type": "code",
      "execution_count": null,
      "metadata": {
        "colab": {
          "base_uri": "https://localhost:8080/",
          "height": 447
        },
        "id": "usIWEgzxQQ4c",
        "outputId": "8d4a3a52-9276-4b38-f48c-0aa536ab0cc6"
      },
      "outputs": [
        {
          "output_type": "execute_result",
          "data": {
            "text/plain": [
              "[<matplotlib.lines.Line2D at 0x7f3549259190>]"
            ]
          },
          "metadata": {},
          "execution_count": 8
        },
        {
          "output_type": "display_data",
          "data": {
            "text/plain": [
              "<Figure size 640x480 with 1 Axes>"
            ],
            "image/png": "[encoded data removed]"
          },
          "metadata": {}
        }
      ],
      "source": [
        "import matplotlib.pyplot as plt\n",
        "\n",
        "plt.plot(history.history['loss'])\n",
        "plt.plot(history.history['val_loss'])"
      ]
    },
    {
      "cell_type": "code",
      "execution_count": null,
      "metadata": {
        "colab": {
          "base_uri": "https://localhost:8080/",
          "height": 447
        },
        "id": "SMqQkTIpQqwV",
        "outputId": "37bce729-7204-483b-f35f-f0fe0e088e7f"
      },
      "outputs": [
        {
          "output_type": "execute_result",
          "data": {
            "text/plain": [
              "[<matplotlib.lines.Line2D at 0x7f35ac5f3d30>]"
            ]
          },
          "metadata": {},
          "execution_count": 9
        },
        {
          "output_type": "display_data",
          "data": {
            "text/plain": [
              "<Figure size 640x480 with 1 Axes>"
            ],
            "image/png": "[encoded data removed]"
          },
          "metadata": {}
        }
      ],
      "source": [
        "plt.plot(history.history['accuracy'])\n",
        "plt.plot(history.history['val_accuracy'])\n"
      ]
    },
    {
      "cell_type": "code",
      "execution_count": null,
      "metadata": {
        "colab": {
          "base_uri": "https://localhost:8080/",
          "height": 447
        },
        "id": "eADwMnfYQs5b",
        "outputId": "f535df83-22d2-45a7-a6c9-5628ef6051d9"
      },
      "outputs": [
        {
          "output_type": "execute_result",
          "data": {
            "text/plain": [
              "(91.65, 100.31)"
            ]
          },
          "metadata": {},
          "execution_count": 10
        },
        {
          "output_type": "display_data",
          "data": {
            "text/plain": [
              "<Figure size 640x480 with 1 Axes>"
            ],
            "image/png": "[encoded data removed]"
          },
          "metadata": {}
        }
      ],
      "source": [
        "data = {'KNN':96.65,'Random_Forest':96.67,'ANN':97.74,'Proposed System(CNN)':99.41}\n",
        "plt.bar(data.keys(),data.values(),width=0.4)\n",
        "max_y_lim = max(data.values()) + .9\n",
        "min_y_lim = min(data.values())-5\n",
        "plt.ylim(min_y_lim, max_y_lim)"
      ]
    },
    {
      "cell_type": "code",
      "execution_count": null,
      "metadata": {
        "id": "p2n2vnnHB7AT"
      },
      "outputs": [],
      "source": []
    }
  ],
  "metadata": {
    "accelerator": "GPU",
    "colab": {
      "provenance": []
    },
    "gpuClass": "standard",
    "kernelspec": {
      "display_name": "Python 3",
      "name": "python3"
    },
    "language_info": {
      "name": "python"
    }
  },
  "nbformat": 4,
  "nbformat_minor": 0
}