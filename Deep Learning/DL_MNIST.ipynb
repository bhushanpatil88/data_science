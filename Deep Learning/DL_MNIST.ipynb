{
  "nbformat": 4,
  "nbformat_minor": 0,
  "metadata": {
    "colab": {
      "provenance": []
    },
    "kernelspec": {
      "name": "python3",
      "display_name": "Python 3"
    },
    "language_info": {
      "name": "python"
    },
    "accelerator": "GPU",
    "gpuClass": "standard"
  },
  "cells": [
    {
      "cell_type": "code",
      "execution_count": 8,
      "metadata": {
        "id": "ijALFow-MtgK"
      },
      "outputs": [],
      "source": [
        "import tensorflow as tf\n",
        "from tensorflow import keras\n",
        "from tensorflow.keras import Sequential\n",
        "from tensorflow.keras.layers import Dense,Flatten,Dropout,BatchNormalization,Conv2D\n",
        "\n",
        "\n",
        "import numpy as np\n",
        "import pandas as pd\n",
        "import matplotlib.pyplot as plt\n",
        "import seaborn as sns\n",
        "from sklearn.ensemble import RandomForestClassifier \n",
        "from sklearn.metrics import classification_report, confusion_matrix,accuracy_score\n",
        "\n",
        "%matplotlib inline "
      ]
    },
    {
      "cell_type": "code",
      "source": [
        "(X_train,y_train),(X_test,y_test) = keras.datasets.mnist.load_data()"
      ],
      "metadata": {
        "colab": {
          "base_uri": "https://localhost:8080/"
        },
        "id": "nawYG8LTM3bU",
        "outputId": "1f5bb611-27fa-4f9a-8be2-3e5356d61a3e"
      },
      "execution_count": 3,
      "outputs": [
        {
          "output_type": "stream",
          "name": "stdout",
          "text": [
            "Downloading data from https://storage.googleapis.com/tensorflow/tf-keras-datasets/mnist.npz\n",
            "11490434/11490434 [==============================] - 2s 0us/step\n"
          ]
        }
      ]
    },
    {
      "cell_type": "code",
      "source": [
        "X_train.shape,X_test.shape, y_train.shape, y_test.shape"
      ],
      "metadata": {
        "colab": {
          "base_uri": "https://localhost:8080/"
        },
        "id": "q-J8iQXJdjuq",
        "outputId": "c9c4f8c9-410e-4868-88ba-070f37f6e428"
      },
      "execution_count": 4,
      "outputs": [
        {
          "output_type": "execute_result",
          "data": {
            "text/plain": [
              "((60000, 28, 28), (10000, 28, 28), (60000,), (10000,))"
            ]
          },
          "metadata": {},
          "execution_count": 4
        }
      ]
    },
    {
      "cell_type": "markdown",
      "source": [
        "### **Display the Pixels**"
      ],
      "metadata": {
        "id": "9LXfWiYkgPd7"
      }
    },
    {
      "cell_type": "code",
      "source": [
        "fig, axs = plt.subplots(3, 3)\n",
        "cnt = 0\n",
        "for i in range(3):\n",
        "     for j in range(3):\n",
        "         axs[i, j].imshow(X_train[cnt])\n",
        "         cnt += 1"
      ],
      "metadata": {
        "colab": {
          "base_uri": "https://localhost:8080/",
          "height": 433
        },
        "id": "nheT9z63gNwa",
        "outputId": "f0775123-f0b7-41a5-980d-178289da33cf"
      },
      "execution_count": null,
      "outputs": [
        {
          "output_type": "display_data",
          "data": {
            "text/plain": [
              "<Figure size 640x480 with 9 Axes>"
            ],
            "image/png": "[encoded data removed]"
          },
          "metadata": {}
        }
      ]
    },
    {
      "cell_type": "markdown",
      "source": [
        "**Flatten and Normalize the pixels**"
      ],
      "metadata": {
        "id": "uSv0kv5UfzOU"
      }
    },
    {
      "cell_type": "code",
      "source": [
        "X_train = X_train.reshape(X_train.shape[0],28*28);\n",
        "X_test = X_test.reshape(X_test.shape[0],28*28);\n",
        "\n",
        "X_train = X_train/255\n",
        "X_test = X_test/255"
      ],
      "metadata": {
        "id": "OgEvjxfxM-5i"
      },
      "execution_count": null,
      "outputs": []
    },
    {
      "cell_type": "markdown",
      "source": [
        "**MNIST using Random Forest Classifier**"
      ],
      "metadata": {
        "id": "pIIqtlu6bZYc"
      }
    },
    {
      "cell_type": "code",
      "source": [
        "from sklearn.ensemble import RandomForestClassifier\n",
        "rf_classifier = RandomForestClassifier(n_estimators = 50, criterion = 'entropy', random_state = 0)\n",
        "rf_classifier.fit(X_train, y_train)\n",
        "y_pred = rf_classifier.predict(X_test)"
      ],
      "metadata": {
        "id": "5Ize0mAqbYSw"
      },
      "execution_count": null,
      "outputs": []
    },
    {
      "cell_type": "code",
      "source": [
        "print(classification_report(y_test, y_pred))\n",
        "print(confusion_matrix(y_test, y_pred))\n",
        "dt_acc_score = accuracy_score(y_test, y_pred)\n",
        "print('\\n')\n",
        "print(\"Accuracy of RandomForestClassifier:\",dt_acc_score*100,'\\n')"
      ],
      "metadata": {
        "colab": {
          "base_uri": "https://localhost:8080/"
        },
        "id": "KTHFiCtxhQcd",
        "outputId": "fb31e228-90eb-4c31-d194-61696d61f410"
      },
      "execution_count": null,
      "outputs": [
        {
          "output_type": "stream",
          "name": "stdout",
          "text": [
            "              precision    recall  f1-score   support\n",
            "\n",
            "           0       0.97      0.99      0.98       980\n",
            "           1       0.99      0.99      0.99      1135\n",
            "           2       0.96      0.97      0.96      1032\n",
            "           3       0.96      0.96      0.96      1010\n",
            "           4       0.98      0.97      0.97       982\n",
            "           5       0.97      0.96      0.97       892\n",
            "           6       0.97      0.97      0.97       958\n",
            "           7       0.97      0.96      0.96      1028\n",
            "           8       0.96      0.95      0.95       974\n",
            "           9       0.96      0.95      0.95      1009\n",
            "\n",
            "    accuracy                           0.97     10000\n",
            "   macro avg       0.97      0.97      0.97     10000\n",
            "weighted avg       0.97      0.97      0.97     10000\n",
            "\n",
            "[[ 968    1    0    0    0    4    4    1    2    0]\n",
            " [   0 1122    4    2    0    3    2    1    1    0]\n",
            " [   6    0  999    5    2    1    4   10    5    0]\n",
            " [   1    0   10  965    0    9    1   11   10    3]\n",
            " [   1    0    1    0  952    0    5    2    4   17]\n",
            " [   4    0    0   13    1  858    7    1    6    2]\n",
            " [   8    3    1    0    4    3  934    0    5    0]\n",
            " [   1    6   22    1    1    0    0  984    4    9]\n",
            " [   5    0    6    6    4    6    5    3  927   12]\n",
            " [   6    5    1   14   12    2    1    3    6  959]]\n",
            "\n",
            "\n",
            "Accuracy of RandomForestClassifier: 96.67999999999999 \n",
            "\n"
          ]
        }
      ]
    },
    {
      "cell_type": "markdown",
      "source": [
        "**Classification using ANN**"
      ],
      "metadata": {
        "id": "Xj2xhdpqh3a8"
      }
    },
    {
      "cell_type": "code",
      "source": [
        "model = Sequential()\n",
        "\n",
        "model.add(Flatten(input_shape=(28,28)))\n",
        "model.add(Dense(128,activation='relu'))\n",
        "model.add(Dense(32,activation='relu'))\n",
        "model.add(Dense(10,activation='softmax'))"
      ],
      "metadata": {
        "id": "T1N3uMk_NALJ"
      },
      "execution_count": null,
      "outputs": []
    },
    {
      "cell_type": "code",
      "source": [
        "model.summary()"
      ],
      "metadata": {
        "colab": {
          "base_uri": "https://localhost:8080/"
        },
        "id": "lU1dP2QTNKJL",
        "outputId": "f1ab38ca-ee41-45b0-9094-1e8ce5d7c5f3"
      },
      "execution_count": null,
      "outputs": [
        {
          "output_type": "stream",
          "name": "stdout",
          "text": [
            "Model: \"sequential\"\n",
            "_________________________________________________________________\n",
            " Layer (type)                Output Shape              Param #   \n",
            "=================================================================\n",
            " flatten (Flatten)           (None, 784)               0         \n",
            "                                                                 \n",
            " dense (Dense)               (None, 128)               100480    \n",
            "                                                                 \n",
            " dense_1 (Dense)             (None, 32)                4128      \n",
            "                                                                 \n",
            " dense_2 (Dense)             (None, 10)                330       \n",
            "                                                                 \n",
            "=================================================================\n",
            "Total params: 104,938\n",
            "Trainable params: 104,938\n",
            "Non-trainable params: 0\n",
            "_________________________________________________________________\n"
          ]
        }
      ]
    },
    {
      "cell_type": "code",
      "source": [
        "model.compile(optimizer='Adam',loss='sparse_categorical_crossentropy',metrics=['accuracy'])"
      ],
      "metadata": {
        "id": "QB3sNQe_NMpS"
      },
      "execution_count": null,
      "outputs": []
    },
    {
      "cell_type": "code",
      "source": [
        "X_train = X_train.reshape([X_train.shape[0],28,28])\n",
        "X_test = X_test.reshape([X_test.shape[0],28,28])\n",
        "X_train.shape,X_test.shape, y_train.shape, y_test.shape\n"
      ],
      "metadata": {
        "colab": {
          "base_uri": "https://localhost:8080/"
        },
        "id": "OIAU1V6fiF14",
        "outputId": "5522878d-e564-4a9a-daa8-6ef5406133b3"
      },
      "execution_count": null,
      "outputs": [
        {
          "output_type": "execute_result",
          "data": {
            "text/plain": [
              "((60000, 28, 28), (10000, 28, 28), (60000,), (10000,))"
            ]
          },
          "metadata": {},
          "execution_count": 11
        }
      ]
    },
    {
      "cell_type": "code",
      "source": [
        "history = model.fit(X_train,y_train,batch_size=100,epochs=25,verbose=1,validation_split=0.2)"
      ],
      "metadata": {
        "colab": {
          "base_uri": "https://localhost:8080/"
        },
        "id": "MdYcI5q5NOrp",
        "outputId": "c2069eb7-5e27-4c84-f893-0bcaf2df8640"
      },
      "execution_count": null,
      "outputs": [
        {
          "output_type": "stream",
          "name": "stdout",
          "text": [
            "Epoch 1/25\n",
            "480/480 [==============================] - 10s 7ms/step - loss: 0.3829 - accuracy: 0.8902 - val_loss: 0.1832 - val_accuracy: 0.9486\n",
            "Epoch 2/25\n",
            "480/480 [==============================] - 3s 6ms/step - loss: 0.1607 - accuracy: 0.9531 - val_loss: 0.1444 - val_accuracy: 0.9567\n",
            "Epoch 3/25\n",
            "480/480 [==============================] - 4s 8ms/step - loss: 0.1154 - accuracy: 0.9656 - val_loss: 0.1247 - val_accuracy: 0.9625\n",
            "Epoch 4/25\n",
            "480/480 [==============================] - 3s 6ms/step - loss: 0.0868 - accuracy: 0.9743 - val_loss: 0.1163 - val_accuracy: 0.9642\n",
            "Epoch 5/25\n",
            "480/480 [==============================] - 3s 6ms/step - loss: 0.0713 - accuracy: 0.9788 - val_loss: 0.1076 - val_accuracy: 0.9679\n",
            "Epoch 6/25\n",
            "480/480 [==============================] - 2s 5ms/step - loss: 0.0584 - accuracy: 0.9827 - val_loss: 0.1004 - val_accuracy: 0.9713\n",
            "Epoch 7/25\n",
            "480/480 [==============================] - 2s 4ms/step - loss: 0.0459 - accuracy: 0.9865 - val_loss: 0.0993 - val_accuracy: 0.9707\n",
            "Epoch 8/25\n",
            "480/480 [==============================] - 2s 4ms/step - loss: 0.0386 - accuracy: 0.9882 - val_loss: 0.0958 - val_accuracy: 0.9717\n",
            "Epoch 9/25\n",
            "480/480 [==============================] - 2s 3ms/step - loss: 0.0324 - accuracy: 0.9899 - val_loss: 0.0954 - val_accuracy: 0.9731\n",
            "Epoch 10/25\n",
            "480/480 [==============================] - 2s 3ms/step - loss: 0.0277 - accuracy: 0.9913 - val_loss: 0.0932 - val_accuracy: 0.9742\n",
            "Epoch 11/25\n",
            "480/480 [==============================] - 2s 3ms/step - loss: 0.0222 - accuracy: 0.9933 - val_loss: 0.1034 - val_accuracy: 0.9732\n",
            "Epoch 12/25\n",
            "480/480 [==============================] - 2s 3ms/step - loss: 0.0200 - accuracy: 0.9939 - val_loss: 0.1022 - val_accuracy: 0.9743\n",
            "Epoch 13/25\n",
            "480/480 [==============================] - 2s 3ms/step - loss: 0.0158 - accuracy: 0.9956 - val_loss: 0.1012 - val_accuracy: 0.9729\n",
            "Epoch 14/25\n",
            "480/480 [==============================] - 2s 3ms/step - loss: 0.0144 - accuracy: 0.9958 - val_loss: 0.1052 - val_accuracy: 0.9732\n",
            "Epoch 15/25\n",
            "480/480 [==============================] - 2s 5ms/step - loss: 0.0105 - accuracy: 0.9974 - val_loss: 0.1047 - val_accuracy: 0.9749\n",
            "Epoch 16/25\n",
            "480/480 [==============================] - 2s 3ms/step - loss: 0.0109 - accuracy: 0.9968 - val_loss: 0.1191 - val_accuracy: 0.9705\n",
            "Epoch 17/25\n",
            "480/480 [==============================] - 2s 4ms/step - loss: 0.0105 - accuracy: 0.9969 - val_loss: 0.1204 - val_accuracy: 0.9746\n",
            "Epoch 18/25\n",
            "480/480 [==============================] - 2s 3ms/step - loss: 0.0068 - accuracy: 0.9982 - val_loss: 0.1123 - val_accuracy: 0.9754\n",
            "Epoch 19/25\n",
            "480/480 [==============================] - 2s 3ms/step - loss: 0.0068 - accuracy: 0.9984 - val_loss: 0.1508 - val_accuracy: 0.9678\n",
            "Epoch 20/25\n",
            "480/480 [==============================] - 2s 4ms/step - loss: 0.0137 - accuracy: 0.9953 - val_loss: 0.1166 - val_accuracy: 0.9739\n",
            "Epoch 21/25\n",
            "480/480 [==============================] - 2s 3ms/step - loss: 0.0059 - accuracy: 0.9983 - val_loss: 0.1104 - val_accuracy: 0.9768\n",
            "Epoch 22/25\n",
            "480/480 [==============================] - 2s 4ms/step - loss: 0.0021 - accuracy: 0.9997 - val_loss: 0.1155 - val_accuracy: 0.9764\n",
            "Epoch 23/25\n",
            "480/480 [==============================] - 2s 4ms/step - loss: 0.0016 - accuracy: 0.9999 - val_loss: 0.1184 - val_accuracy: 0.9758\n",
            "Epoch 24/25\n",
            "480/480 [==============================] - 2s 3ms/step - loss: 0.0019 - accuracy: 0.9996 - val_loss: 0.1466 - val_accuracy: 0.9707\n",
            "Epoch 25/25\n",
            "480/480 [==============================] - 2s 3ms/step - loss: 0.0214 - accuracy: 0.9927 - val_loss: 0.1259 - val_accuracy: 0.9749\n"
          ]
        }
      ]
    },
    {
      "cell_type": "code",
      "source": [
        "y_pred = model.predict(X_test)\n",
        "y_pred = y_pred.argmax(axis=-1)"
      ],
      "metadata": {
        "colab": {
          "base_uri": "https://localhost:8080/"
        },
        "id": "zP98gPSVNRYi",
        "outputId": "d059c451-cbde-4e7f-9154-47075f086309"
      },
      "execution_count": null,
      "outputs": [
        {
          "output_type": "stream",
          "name": "stdout",
          "text": [
            "313/313 [==============================] - 1s 2ms/step\n"
          ]
        }
      ]
    },
    {
      "cell_type": "code",
      "source": [
        "print(classification_report(y_test, y_pred))\n",
        "print(confusion_matrix(y_test, y_pred))\n",
        "dt_acc_score = accuracy_score(y_test, y_pred)\n",
        "print('\\n')\n",
        "print(\"Accuracy of ANN:\",dt_acc_score*100,'\\n')"
      ],
      "metadata": {
        "colab": {
          "base_uri": "https://localhost:8080/"
        },
        "id": "72jUPkErN1I8",
        "outputId": "bd37cb67-45bd-4506-9261-5a23b578fcff"
      },
      "execution_count": null,
      "outputs": [
        {
          "output_type": "stream",
          "name": "stdout",
          "text": [
            "              precision    recall  f1-score   support\n",
            "\n",
            "           0       0.98      0.99      0.99       980\n",
            "           1       0.98      0.99      0.99      1135\n",
            "           2       0.98      0.96      0.97      1032\n",
            "           3       0.97      0.98      0.98      1010\n",
            "           4       0.98      0.98      0.98       982\n",
            "           5       0.97      0.98      0.97       892\n",
            "           6       0.98      0.97      0.98       958\n",
            "           7       0.98      0.98      0.98      1028\n",
            "           8       0.96      0.97      0.96       974\n",
            "           9       0.98      0.95      0.97      1009\n",
            "\n",
            "    accuracy                           0.98     10000\n",
            "   macro avg       0.98      0.98      0.98     10000\n",
            "weighted avg       0.98      0.98      0.98     10000\n",
            "\n",
            "[[ 970    1    1    1    0    3    1    2    1    0]\n",
            " [   0 1125    1    0    0    2    3    1    3    0]\n",
            " [   3    5  995    6    2    0    2    5   14    0]\n",
            " [   0    1    1  991    0    5    0    3    6    3]\n",
            " [   1    1    8    1  960    0    2    1    1    7]\n",
            " [   1    0    1    6    1  873    4    0    2    4]\n",
            " [   5    5    0    1    5    6  933    0    2    1]\n",
            " [   0    7    6    2    2    0    0 1004    3    4]\n",
            " [   5    0    4    4    1    8    5    4  940    3]\n",
            " [   3    4    0    9   11    2    2    9    6  963]]\n",
            "\n",
            "\n",
            "Accuracy of ANN: 97.54 \n",
            "\n"
          ]
        }
      ]
    },
    {
      "cell_type": "code",
      "source": [
        "import matplotlib.pyplot as plt\n",
        "\n",
        "plt.plot(history.history['loss'])\n",
        "plt.plot(history.history['val_loss'])"
      ],
      "metadata": {
        "colab": {
          "base_uri": "https://localhost:8080/",
          "height": 451
        },
        "id": "5ycjIYbLN32h",
        "outputId": "feed587f-a9c3-4af1-ebe3-1d002d700e5c"
      },
      "execution_count": null,
      "outputs": [
        {
          "output_type": "execute_result",
          "data": {
            "text/plain": [
              "[<matplotlib.lines.Line2D at 0x7f59e023a6a0>]"
            ]
          },
          "metadata": {},
          "execution_count": 15
        },
        {
          "output_type": "display_data",
          "data": {
            "text/plain": [
              "<Figure size 640x480 with 1 Axes>"
            ],
            "image/png": "[encoded data removed]"
          },
          "metadata": {}
        }
      ]
    },
    {
      "cell_type": "code",
      "source": [
        "plt.plot(history.history['accuracy'])\n",
        "plt.plot(history.history['val_accuracy'])\n"
      ],
      "metadata": {
        "colab": {
          "base_uri": "https://localhost:8080/",
          "height": 447
        },
        "id": "5yqVRu4nPFrL",
        "outputId": "2af83c73-1029-4954-a01f-7a881ca3662d"
      },
      "execution_count": null,
      "outputs": [
        {
          "output_type": "execute_result",
          "data": {
            "text/plain": [
              "[<matplotlib.lines.Line2D at 0x7f59e018bd30>]"
            ]
          },
          "metadata": {},
          "execution_count": 16
        },
        {
          "output_type": "display_data",
          "data": {
            "text/plain": [
              "<Figure size 640x480 with 1 Axes>"
            ],
            "image/png": "[encoded data removed]"
          },
          "metadata": {}
        }
      ]
    },
    {
      "cell_type": "code",
      "source": [
        "model=Sequential()\n",
        "\n",
        "   \n",
        "model.add(Conv2D(filters=64, kernel_size = (3,3), activation='relu', input_shape=(28,28,1)))\n",
        "model.add(BatchNormalization())\n",
        "model.add(Conv2D(filters=64, kernel_size = (3,3), activation='relu'))\n",
        "model.add(BatchNormalization())\n",
        "model.add(Dropout(0.4))\n",
        "\n",
        "model.add(Conv2D(filters=128, kernel_size = (3,3), activation='relu'))\n",
        "model.add(BatchNormalization())\n",
        "model.add(Conv2D(filters=128, kernel_size = (3,3), activation='relu'))\n",
        "model.add(BatchNormalization())   \n",
        "model.add(Dropout(0.4)) \n",
        "\n",
        "model.add(Conv2D(filters=256, kernel_size = (3,3), activation='relu'))\n",
        "model.add(BatchNormalization())\n",
        "model.add(Conv2D(filters=256, kernel_size = (3,3), activation='relu'))\n",
        "model.add(BatchNormalization())\n",
        "model.add(Dropout(0.4))\n",
        "    \n",
        "model.add(Flatten())\n",
        "model.add(Dense(128,activation='relu'))\n",
        "model.add(Dropout(0.2))\n",
        "model.add(Dense(64,activation='relu'))\n",
        "model.add(Dropout(0.3))\n",
        "model.add(Dense(10,activation='softmax'))\n",
        "    \n",
        "model.compile(optimizer='Adam',loss='sparse_categorical_crossentropy',metrics=['accuracy'])"
      ],
      "metadata": {
        "id": "TDIqTxFWPPbK"
      },
      "execution_count": 29,
      "outputs": []
    },
    {
      "cell_type": "code",
      "source": [
        "model.summary()"
      ],
      "metadata": {
        "colab": {
          "base_uri": "https://localhost:8080/"
        },
        "id": "VHFf5CFIPDt8",
        "outputId": "885e4b8e-a85d-471b-b4cc-46a15bc1112f"
      },
      "execution_count": 30,
      "outputs": [
        {
          "output_type": "stream",
          "name": "stdout",
          "text": [
            "Model: \"sequential_6\"\n",
            "_________________________________________________________________\n",
            " Layer (type)                Output Shape              Param #   \n",
            "=================================================================\n",
            " conv2d_24 (Conv2D)          (None, 26, 26, 64)        640       \n",
            "                                                                 \n",
            " batch_normalization_14 (Bat  (None, 26, 26, 64)       256       \n",
            " chNormalization)                                                \n",
            "                                                                 \n",
            " conv2d_25 (Conv2D)          (None, 24, 24, 64)        36928     \n",
            "                                                                 \n",
            " batch_normalization_15 (Bat  (None, 24, 24, 64)       256       \n",
            " chNormalization)                                                \n",
            "                                                                 \n",
            " dropout_8 (Dropout)         (None, 24, 24, 64)        0         \n",
            "                                                                 \n",
            " conv2d_26 (Conv2D)          (None, 22, 22, 128)       73856     \n",
            "                                                                 \n",
            " batch_normalization_16 (Bat  (None, 22, 22, 128)      512       \n",
            " chNormalization)                                                \n",
            "                                                                 \n",
            " conv2d_27 (Conv2D)          (None, 20, 20, 128)       147584    \n",
            "                                                                 \n",
            " batch_normalization_17 (Bat  (None, 20, 20, 128)      512       \n",
            " chNormalization)                                                \n",
            "                                                                 \n",
            " dropout_9 (Dropout)         (None, 20, 20, 128)       0         \n",
            "                                                                 \n",
            " conv2d_28 (Conv2D)          (None, 18, 18, 256)       295168    \n",
            "                                                                 \n",
            " batch_normalization_18 (Bat  (None, 18, 18, 256)      1024      \n",
            " chNormalization)                                                \n",
            "                                                                 \n",
            " conv2d_29 (Conv2D)          (None, 16, 16, 256)       590080    \n",
            "                                                                 \n",
            " batch_normalization_19 (Bat  (None, 16, 16, 256)      1024      \n",
            " chNormalization)                                                \n",
            "                                                                 \n",
            " dropout_10 (Dropout)        (None, 16, 16, 256)       0         \n",
            "                                                                 \n",
            " flatten_4 (Flatten)         (None, 65536)             0         \n",
            "                                                                 \n",
            " dense_12 (Dense)            (None, 128)               8388736   \n",
            "                                                                 \n",
            " dropout_11 (Dropout)        (None, 128)               0         \n",
            "                                                                 \n",
            " dense_13 (Dense)            (None, 64)                8256      \n",
            "                                                                 \n",
            " dropout_12 (Dropout)        (None, 64)                0         \n",
            "                                                                 \n",
            " dense_14 (Dense)            (None, 10)                650       \n",
            "                                                                 \n",
            "=================================================================\n",
            "Total params: 9,545,482\n",
            "Trainable params: 9,543,690\n",
            "Non-trainable params: 1,792\n",
            "_________________________________________________________________\n"
          ]
        }
      ]
    },
    {
      "cell_type": "code",
      "source": [
        "history = model.fit(X_train,y_train,batch_size=100,epochs=25,verbose=1,validation_split=0.2)"
      ],
      "metadata": {
        "colab": {
          "base_uri": "https://localhost:8080/"
        },
        "id": "iG0Dlvr2PLxY",
        "outputId": "5617db33-d155-44f6-9357-c88253b945ff"
      },
      "execution_count": 31,
      "outputs": [
        {
          "output_type": "stream",
          "name": "stdout",
          "text": [
            "Epoch 1/25\n",
            "480/480 [==============================] - 36s 65ms/step - loss: 0.4592 - accuracy: 0.8959 - val_loss: 0.1805 - val_accuracy: 0.9694\n",
            "Epoch 2/25\n",
            "480/480 [==============================] - 32s 66ms/step - loss: 0.1611 - accuracy: 0.9627 - val_loss: 0.0744 - val_accuracy: 0.9821\n",
            "Epoch 3/25\n",
            "480/480 [==============================] - 30s 64ms/step - loss: 0.1135 - accuracy: 0.9729 - val_loss: 0.0925 - val_accuracy: 0.9794\n",
            "Epoch 4/25\n",
            "480/480 [==============================] - 32s 66ms/step - loss: 0.0875 - accuracy: 0.9782 - val_loss: 0.0614 - val_accuracy: 0.9877\n",
            "Epoch 5/25\n",
            "480/480 [==============================] - 30s 64ms/step - loss: 0.0719 - accuracy: 0.9818 - val_loss: 0.0578 - val_accuracy: 0.9852\n",
            "Epoch 6/25\n",
            "480/480 [==============================] - 32s 66ms/step - loss: 0.0585 - accuracy: 0.9846 - val_loss: 0.0510 - val_accuracy: 0.9901\n",
            "Epoch 7/25\n",
            "480/480 [==============================] - 31s 64ms/step - loss: 0.0549 - accuracy: 0.9857 - val_loss: 0.0580 - val_accuracy: 0.9881\n",
            "Epoch 8/25\n",
            "480/480 [==============================] - 32s 66ms/step - loss: 0.0514 - accuracy: 0.9864 - val_loss: 0.0584 - val_accuracy: 0.9868\n",
            "Epoch 9/25\n",
            "480/480 [==============================] - 31s 64ms/step - loss: 0.0487 - accuracy: 0.9873 - val_loss: 0.0456 - val_accuracy: 0.9890\n",
            "Epoch 10/25\n",
            "480/480 [==============================] - 30s 63ms/step - loss: 0.0423 - accuracy: 0.9890 - val_loss: 0.0441 - val_accuracy: 0.9908\n",
            "Epoch 11/25\n",
            "480/480 [==============================] - 32s 66ms/step - loss: 0.0431 - accuracy: 0.9888 - val_loss: 0.0415 - val_accuracy: 0.9908\n",
            "Epoch 12/25\n",
            "480/480 [==============================] - 32s 66ms/step - loss: 0.0431 - accuracy: 0.9892 - val_loss: 0.0393 - val_accuracy: 0.9895\n",
            "Epoch 13/25\n",
            "480/480 [==============================] - 31s 64ms/step - loss: 0.0373 - accuracy: 0.9901 - val_loss: 0.0497 - val_accuracy: 0.9894\n",
            "Epoch 14/25\n",
            "480/480 [==============================] - 31s 65ms/step - loss: 0.0402 - accuracy: 0.9890 - val_loss: 0.0514 - val_accuracy: 0.9899\n",
            "Epoch 15/25\n",
            "480/480 [==============================] - 31s 65ms/step - loss: 0.0356 - accuracy: 0.9903 - val_loss: 0.0510 - val_accuracy: 0.9901\n",
            "Epoch 16/25\n",
            "480/480 [==============================] - 31s 65ms/step - loss: 0.0337 - accuracy: 0.9911 - val_loss: 0.0452 - val_accuracy: 0.9919\n",
            "Epoch 17/25\n",
            "480/480 [==============================] - 30s 63ms/step - loss: 0.0280 - accuracy: 0.9923 - val_loss: 0.0556 - val_accuracy: 0.9906\n",
            "Epoch 18/25\n",
            "480/480 [==============================] - 31s 65ms/step - loss: 0.0253 - accuracy: 0.9931 - val_loss: 0.0568 - val_accuracy: 0.9913\n",
            "Epoch 19/25\n",
            "480/480 [==============================] - 31s 65ms/step - loss: 0.0246 - accuracy: 0.9937 - val_loss: 0.0506 - val_accuracy: 0.9900\n",
            "Epoch 20/25\n",
            "480/480 [==============================] - 30s 63ms/step - loss: 0.0308 - accuracy: 0.9926 - val_loss: 0.0529 - val_accuracy: 0.9904\n",
            "Epoch 21/25\n",
            "480/480 [==============================] - 31s 65ms/step - loss: 0.0205 - accuracy: 0.9948 - val_loss: 0.0515 - val_accuracy: 0.9912\n",
            "Epoch 22/25\n",
            "480/480 [==============================] - 30s 63ms/step - loss: 0.0222 - accuracy: 0.9942 - val_loss: 0.0530 - val_accuracy: 0.9901\n",
            "Epoch 23/25\n",
            "480/480 [==============================] - 30s 63ms/step - loss: 0.0251 - accuracy: 0.9939 - val_loss: 0.0405 - val_accuracy: 0.9930\n",
            "Epoch 24/25\n",
            "480/480 [==============================] - 30s 63ms/step - loss: 0.0168 - accuracy: 0.9955 - val_loss: 0.0620 - val_accuracy: 0.9908\n",
            "Epoch 25/25\n",
            "480/480 [==============================] - 30s 63ms/step - loss: 0.0170 - accuracy: 0.9956 - val_loss: 0.0745 - val_accuracy: 0.9897\n"
          ]
        }
      ]
    },
    {
      "cell_type": "code",
      "source": [
        "y_pred = model.predict(X_test)\n",
        "y_pred = y_pred.argmax(axis=-1)"
      ],
      "metadata": {
        "colab": {
          "base_uri": "https://localhost:8080/"
        },
        "id": "WEGf282APbV0",
        "outputId": "7ead2292-ffb5-4bc0-a028-4b0578c9d8f8"
      },
      "execution_count": 34,
      "outputs": [
        {
          "output_type": "stream",
          "name": "stdout",
          "text": [
            "313/313 [==============================] - 2s 6ms/step\n"
          ]
        }
      ]
    },
    {
      "cell_type": "code",
      "source": [
        "print(classification_report(y_test, y_pred))\n",
        "print(confusion_matrix(y_test, y_pred))\n",
        "dt_acc_score = accuracy_score(y_test, y_pred)\n",
        "print('\\n')\n",
        "print(\"Accuracy of CNN:\",dt_acc_score*100,'\\n')"
      ],
      "metadata": {
        "colab": {
          "base_uri": "https://localhost:8080/"
        },
        "id": "_duKL_CSQLZM",
        "outputId": "bef789f0-1ece-4b03-be19-b3869b660f10"
      },
      "execution_count": 35,
      "outputs": [
        {
          "output_type": "stream",
          "name": "stdout",
          "text": [
            "              precision    recall  f1-score   support\n",
            "\n",
            "           0       0.98      1.00      0.99       980\n",
            "           1       1.00      1.00      1.00      1135\n",
            "           2       0.99      0.99      0.99      1032\n",
            "           3       0.99      1.00      1.00      1010\n",
            "           4       0.99      1.00      0.99       982\n",
            "           5       0.99      0.99      0.99       892\n",
            "           6       0.99      0.99      0.99       958\n",
            "           7       0.99      0.99      0.99      1028\n",
            "           8       1.00      0.99      1.00       974\n",
            "           9       1.00      0.98      0.99      1009\n",
            "\n",
            "    accuracy                           0.99     10000\n",
            "   macro avg       0.99      0.99      0.99     10000\n",
            "weighted avg       0.99      0.99      0.99     10000\n",
            "\n",
            "[[ 979    0    0    0    0    0    0    1    0    0]\n",
            " [   0 1131    0    1    0    0    2    1    0    0]\n",
            " [   3    0 1024    0    0    0    0    5    0    0]\n",
            " [   0    0    1 1006    0    2    0    1    0    0]\n",
            " [   0    0    0    0  979    0    0    0    0    3]\n",
            " [   1    0    0    4    0  884    2    1    0    0]\n",
            " [   3    1    0    0    3    1  949    0    1    0]\n",
            " [   1    3    6    0    3    0    0 1015    0    0]\n",
            " [   3    0    0    1    0    0    1    0  968    1]\n",
            " [   4    0    0    0    5    5    0    4    1  990]]\n",
            "\n",
            "\n",
            "Accuracy of CNN: 99.25 \n",
            "\n"
          ]
        }
      ]
    },
    {
      "cell_type": "code",
      "source": [
        "import matplotlib.pyplot as plt\n",
        "\n",
        "plt.plot(history.history['loss'])\n",
        "plt.plot(history.history['val_loss'])"
      ],
      "metadata": {
        "colab": {
          "base_uri": "https://localhost:8080/",
          "height": 447
        },
        "id": "usIWEgzxQQ4c",
        "outputId": "da702e29-a5ca-415b-90df-b7b7a96a7cf0"
      },
      "execution_count": 36,
      "outputs": [
        {
          "output_type": "execute_result",
          "data": {
            "text/plain": [
              "[<matplotlib.lines.Line2D at 0x7f0b30390250>]"
            ]
          },
          "metadata": {},
          "execution_count": 36
        },
        {
          "output_type": "display_data",
          "data": {
            "text/plain": [
              "<Figure size 640x480 with 1 Axes>"
            ],
            "image/png": "[encoded data removed]"
          },
          "metadata": {}
        }
      ]
    },
    {
      "cell_type": "code",
      "source": [
        "plt.plot(history.history['accuracy'])\n",
        "plt.plot(history.history['val_accuracy'])\n"
      ],
      "metadata": {
        "colab": {
          "base_uri": "https://localhost:8080/",
          "height": 450
        },
        "id": "SMqQkTIpQqwV",
        "outputId": "a1df5fb1-120f-4fec-b6cc-2624b6685387"
      },
      "execution_count": 37,
      "outputs": [
        {
          "output_type": "execute_result",
          "data": {
            "text/plain": [
              "[<matplotlib.lines.Line2D at 0x7f0b3029fac0>]"
            ]
          },
          "metadata": {},
          "execution_count": 37
        },
        {
          "output_type": "display_data",
          "data": {
            "text/plain": [
              "<Figure size 640x480 with 1 Axes>"
            ],
            "image/png": "[encoded data removed]"
          },
          "metadata": {}
        }
      ]
    },
    {
      "cell_type": "code",
      "source": [],
      "metadata": {
        "id": "eADwMnfYQs5b"
      },
      "execution_count": null,
      "outputs": []
    }
  ]
}