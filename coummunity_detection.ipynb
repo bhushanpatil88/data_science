{
  "nbformat": 4,
  "nbformat_minor": 0,
  "metadata": {
    "colab": {
      "provenance": []
    },
    "kernelspec": {
      "name": "python3",
      "display_name": "Python 3"
    },
    "language_info": {
      "name": "python"
    }
  },
  "cells": [
    {
      "cell_type": "code",
      "execution_count": null,
      "metadata": {
        "colab": {
          "base_uri": "https://localhost:8080/"
        },
        "id": "NmzbuxCWm8ba",
        "outputId": "a7235a81-97f5-454d-f6aa-005af6a16adc"
      },
      "outputs": [
        {
          "output_type": "stream",
          "name": "stdout",
          "text": [
            "Requirement already satisfied: networkx in /usr/local/lib/python3.10/dist-packages (3.2.1)\n"
          ]
        }
      ],
      "source": [
        "!pip install networkx"
      ]
    },
    {
      "cell_type": "code",
      "source": [
        "import networkx as nx"
      ],
      "metadata": {
        "id": "eiCyOnRCnFsh"
      },
      "execution_count": 1,
      "outputs": []
    },
    {
      "cell_type": "code",
      "source": [
        "def girvan_newman_community_detection(graph):\n",
        "    initial_components = nx.number_connected_components(graph)\n",
        "\n",
        "    while nx.number_connected_components(graph) <= initial_components:\n",
        "        edge_betweenness = nx.edge_betweenness_centrality(graph)\n",
        "        max_betweenness_edge = max(edge_betweenness, key=edge_betweenness.get)\n",
        "\n",
        "        graph.remove_edge(*max_betweenness_edge)\n",
        "\n",
        "    communities = list(nx.connected_components(graph))\n",
        "    for idx, comm in enumerate(communities):\n",
        "        print(f\"Community {idx + 1}: {comm}\")\n",
        "    return communities"
      ],
      "metadata": {
        "id": "A6EQ8LFBnG1N"
      },
      "execution_count": 43,
      "outputs": []
    },
    {
      "cell_type": "code",
      "source": [
        "!pip install python-louvain"
      ],
      "metadata": {
        "colab": {
          "base_uri": "https://localhost:8080/"
        },
        "id": "3VMp_GocFP-9",
        "outputId": "4fda19d2-3b74-4efb-a3fa-a485a7f9cfbb"
      },
      "execution_count": 21,
      "outputs": [
        {
          "output_type": "stream",
          "name": "stdout",
          "text": [
            "Requirement already satisfied: python-louvain in /usr/local/lib/python3.10/dist-packages (0.16)\n",
            "Requirement already satisfied: networkx in /usr/local/lib/python3.10/dist-packages (from python-louvain) (3.2.1)\n",
            "Requirement already satisfied: numpy in /usr/local/lib/python3.10/dist-packages (from python-louvain) (1.23.5)\n"
          ]
        }
      ]
    },
    {
      "cell_type": "code",
      "source": [
        "import community.community_louvain as community_louvain\n",
        "\n",
        "def louvain_community_detection(graph):\n",
        "\n",
        "    graph = graph.to_undirected()\n",
        "\n",
        "    partition = community_louvain.best_partition(graph)\n",
        "\n",
        "    communities = {}\n",
        "    for node, community_id in partition.items():\n",
        "        if community_id not in communities:\n",
        "            communities[community_id] = [node]\n",
        "        else:\n",
        "            communities[community_id].append(node)\n",
        "\n",
        "    for community_id, nodes in communities.items():\n",
        "        print(f\"Community {community_id + 1}: {nodes}\")\n",
        "    return communities"
      ],
      "metadata": {
        "id": "k-h62zDrn5St"
      },
      "execution_count": 44,
      "outputs": []
    },
    {
      "cell_type": "code",
      "source": [
        "import random\n",
        "\n",
        "def label_propagation(graph):\n",
        "    labels = {node: node for node in graph.nodes()}\n",
        "    is_stable = False\n",
        "\n",
        "    while not is_stable:\n",
        "        is_stable = True\n",
        "        nodes = list(graph.nodes())\n",
        "        random.shuffle(nodes)  # Shuffle node order for better convergence\n",
        "\n",
        "        for node in nodes:\n",
        "            neighbors = list(graph.neighbors(node))\n",
        "            if not neighbors:\n",
        "                continue\n",
        "\n",
        "            neighbor_labels = [labels[neighbor] for neighbor in neighbors]\n",
        "            most_common_label = max(set(neighbor_labels), key=neighbor_labels.count)\n",
        "\n",
        "            if labels[node] != most_common_label:\n",
        "                labels[node] = most_common_label\n",
        "                is_stable = False\n",
        "\n",
        "    return labels"
      ],
      "metadata": {
        "id": "cLMWhWGFhndJ"
      },
      "execution_count": 45,
      "outputs": []
    },
    {
      "cell_type": "code",
      "source": [
        "G = nx.karate_club_graph()\n",
        "for node,childs in G.adj.items():\n",
        "  for child,wt in childs.items():\n",
        "    print(f\"{node} -> {child} with weight {wt['weight']} \")"
      ],
      "metadata": {
        "colab": {
          "base_uri": "https://localhost:8080/"
        },
        "id": "ormoDvdYFDaD",
        "outputId": "561d0470-a2ea-46f2-9890-8d2478381b84"
      },
      "execution_count": 50,
      "outputs": [
        {
          "output_type": "stream",
          "name": "stdout",
          "text": [
            "0 -> 1 with weight 4 \n",
            "0 -> 2 with weight 5 \n",
            "0 -> 3 with weight 3 \n",
            "0 -> 4 with weight 3 \n",
            "0 -> 5 with weight 3 \n",
            "0 -> 6 with weight 3 \n",
            "0 -> 7 with weight 2 \n",
            "0 -> 8 with weight 2 \n",
            "0 -> 10 with weight 2 \n",
            "0 -> 11 with weight 3 \n",
            "0 -> 12 with weight 1 \n",
            "0 -> 13 with weight 3 \n",
            "0 -> 17 with weight 2 \n",
            "0 -> 19 with weight 2 \n",
            "0 -> 21 with weight 2 \n",
            "0 -> 31 with weight 2 \n",
            "1 -> 0 with weight 4 \n",
            "1 -> 2 with weight 6 \n",
            "1 -> 3 with weight 3 \n",
            "1 -> 7 with weight 4 \n",
            "1 -> 13 with weight 5 \n",
            "1 -> 17 with weight 1 \n",
            "1 -> 19 with weight 2 \n",
            "1 -> 21 with weight 2 \n",
            "1 -> 30 with weight 2 \n",
            "2 -> 0 with weight 5 \n",
            "2 -> 1 with weight 6 \n",
            "2 -> 3 with weight 3 \n",
            "2 -> 7 with weight 4 \n",
            "2 -> 8 with weight 5 \n",
            "2 -> 9 with weight 1 \n",
            "2 -> 13 with weight 3 \n",
            "2 -> 27 with weight 2 \n",
            "2 -> 28 with weight 2 \n",
            "2 -> 32 with weight 2 \n",
            "3 -> 0 with weight 3 \n",
            "3 -> 1 with weight 3 \n",
            "3 -> 2 with weight 3 \n",
            "3 -> 7 with weight 3 \n",
            "3 -> 12 with weight 3 \n",
            "3 -> 13 with weight 3 \n",
            "4 -> 0 with weight 3 \n",
            "4 -> 6 with weight 2 \n",
            "4 -> 10 with weight 3 \n",
            "5 -> 0 with weight 3 \n",
            "5 -> 6 with weight 5 \n",
            "5 -> 10 with weight 3 \n",
            "5 -> 16 with weight 3 \n",
            "6 -> 0 with weight 3 \n",
            "6 -> 4 with weight 2 \n",
            "6 -> 5 with weight 5 \n",
            "6 -> 16 with weight 3 \n",
            "7 -> 0 with weight 2 \n",
            "7 -> 1 with weight 4 \n",
            "7 -> 2 with weight 4 \n",
            "7 -> 3 with weight 3 \n",
            "8 -> 0 with weight 2 \n",
            "8 -> 2 with weight 5 \n",
            "8 -> 30 with weight 3 \n",
            "8 -> 32 with weight 3 \n",
            "8 -> 33 with weight 4 \n",
            "9 -> 2 with weight 1 \n",
            "9 -> 33 with weight 2 \n",
            "10 -> 0 with weight 2 \n",
            "10 -> 4 with weight 3 \n",
            "10 -> 5 with weight 3 \n",
            "11 -> 0 with weight 3 \n",
            "12 -> 0 with weight 1 \n",
            "12 -> 3 with weight 3 \n",
            "13 -> 0 with weight 3 \n",
            "13 -> 1 with weight 5 \n",
            "13 -> 2 with weight 3 \n",
            "13 -> 3 with weight 3 \n",
            "13 -> 33 with weight 3 \n",
            "14 -> 32 with weight 3 \n",
            "14 -> 33 with weight 2 \n",
            "15 -> 32 with weight 3 \n",
            "15 -> 33 with weight 4 \n",
            "16 -> 5 with weight 3 \n",
            "16 -> 6 with weight 3 \n",
            "17 -> 0 with weight 2 \n",
            "17 -> 1 with weight 1 \n",
            "18 -> 32 with weight 1 \n",
            "18 -> 33 with weight 2 \n",
            "19 -> 0 with weight 2 \n",
            "19 -> 1 with weight 2 \n",
            "19 -> 33 with weight 1 \n",
            "20 -> 32 with weight 3 \n",
            "20 -> 33 with weight 1 \n",
            "21 -> 0 with weight 2 \n",
            "21 -> 1 with weight 2 \n",
            "22 -> 32 with weight 2 \n",
            "22 -> 33 with weight 3 \n",
            "23 -> 25 with weight 5 \n",
            "23 -> 27 with weight 4 \n",
            "23 -> 29 with weight 3 \n",
            "23 -> 32 with weight 5 \n",
            "23 -> 33 with weight 4 \n",
            "24 -> 25 with weight 2 \n",
            "24 -> 27 with weight 3 \n",
            "24 -> 31 with weight 2 \n",
            "25 -> 23 with weight 5 \n",
            "25 -> 24 with weight 2 \n",
            "25 -> 31 with weight 7 \n",
            "26 -> 29 with weight 4 \n",
            "26 -> 33 with weight 2 \n",
            "27 -> 2 with weight 2 \n",
            "27 -> 23 with weight 4 \n",
            "27 -> 24 with weight 3 \n",
            "27 -> 33 with weight 4 \n",
            "28 -> 2 with weight 2 \n",
            "28 -> 31 with weight 2 \n",
            "28 -> 33 with weight 2 \n",
            "29 -> 23 with weight 3 \n",
            "29 -> 26 with weight 4 \n",
            "29 -> 32 with weight 4 \n",
            "29 -> 33 with weight 2 \n",
            "30 -> 1 with weight 2 \n",
            "30 -> 8 with weight 3 \n",
            "30 -> 32 with weight 3 \n",
            "30 -> 33 with weight 3 \n",
            "31 -> 0 with weight 2 \n",
            "31 -> 24 with weight 2 \n",
            "31 -> 25 with weight 7 \n",
            "31 -> 28 with weight 2 \n",
            "31 -> 32 with weight 4 \n",
            "31 -> 33 with weight 4 \n",
            "32 -> 2 with weight 2 \n",
            "32 -> 8 with weight 3 \n",
            "32 -> 14 with weight 3 \n",
            "32 -> 15 with weight 3 \n",
            "32 -> 18 with weight 1 \n",
            "32 -> 20 with weight 3 \n",
            "32 -> 22 with weight 2 \n",
            "32 -> 23 with weight 5 \n",
            "32 -> 29 with weight 4 \n",
            "32 -> 30 with weight 3 \n",
            "32 -> 31 with weight 4 \n",
            "32 -> 33 with weight 5 \n",
            "33 -> 8 with weight 4 \n",
            "33 -> 9 with weight 2 \n",
            "33 -> 13 with weight 3 \n",
            "33 -> 14 with weight 2 \n",
            "33 -> 15 with weight 4 \n",
            "33 -> 18 with weight 2 \n",
            "33 -> 19 with weight 1 \n",
            "33 -> 20 with weight 1 \n",
            "33 -> 23 with weight 4 \n",
            "33 -> 26 with weight 2 \n",
            "33 -> 27 with weight 4 \n",
            "33 -> 28 with weight 2 \n",
            "33 -> 29 with weight 2 \n",
            "33 -> 30 with weight 3 \n",
            "33 -> 31 with weight 4 \n",
            "33 -> 32 with weight 5 \n",
            "33 -> 22 with weight 3 \n"
          ]
        }
      ]
    },
    {
      "cell_type": "code",
      "source": [
        "results1  = girvan_newman_community_detection(G)\n",
        "print(results1)\n"
      ],
      "metadata": {
        "colab": {
          "base_uri": "https://localhost:8080/"
        },
        "id": "ZRz74rQcMR2M",
        "outputId": "377aa60b-1ca5-4b87-9dd7-6a6382790d7a"
      },
      "execution_count": 51,
      "outputs": [
        {
          "output_type": "stream",
          "name": "stdout",
          "text": [
            "Community 1: {0, 1, 3, 4, 5, 6, 7, 10, 11, 12, 13, 16, 17, 19, 21}\n",
            "Community 2: {2, 8, 9, 14, 15, 18, 20, 22, 23, 24, 25, 26, 27, 28, 29, 30, 31, 32, 33}\n",
            "[{0, 1, 3, 4, 5, 6, 7, 10, 11, 12, 13, 16, 17, 19, 21}, {2, 8, 9, 14, 15, 18, 20, 22, 23, 24, 25, 26, 27, 28, 29, 30, 31, 32, 33}]\n"
          ]
        }
      ]
    },
    {
      "cell_type": "code",
      "source": [
        "results2 = louvain_community_detection(G)\n",
        "print(results2)"
      ],
      "metadata": {
        "colab": {
          "base_uri": "https://localhost:8080/"
        },
        "id": "5wU8o41YMTpA",
        "outputId": "37160f4a-ef7d-42fb-ce07-95410be1c9bb"
      },
      "execution_count": 52,
      "outputs": [
        {
          "output_type": "stream",
          "name": "stdout",
          "text": [
            "Community 1: [0, 1, 3, 7, 11, 12, 13, 17, 19, 21]\n",
            "Community 2: [2, 8, 9, 14, 15, 18, 20, 22, 23, 26, 27, 28, 29, 30, 32, 33]\n",
            "Community 3: [4, 5, 6, 10, 16]\n",
            "Community 4: [24, 25, 31]\n",
            "{0: [0, 1, 3, 7, 11, 12, 13, 17, 19, 21], 1: [2, 8, 9, 14, 15, 18, 20, 22, 23, 26, 27, 28, 29, 30, 32, 33], 2: [4, 5, 6, 10, 16], 3: [24, 25, 31]}\n"
          ]
        }
      ]
    },
    {
      "cell_type": "code",
      "source": [
        "result3 = label_propagation(G)\n",
        "print(result3)"
      ],
      "metadata": {
        "id": "nJwTHU3ZMdSo",
        "colab": {
          "base_uri": "https://localhost:8080/"
        },
        "outputId": "1f2b7153-5425-4c74-99a6-8848618bf7cb"
      },
      "execution_count": 53,
      "outputs": [
        {
          "output_type": "stream",
          "name": "stdout",
          "text": [
            "{0: 0, 1: 0, 2: 32, 3: 0, 4: 0, 5: 0, 6: 0, 7: 0, 8: 32, 9: 32, 10: 0, 11: 0, 12: 0, 13: 0, 14: 32, 15: 32, 16: 0, 17: 0, 18: 32, 19: 0, 20: 32, 21: 0, 22: 32, 23: 32, 24: 32, 25: 32, 26: 32, 27: 32, 28: 32, 29: 32, 30: 32, 31: 32, 32: 32, 33: 32}\n"
          ]
        }
      ]
    },
    {
      "cell_type": "code",
      "source": [
        "import matplotlib.pyplot as plt\n",
        "pos = nx.spring_layout(G)\n",
        "colors = [result3[node] for node in G.nodes()]\n",
        "nx.draw(G, pos, node_color=colors, with_labels=True, cmap=plt.cm.Paired)\n",
        "plt.show()"
      ],
      "metadata": {
        "colab": {
          "base_uri": "https://localhost:8080/",
          "height": 516
        },
        "id": "_HFIwSZTh3f2",
        "outputId": "557530f1-1907-46d7-eec2-591de03e075d"
      },
      "execution_count": 54,
      "outputs": [
        {
          "output_type": "display_data",
          "data": {
            "text/plain": [
              "<Figure size 640x480 with 1 Axes>"
            ],
            "image/png": "[encoded data removed]"
          },
          "metadata": {}
        }
      ]
    },
    {
      "cell_type": "code",
      "source": [],
      "metadata": {
        "id": "NOryIXH3lyGU"
      },
      "execution_count": null,
      "outputs": []
    }
  ]
}